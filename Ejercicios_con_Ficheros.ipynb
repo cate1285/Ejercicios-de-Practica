{
  "nbformat": 4,
  "nbformat_minor": 0,
  "metadata": {
    "colab": {
      "name": "Ficheros",
      "provenance": [],
      "collapsed_sections": [],
      "authorship_tag": "ABX9TyPbsgRwBJrY6hNHkhJ4haY0",
      "include_colab_link": true
    },
    "kernelspec": {
      "name": "python3",
      "display_name": "Python 3"
    }
  },
  "cells": [
    {
      "cell_type": "markdown",
      "metadata": {
        "id": "view-in-github",
        "colab_type": "text"
      },
      "source": [
        "<a href=\"https://colab.research.google.com/github/cate1285/Catesecondtime/blob/main/Ficheros.ipynb\" target=\"_parent\"><img src=\"https://colab.research.google.com/assets/colab-badge.svg\" alt=\"Open In Colab\"/></a>"
      ]
    },
    {
      "cell_type": "markdown",
      "metadata": {
        "id": "ILZevD1NM327"
      },
      "source": [
        "Ejercicio\r\n",
        "Escribir una función que pida un número entero entre 1 y 10 y guarde en un fichero con el nombre tabla-n.txt la tabla de multiplicar de ese número, done n es el número introducido."
      ]
    },
    {
      "cell_type": "code",
      "metadata": {
        "colab": {
          "base_uri": "https://localhost:8080/"
        },
        "id": "lpvqBrOvM6gr",
        "outputId": "17cb825e-599a-4a03-ddef-5c6b74461097"
      },
      "source": [
        "numero=int(input(\"Ingrese un numero entre 1 y 10\"))\r\n",
        "tabla_name=\"tabla\"+str(numero)+\".txt\"\r\n",
        "f=open(tabla_name,\"w\")\r\n",
        "for i in range(1,11):\r\n",
        "    f.write(str(numero)+\"x\"+str(i)+\"=\"+str(numero*i)+\"\\n\")\r\n",
        "f.close()"
      ],
      "execution_count": 7,
      "outputs": [
        {
          "output_type": "stream",
          "text": [
            "Ingrese un numero entre 1 y 108\n"
          ],
          "name": "stdout"
        }
      ]
    },
    {
      "cell_type": "markdown",
      "metadata": {
        "id": "i4FbEWi2QE7A"
      },
      "source": [
        "Ejercicio\r\n",
        "Escribir una función que pida un número entero entre 1 y 10, lea el fichero tabla-n.txt con la tabla de multiplicar de ese número, done n es el número introducido, y la muestre por pantalla. Si el fichero no existe debe mostrar un mensaje por pantalla informando de ello."
      ]
    },
    {
      "cell_type": "code",
      "metadata": {
        "colab": {
          "base_uri": "https://localhost:8080/"
        },
        "id": "LG7HbRCaO5Cc",
        "outputId": "1025519a-2346-47b2-e033-a1b32c5d8595"
      },
      "source": [
        "num=int(input(\"ingrese un numero entero entre 1 y 10\"))\r\n",
        "tabla=\"tabla\"+str(num)+\".txt\"\r\n",
        "try:\r\n",
        "  f=open(tabla,\"r\")\r\n",
        "except FileNotFoundError :\r\n",
        "  print(\"No existe el fichero con la tabla del numero\"+ str(num))\r\n",
        "else:\r\n",
        "  print(f.read())\r\n",
        "  \r\n"
      ],
      "execution_count": 2,
      "outputs": [
        {
          "output_type": "stream",
          "text": [
            "ingrese un numero entero entre 1 y 104\n",
            "No existe el fichero con la tabla del numero4\n"
          ],
          "name": "stdout"
        }
      ]
    },
    {
      "cell_type": "markdown",
      "metadata": {
        "id": "7O425ASLS4Pe"
      },
      "source": [
        "practica fichero"
      ]
    },
    {
      "cell_type": "code",
      "metadata": {
        "colab": {
          "base_uri": "https://localhost:8080/"
        },
        "id": "G62ghQzCSdCa",
        "outputId": "33dbd80b-ff66-4b28-fa7c-818c2a5ba50f"
      },
      "source": [
        "n=int(input(\"ingrese un numero entre 1 y 10\"))\r\n",
        "tablas=\"tabla\"+str(n)+\".txt\"\r\n",
        "ope=open(tablas,\"w\")\r\n",
        "for i in range(1,11):\r\n",
        "  ope.write(str(n)+\"x\"+str(i)+\"=\"+str(n*i)+\"\\n\")\r\n",
        "ope.close()"
      ],
      "execution_count": 12,
      "outputs": [
        {
          "output_type": "stream",
          "text": [
            "ingrese un numero entre 1 y 102\n"
          ],
          "name": "stdout"
        }
      ]
    },
    {
      "cell_type": "code",
      "metadata": {
        "colab": {
          "base_uri": "https://localhost:8080/"
        },
        "id": "I7zWvMyCT-ok",
        "outputId": "1e602350-c2a2-4f27-84b4-db210519d53d"
      },
      "source": [
        "n=int(input(\"ingrese un numero entre 1 y 10\"))\r\n",
        "tab=\"tabla\"+str(n)+\".txt\"\r\n",
        "try:\r\n",
        "  x=open(tab,\"r\")\r\n",
        "except FileNotFoundError:\r\n",
        "  print(\"El numero no esta en la base de datos\") \r\n",
        "else:\r\n",
        "  print(x.read())"
      ],
      "execution_count": 17,
      "outputs": [
        {
          "output_type": "stream",
          "text": [
            "ingrese un numero entre 1 y 103\n",
            "El numero no esta en la base de datos\n"
          ],
          "name": "stdout"
        }
      ]
    },
    {
      "cell_type": "markdown",
      "metadata": {
        "id": "TVRikw2PVYQi"
      },
      "source": [
        "Ejercicio\r\n",
        "Escribir una función que pida dos números n y m entre 1 y 10, lea el fichero tabla-n.txt con la tabla de multiplicar de ese número, y muestre por pantalla la línea m del fichero. Si el fichero no existe debe mostrar un mensaje por pantalla informando de ello."
      ]
    },
    {
      "cell_type": "code",
      "metadata": {
        "colab": {
          "base_uri": "https://localhost:8080/"
        },
        "id": "CPtgXK3sU-sG",
        "outputId": "851a7855-fe56-4012-e753-626334dab426"
      },
      "source": [
        "n=int(input(\"Ingrese un numero entre 1 y 10\"))\r\n",
        "m=int(input(\"Ingrese un segundo numero entre 1 y 10\"))\r\n",
        "fi=\"tabla\"+str(n)+\".txt\"\r\n",
        "try:\r\n",
        "  f=open(fi,\"r\")\r\n",
        "\r\n",
        "except FileNotFoundError:\r\n",
        "  print(\"El numero no esta en la base de datos\")\r\n",
        "\r\n",
        "else:\r\n",
        "  lines = f.readlines()\r\n",
        "  print(lines[m - 1])\r\n",
        "  \r\n"
      ],
      "execution_count": 24,
      "outputs": [
        {
          "output_type": "stream",
          "text": [
            "Ingrese un numero entre 1 y 102\n",
            "Ingrese un segundo numero entre 1 y 108\n",
            "2x8=16\n",
            "\n"
          ],
          "name": "stdout"
        }
      ]
    },
    {
      "cell_type": "markdown",
      "metadata": {
        "id": "Kj8bh9RPazCN"
      },
      "source": [
        "Ejercicio 4\r\n",
        "Escribir un programa que acceda a un fichero de internet mediante su url y muestre por pantalla el número de palabras que contiene."
      ]
    },
    {
      "cell_type": "code",
      "metadata": {
        "colab": {
          "base_uri": "https://localhost:8080/"
        },
        "id": "-28l5vkoZrqe",
        "outputId": "a0d798a5-db8e-4c7b-af0b-7a2f787da35a"
      },
      "source": [
        "def urls(url):\r\n",
        "  from urllib import request\r\n",
        "  from urllib.error import URLError\r\n",
        "  try:\r\n",
        "        file = request.urlopen(url)\r\n",
        "  except URLError:\r\n",
        "     return (\"la url \"+url+\"no existe\")\r\n",
        "  else:\r\n",
        "    content=file.read()\r\n",
        "    return len(content.split())\r\n",
        "print(urls(\"https://www.gutenberg.org/files/64286/64286-0.txt\"))\r\n",
        "print(urls(\"https://no-existe.txt\"))"
      ],
      "execution_count": 28,
      "outputs": [
        {
          "output_type": "stream",
          "text": [
            "49097\n",
            "la url https://no-existe.txtno existe\n"
          ],
          "name": "stdout"
        }
      ]
    },
    {
      "cell_type": "markdown",
      "metadata": {
        "id": "8ialDWtvgDFN"
      },
      "source": [
        "Ejercicio 5\r\n",
        "\r\n",
        "Escribir un programa que abra el fichero con información sobre el PIB per cápita de los países de la Unión Europea (url:https://ec.europa.eu/eurostat/estat-navtree-portlet-prod/BulkDownloadListing?file=data/sdg_08_10.tsv.gz&unzip=true), pregunte por las iniciales de un país y muestre el PIB per cápita de ese país de todos los años disponibles.\r\n",
        "\r\n",
        "CHECK AGAIN"
      ]
    },
    {
      "cell_type": "code",
      "metadata": {
        "id": "EgbXNEAHfuaz"
      },
      "source": [
        ""
      ],
      "execution_count": null,
      "outputs": []
    },
    {
      "cell_type": "markdown",
      "metadata": {
        "id": "mYZ6J2LRB-91"
      },
      "source": [
        "Ejercicio\r\n",
        "\r\n",
        "Escribir un programa para gestionar un listín telefónico con los nombres y los teléfonos de los clientes de una empresa. El programa incorporar funciones crear el fichero con el listín si no existe, para consultar el teléfono de un cliente, añadir el teléfono de un nuevo cliente y eliminar el teléfono de un cliente. El listín debe estar guardado en el fichero de texto listin.txt donde el nombre del cliente y su teléfono deben aparecer separados por comas y cada cliente en una línea distinta."
      ]
    },
    {
      "cell_type": "code",
      "metadata": {
        "id": "tyroSZldCADk"
      },
      "source": [
        "def first_funcion (file, nombre):\r\n",
        "  try:\r\n",
        "    f=open(file,\"r\")\r\n",
        "  except FileNotFoundError:\r\n",
        "     return (\"El fichero \"+ file +\"no existe\")\r\n",
        "  else:\r\n",
        "    dire= f.readlines()\r\n",
        "    f.close()\r\n",
        "    dire=dict([tuple(line.split(\",\")) for line in dire])\r\n",
        "    if nombre in dire:\r\n",
        "      return dire[nombre]\r\n",
        "    else:\r\n",
        "      return(\"el cliente no exisste\")\r\n",
        "\r\n",
        "def second_funcion(file, nombre, tel):\r\n",
        "  try:\r\n",
        "    f=open(file,\"a\")\r\n",
        "  except FileNotFoundError:\r\n",
        "    return(\"El fichero no existe\")\r\n",
        "  else:\r\n",
        "    f.write(nombre+\"/\"+ tel+ \"\\n\")\r\n",
        "    f.close()\r\n",
        "    return(\"El telefono se ha añadido \")\r\n",
        "\r\n",
        "def third(file, nombre):\r\n",
        "  try:\r\n",
        "    f=open(file,\"r\")\r\n",
        "  except FileNotFoundError:\r\n",
        "    return(\"El fichero no existe\")\r\n",
        "\r\n",
        "  else:\r\n",
        "    dire=f.readlines()\r\n",
        "    f.close()\r\n",
        "    dire=dict([tuple(line.split(\"/\"))for line in dire])\r\n",
        "    if nombre in dire:\r\n",
        "      del dire[nombre]\r\n",
        "      f=open(file,\"w\")\r\n",
        "      for n,t in dire.items():\r\n",
        "         f.write(n+\" / \"+t)\r\n",
        "      f.close()\r\n",
        "      return (\"El cliente ya no esta\")\r\n",
        "    else:\r\n",
        "      return ( \"el cliente no existe\")\r\n",
        "  \r\n",
        "def fourth (file):\r\n",
        "    import os\r\n",
        "    if os.path.isfile(file):\r\n",
        "      response=input (\"El fichero ya existe, desea eliminarlo) S/N\")\r\n",
        "      if response==\"N\":\r\n",
        "        return (\"no se a creado un nuevo fichero, ya hay uno existente\")\r\n",
        "    f=open(file,\"w\")\r\n",
        "    f.close()\r\n",
        "    return \"se ha creado un fichero nuevo\"\r\n",
        "  \r\n",
        "def menu ():\r\n",
        "    print('Gesión del listín telefónico')\r\n",
        "    print('============================')\r\n",
        "    print('1 - Consultar un teléfono')\r\n",
        "    print('2 - Añadir un teléfono')\r\n",
        "    print('3 - Eliminar un teléfono')\r\n",
        "    print('4 - Crear el listín')\r\n",
        "    print('0 - Terminar')\r\n",
        "    option = input('Introduzca el número de la opción deseada: ')\r\n",
        "    return option\r\n",
        "   \r\n",
        "def dire():\r\n",
        "    file=\"listin.txt\"\r\n",
        "    while True:\r\n",
        "        option=menu()\r\n",
        "        if option==\"1\":\r\n",
        "           nombre=input(\"ingrese el nombre de la persona\")\r\n",
        "           print(first_funcion (file, nombre))\r\n",
        "        elif option ==\"2\":\r\n",
        "           nombre=input(\" Ingrese el nombre de la persona\")\r\n",
        "           tel=input(\"Ingrese el telefono\")\r\n",
        "           print(second_funcion(file, nombre, tel))\r\n",
        "        elif option==\"3\":\r\n",
        "           nombre=input(\"ingrese el nombre\")\r\n",
        "           print(third(file, nombre))\r\n",
        "        elif option==\"4\":\r\n",
        "           print(fourth (file))\r\n",
        "        else:\r\n",
        "            break\r\n",
        "    return\r\n",
        "dire()\r\n",
        "\r\n",
        "\r\n",
        "\r\n",
        "\r\n",
        "\r\n"
      ],
      "execution_count": null,
      "outputs": []
    },
    {
      "cell_type": "code",
      "metadata": {
        "id": "HokHkzm1KdUh"
      },
      "source": [
        "([tuple(line.split(\",\")) for line in dire])"
      ],
      "execution_count": null,
      "outputs": []
    },
    {
      "cell_type": "code",
      "metadata": {
        "colab": {
          "base_uri": "https://localhost:8080/"
        },
        "id": "FHb02ssrXwMj",
        "outputId": "3fff6f27-b5a9-411b-f60a-9d6e8e660510"
      },
      "source": [
        "t=(\"cate\",\"11\")\r\n",
        "l = [t]\r\n",
        "d = dict(l)\r\n",
        "print(d)"
      ],
      "execution_count": 22,
      "outputs": [
        {
          "output_type": "stream",
          "text": [
            "<class 'list'>\n",
            "{'cate': '11'}\n"
          ],
          "name": "stdout"
        }
      ]
    },
    {
      "cell_type": "markdown",
      "metadata": {
        "id": "95zQgHhgXezQ"
      },
      "source": [
        "Ejercicio\r\n",
        "El fichero cotizacion.csv contiene las cotizaciones de las empresas del IBEX35 con las siguientes columnas: Nombre (nombre de la empresa), Final (precio de la acción al cierre de bolsa), Máximo (precio máximo de la acción durante la jornada), Mínimo (precio mínimo de la acción durante la jornada), Volumen (Volumen al cierre de bolsa), Efectivo (capitalización al cierre en miles de euros).\r\n",
        "\r\n",
        "Construir una función reciba el fichero de cotizaciones y devuelva un diccionario con los datos del fichero por columnas.\r\n",
        "\r\n",
        "Construir una función que reciba el diccionario devuelto por la función anterior y cree un fichero en formato csv con el mínimo, el máximo y la media de dada columna."
      ]
    },
    {
      "cell_type": "code",
      "metadata": {
        "colab": {
          "base_uri": "https://localhost:8080/",
          "height": 333
        },
        "id": "f008kOn8XdFa",
        "outputId": "73933ac0-fdef-4e0e-cce4-b2aaa5aa6fd8"
      },
      "source": [
        "def limpiar(cifra):\r\n",
        "    \"\"\"\r\n",
        "    Función que elimina los puntos de separación de miles y cambia las comas de separación de decimales por puntos.\r\n",
        "    Parámetros:\r\n",
        "        - cifra: Es una cadena con una cifra\r\n",
        "    Devuelve:\r\n",
        "        Un real con la cifra de la cadena después de eliminar el separador de miles y cambiar el separador de decimales por punto.\r\n",
        "    \"\"\"\r\n",
        "    cifra = cifra.replace('.', '')\r\n",
        "    cifra = cifra.replace(',','.')\r\n",
        "    return float(cifra) \r\n",
        "\r\n",
        "def preprocesado(ruta):\r\n",
        "    \"\"\"\r\n",
        "    Función que preprocesa los datos contenidos en un fichero con formato csv y devuelve un diccionario con los nombres de las columnas como claves y las listas de valores asociados a ellas.\r\n",
        "    Parámetros:\r\n",
        "        - ruta: Es una cadena con la ruta del fichero.\r\n",
        "    Devuelve:\r\n",
        "        Un diccionario con pares formados por los nombres de las columnas y las listas de valores en las columnas.\r\n",
        "    \"\"\"\r\n",
        "    try:\r\n",
        "        # Abrimos el fichero en modo lectura\r\n",
        "        f = open(ruta, 'r')\r\n",
        "    except FileNotFoundError:\r\n",
        "        print('El fichero no existe.')\r\n",
        "        return\r\n",
        "    # Leemos el fichero por líneas en una lista\r\n",
        "    lines = f.readlines()\r\n",
        "    # Cerramos el fichero\r\n",
        "    f.close()\r\n",
        "    # Leemos las claves del primer elemento de la lista y eliminamos el cambio de línea que aparece al final\r\n",
        "    claves = lines[0]\r\n",
        "    # Eliminamos el cambio de línea que aparece al final y dividimos la cadena por el punto y coma\r\n",
        "    claves = claves[:-1].split(';')\r\n",
        "    # Creamos el diccionario\r\n",
        "    cotizaciones = {}\r\n",
        "    # Inicializamos el diccionario con listas vacías\r\n",
        "    for i in claves:\r\n",
        "        cotizaciones[i] = []\r\n",
        "    # Recorremos la lista línea a línea\r\n",
        "    for linea in lines[1:]:\r\n",
        "        # Eliminamos el cambio de línea que aparece al final y dividimos la cadena por el punto y coma\r\n",
        "        linea = linea[:-1].split(';')\r\n",
        "        cotizaciones[claves[0]].append(linea[0])\r\n",
        "        # Añadimos cada dato a la lista correspondiente del diccionario\r\n",
        "        for i in range(1, len(cotizaciones)):\r\n",
        "            cotizaciones[claves[i]].append(limpiar(linea[i]))\r\n",
        "    return cotizaciones\r\n",
        "\r\n",
        "\r\n",
        "def resumen_cotizacion(cotizaciones, ruta):\r\n",
        "    \"\"\"\r\n",
        "    Función que recibe un diccionario con los valores de cotización y crear un fichero con un resumen con el mínimo, el máximo y la media.\r\n",
        "    Parámetros:\r\n",
        "        - cotizaciones: Es un diccionario con pares cuyas claves son los nombres de la variables medidas y cuyos valores son las listas de valores de cada variable.\r\n",
        "        - ruta: Es una cadena con la ruta del fichero.\r\n",
        "    \"\"\"\r\n",
        "    # Eliminamos el primer par del diccionario que contiene los nombres de las empresas\r\n",
        "    del(cotizaciones['Nombre'])\r\n",
        "    # Abrimos el fichero en modo escritura\r\n",
        "    f = open(ruta, 'w')\r\n",
        "    # Escribimos en la primera línea los nombres de las columnas\r\n",
        "    f.write('Nombre')\r\n",
        "    for clave in cotizaciones.keys():\r\n",
        "        f.write(';' + clave)\r\n",
        "    # Calculamos los mínimos de cada lista y los escribimos en las columnas correspondientes\r\n",
        "    f.write('\\nMínimo')\r\n",
        "    for valores in cotizaciones.values():\r\n",
        "        f.write(';' + str(min(valores)))\r\n",
        "    # Calculamos los máximos de cada lista y los escribimos en las columnas correspondientes\r\n",
        "    f.write('\\nMáximo')\r\n",
        "    for valores in cotizaciones.values():\r\n",
        "        f.write(';' + str(max(valores)))\r\n",
        "    # Calculamos las medias de cada lista y las escribimos en las columnas correspondientes\r\n",
        "    f.write('\\nMedia')\r\n",
        "    for valores in cotizaciones.values():\r\n",
        "        f.write(';' + str(sum(valores)/len(valores)))\r\n",
        "    f.close()\r\n",
        "    return\r\n",
        "\r\n",
        "\r\n",
        "# Llamada a las funciones de prueba\r\n",
        "cotizaciones = preprocesado('cotizacion.csv')\r\n",
        "resumen_cotizacion(cotizaciones, 'resumen-cotizacion.csv')"
      ],
      "execution_count": 42,
      "outputs": [
        {
          "output_type": "error",
          "ename": "KeyError",
          "evalue": "ignored",
          "traceback": [
            "\u001b[0;31m---------------------------------------------------------------------------\u001b[0m",
            "\u001b[0;31mKeyError\u001b[0m                                  Traceback (most recent call last)",
            "\u001b[0;32m<ipython-input-42-7b6b3adc867d>\u001b[0m in \u001b[0;36m<module>\u001b[0;34m()\u001b[0m\n\u001b[1;32m     82\u001b[0m \u001b[0;31m# Llamada a las funciones de prueba\u001b[0m\u001b[0;34m\u001b[0m\u001b[0;34m\u001b[0m\u001b[0;34m\u001b[0m\u001b[0m\n\u001b[1;32m     83\u001b[0m \u001b[0mcotizaciones\u001b[0m \u001b[0;34m=\u001b[0m \u001b[0mpreprocesado\u001b[0m\u001b[0;34m(\u001b[0m\u001b[0;34m'cotizacion.csv'\u001b[0m\u001b[0;34m)\u001b[0m\u001b[0;34m\u001b[0m\u001b[0;34m\u001b[0m\u001b[0m\n\u001b[0;32m---> 84\u001b[0;31m \u001b[0mresumen_cotizacion\u001b[0m\u001b[0;34m(\u001b[0m\u001b[0mcotizaciones\u001b[0m\u001b[0;34m,\u001b[0m \u001b[0;34m'resumen-cotizacion.csv'\u001b[0m\u001b[0;34m)\u001b[0m\u001b[0;34m\u001b[0m\u001b[0;34m\u001b[0m\u001b[0m\n\u001b[0m",
            "\u001b[0;32m<ipython-input-42-7b6b3adc867d>\u001b[0m in \u001b[0;36mresumen_cotizacion\u001b[0;34m(cotizaciones, ruta)\u001b[0m\n\u001b[1;32m     57\u001b[0m     \"\"\"\n\u001b[1;32m     58\u001b[0m     \u001b[0;31m# Eliminamos el primer par del diccionario que contiene los nombres de las empresas\u001b[0m\u001b[0;34m\u001b[0m\u001b[0;34m\u001b[0m\u001b[0;34m\u001b[0m\u001b[0m\n\u001b[0;32m---> 59\u001b[0;31m     \u001b[0;32mdel\u001b[0m\u001b[0;34m(\u001b[0m\u001b[0mcotizaciones\u001b[0m\u001b[0;34m[\u001b[0m\u001b[0;34m'Nombre'\u001b[0m\u001b[0;34m]\u001b[0m\u001b[0;34m)\u001b[0m\u001b[0;34m\u001b[0m\u001b[0;34m\u001b[0m\u001b[0m\n\u001b[0m\u001b[1;32m     60\u001b[0m     \u001b[0;31m# Abrimos el fichero en modo escritura\u001b[0m\u001b[0;34m\u001b[0m\u001b[0;34m\u001b[0m\u001b[0;34m\u001b[0m\u001b[0m\n\u001b[1;32m     61\u001b[0m     \u001b[0mf\u001b[0m \u001b[0;34m=\u001b[0m \u001b[0mopen\u001b[0m\u001b[0;34m(\u001b[0m\u001b[0mruta\u001b[0m\u001b[0;34m,\u001b[0m \u001b[0;34m'w'\u001b[0m\u001b[0;34m)\u001b[0m\u001b[0;34m\u001b[0m\u001b[0;34m\u001b[0m\u001b[0m\n",
            "\u001b[0;31mKeyError\u001b[0m: 'Nombre'"
          ]
        }
      ]
    },
    {
      "cell_type": "markdown",
      "metadata": {
        "id": "oURVJs4QqKxh"
      },
      "source": [
        "Ejercicio\r\n",
        "El fichero calificaciones.csv contiene las calificaciones de un curso. Durante el curso se realizaron dos exámenes parciales de teoría y un examen de prácticas. Los alumnos que tuvieron menos de 4 en alguno de estos exámenes pudieron repetirlo al final del curso (convocatoria ordinaria). Escribir un programa que contenga las siguientes funciones:\r\n",
        "\r\n",
        "Una función que reciba el fichero de calificaciones y devuelva una lista de diccionarios, donde cada diccionario contiene la información de los exámenes y la asistencia de un alumno. La lista tiene que estar ordenada por apellidos.\r\n",
        "\r\n",
        "Una función que reciba una lista de diccionarios como la que devuelve la función anterior y añada a cada diccionario un nuevo par con la nota final del curso. El peso de cada parcial de teoría en la nota final es de un 30% mientras que el peso del examen de prácticas es de un 40%.\r\n",
        "\r\n",
        "Una función que reciba una lista de diccionarios como la que devuelve la función anterior y devuelva dos listas, una con los alumnos aprobados y otra con los alumnos suspensos. Para aprobar el curso, la asistencia tiene que ser mayor o igual que el 75%, la nota de los exámenes parciales y de prácticas mayor o igual que 4 y la nota final mayor o igual que 5."
      ]
    },
    {
      "cell_type": "code",
      "metadata": {
        "colab": {
          "base_uri": "https://localhost:8080/"
        },
        "id": "t0Bj17_BpNoo",
        "outputId": "71429eaf-0ef4-4086-eed0-d4a063e4e017"
      },
      "source": [
        "def nota(cifra):\r\n",
        "    '''Función que elimina cambia las comas de separación de decimales por puntos de una cifra y la convierte en un real.\r\n",
        "    Parámetros:\r\n",
        "        - cifra: Es una cadena con una cifra.\r\n",
        "    Devuelve:\r\n",
        "        Un real con la cifra de la cadena después de cambiar el separador de decimales por punto.\r\n",
        "    '''\r\n",
        "    cifra = cifra.replace(',','.')\r\n",
        "    return float(cifra) \r\n",
        "\r\n",
        "def calificaciones(ruta):\r\n",
        "    '''Función que preprocesa los datos contenidos en un fichero con formato csv y devuelve una lista de diccionarios donde las claves de los diccionarios son los datos de la primera fila y los valores los datos de cada línea del fichero.\r\n",
        "    \r\n",
        "    Parámetros:\r\n",
        "        - ruta: Es una cadena con la ruta del fichero.\r\n",
        "    Devuelve:\r\n",
        "        Una lista de diccionarios donde cada diccionario contiene los datos de una linea del fichero (a excepción de la primera línea), usando como claves los datos de la primera línea.\r\n",
        "    '''\r\n",
        "    try:\r\n",
        "        # Abrimos el fichero en modo lectura\r\n",
        "        f = open(ruta, 'r')\r\n",
        "    except FileNotFoundError:\r\n",
        "        print('El fichero no existe.')\r\n",
        "        return\r\n",
        "    # Leemos el fichero por líneas en una lista\r\n",
        "    lineas = f.readlines()\r\n",
        "    # Cerramos el fichero\r\n",
        "    f.close()\r\n",
        "    # Leemos las claves del primer elemento de la lista, eliminamos el cambio de línea que aparece al final y dividimos la cadena por el punto y coma.\r\n",
        "    claves = lineas[0][:-1].split(\";\")\r\n",
        "    # Creamos la lista de calificaciones\r\n",
        "    calificaciones = []\r\n",
        "    # Recorremos las líneas del fichero y para cada línea creamos un diccionario que añadimos a la lista de calificaciones.\r\n",
        "    for i in lineas[1:]:\r\n",
        "        # Eliminamos el cambio de línea del final y dividimos la cadena por el punto y coma.\r\n",
        "        valores = i[:-1].split(\";\")\r\n",
        "        # Creamos un diccionario vacío para ir añadiendo los datos de cada alumno.\r\n",
        "        alumno = {}\r\n",
        "        # Recorremos la lista de valores y los añadimos al diccionario.\r\n",
        "        for j in range(len(valores)):\r\n",
        "            alumno[claves[j]] = valores[j]\r\n",
        "        # Añadimos el diccionario a la lista de calificaciones\r\n",
        "        calificaciones.append(alumno)\r\n",
        "    return calificaciones\r\n",
        "\r\n",
        "def añadir_nota_final(calificaciones):\r\n",
        "    '''Función que recibe una lista de diccionarios con las calificaciones de cada alumno en un curso, calcula la nota final del curso de cada alumno y la añade al diccionario del alumno.\r\n",
        "\r\n",
        "    Parámetros:\r\n",
        "        - calificaciones: Es una lista de diccionarios donde cada diccionario contiene los datos de un alumno (nombre, asistencia y notas de exámenes del curso).\r\n",
        "    Devuelve:\r\n",
        "        La lista de las calificaciones de los alumnos tras añadir a cada alumno de la lista su nota final del curso.\r\n",
        "    '''\r\n",
        "\r\n",
        "    def nota_final(alumno):\r\n",
        "        '''Función que calcula la nota final del curso de un alumno.\r\n",
        "\r\n",
        "        Parámetros:\r\n",
        "            - alumno: Es un diccionario con las notas del alumno.\r\n",
        "        Devuelve:\r\n",
        "            El diccionario con los datos del alumno tras añadirle un nuevo par con la nota final del curso.\r\n",
        "        '''\r\n",
        "        if alumno['Ordinario1']: #Si el alumno se ha presentado al examen de repesca del primer parcial tomamos esa nota como la nota del primer parcial\r\n",
        "            parcial1 = nota(alumno['Ordinario1'])\r\n",
        "        elif alumno['Parcial1']:\r\n",
        "            parcial1 = nota(alumno['Parcial1'])\r\n",
        "        else: # No se ha presentado al primer parcial ni a la repesca en el ordinario\r\n",
        "            parcial1 = 0\r\n",
        "        if alumno['Ordinario2']: #Si el alumno se ha presentado al examen de repesca del segundo parcial tomamos esa nota como la nota del segundo parcial\r\n",
        "            parcial2 = nota(alumno['Ordinario2'])\r\n",
        "        elif alumno['Parcial2']:\r\n",
        "            parcial2 = nota(alumno['Parcial2'])\r\n",
        "        else: # No se ha presentado al segundo parcial ni a la repesca en el ordinario\r\n",
        "            parcial2 = 0 \r\n",
        "        if alumno['OrdinarioPracticas']: #Si el alumno se ha presentado al examen de repesca de prácticas tomamos esa nota como la nota de prácticas\r\n",
        "            practicas = nota(alumno['OrdinarioPracticas'])\r\n",
        "        elif alumno['Practicas']:\r\n",
        "            practicas = nota(alumno['Practicas'])\r\n",
        "        else:\r\n",
        "            practicas = 0\r\n",
        "        alumno['Final1'] = parcial1\r\n",
        "        alumno['Final2'] = parcial2\r\n",
        "        alumno['FinalPracticas'] = practicas\r\n",
        "        alumno['NotaFinal'] = parcial1 * 0.3 + parcial2 * 0.3 + practicas * 0.4\r\n",
        "        return alumno\r\n",
        "\r\n",
        "    # Aplicamos la función nota_final a todos los alumnos\r\n",
        "    return list(map(nota_final, calificaciones))\r\n",
        "\r\n",
        "def aprobados_suspensos(calificaciones):\r\n",
        "    '''Función que recibe una lista de diccionarios con las calificaciones de cada alumno en un curso, y devuelve la lista de aprobados y suspensos en el curso.\r\n",
        "\r\n",
        "    Parámetros:\r\n",
        "        - calificaciones: Es una lista de diccionarios donde cada diccionario contiene los datos de un alumno (nombre, asistencia y notas de exámenes del curso).\r\n",
        "    Devuelve:\r\n",
        "        - aprobados: Es una lista con los nombres de los alumnos aprobados.\r\n",
        "        - suspensos: Es una lista con los nombres de los alumnos suspensos.\r\n",
        "    '''\r\n",
        "    # Creamos las listas de aprobados y suspensos vacías\r\n",
        "    aprobados = []\r\n",
        "    suspensos = []\r\n",
        "    # Recorremos los alumnos del curso\r\n",
        "    for alumno in calificaciones:\r\n",
        "        # Si se cumplen las condiciones para aprobar añadimos el nombre del alumno a la lista de aprobados y si no a la de suspensos.\r\n",
        "        if all([int(alumno['Asistencia'][:-1]) >= 75, alumno['Final1'] >= 4, alumno['Final2'] >=4, alumno['FinalPracticas'] >=4, alumno['NotaFinal'] >= 5]):\r\n",
        "            aprobados.append(alumno['Apellidos'] + ', ' + alumno['Nombre'])\r\n",
        "        else:\r\n",
        "            suspensos.append(alumno['Apellidos'] + ', ' + alumno['Nombre'])\r\n",
        "    return aprobados, suspensos\r\n",
        "\r\n",
        "# Llamada a las funciones de prueba\r\n",
        "print(añadir_nota_final(calificaciones('calificaciones.csv')))\r\n",
        "aprobados, suspensos = aprobados_suspensos(añadir_nota_final(calificaciones('calificaciones.csv')))\r\n",
        "print('Lista de aprobados:', aprobados)\r\n",
        "print('Lista de suspensos:', suspensos)\r\n"
      ],
      "execution_count": 20,
      "outputs": [
        {
          "output_type": "stream",
          "text": [
            "[{'Apellidos': 'Anido Bonet', 'Nombre': 'David', 'Asistencia': '90%', 'Parcial1': '5,5', 'Parcial2': '2,75', 'Ordinario1': '', 'Ordinario2': '5', 'Practicas': '', 'OrdinarioPracticas': '', 'Final1': 5.5, 'Final2': 5.0, 'FinalPracticas': 0, 'NotaFinal': 3.15}, {'Apellidos': 'Bueno Cerdeira', 'Nombre': 'Patricia', 'Asistencia': '95%', 'Parcial1': '9,5', 'Parcial2': '9', 'Ordinario1': '', 'Ordinario2': '', 'Practicas': '6,25', 'OrdinarioPracticas': '', 'Final1': 9.5, 'Final2': 9.0, 'FinalPracticas': 6.25, 'NotaFinal': 8.05}, {'Apellidos': 'Casariego García', 'Nombre': 'Raúl', 'Asistencia': '98%', 'Parcial1': '4,25', 'Parcial2': '5,75', 'Ordinario1': '', 'Ordinario2': '', 'Practicas': '4', 'OrdinarioPracticas': '5', 'Final1': 4.25, 'Final2': 5.75, 'FinalPracticas': 5.0, 'NotaFinal': 5.0}, {'Apellidos': 'Curbelo Sánchez', 'Nombre': 'Jorge', 'Asistencia': '75%', 'Parcial1': '6,75', 'Parcial2': '4,25', 'Ordinario1': '', 'Ordinario2': '', 'Practicas': '', 'OrdinarioPracticas': '6,5', 'Final1': 6.75, 'Final2': 4.25, 'FinalPracticas': 6.5, 'NotaFinal': 5.9}, {'Apellidos': 'Díaz Souto', 'Nombre': 'Sofía', 'Asistencia': '82%', 'Parcial1': '7', 'Parcial2': '6,5', 'Ordinario1': '', 'Ordinario2': '', 'Practicas': '9', 'OrdinarioPracticas': '', 'Final1': 7.0, 'Final2': 6.5, 'FinalPracticas': 9.0, 'NotaFinal': 7.65}, {'Apellidos': 'García Perez', 'Nombre': 'Yaiza', 'Asistencia': '85%', 'Parcial1': '10', 'Parcial2': '8', 'Ordinario1': '', 'Ordinario2': '', 'Practicas': '7,5', 'OrdinarioPracticas': '', 'Final1': 10.0, 'Final2': 8.0, 'FinalPracticas': 7.5, 'NotaFinal': 8.4}, {'Apellidos': 'Sánchez Jordán', 'Nombre': 'María', 'Asistencia': '92%', 'Parcial1': '8,75', 'Parcial2': '9', 'Ordinario1': '', 'Ordinario2': '', 'Practicas': '6,5', 'OrdinarioPracticas': '', 'Final1': 8.75, 'Final2': 9.0, 'FinalPracticas': 6.5, 'NotaFinal': 7.924999999999999}, {'Apellidos': 'Lorenzo García', 'Nombre': 'Jaime', 'Asistencia': '100%', 'Parcial1': '9,75', 'Parcial2': '8,25', 'Ordinario1': '', 'Ordinario2': '', 'Practicas': '7,5', 'OrdinarioPracticas': '', 'Final1': 9.75, 'Final2': 8.25, 'FinalPracticas': 7.5, 'NotaFinal': 8.4}, {'Apellidos': 'Martínez Lucas', 'Nombre': 'Cecilia', 'Asistencia': '86%', 'Parcial1': '7', 'Parcial2': '4', 'Ordinario1': '', 'Ordinario2': '', 'Practicas': '6,25', 'OrdinarioPracticas': '', 'Final1': 7.0, 'Final2': 4.0, 'FinalPracticas': 6.25, 'NotaFinal': 5.8}, {'Apellidos': 'Mora Peñaloza', 'Nombre': 'Sandra', 'Asistencia': '70%', 'Parcial1': '5,25', 'Parcial2': '2', 'Ordinario1': '', 'Ordinario2': '4', 'Practicas': '6,5', 'OrdinarioPracticas': '', 'Final1': 5.25, 'Final2': 4.0, 'FinalPracticas': 6.5, 'NotaFinal': 5.375}, {'Apellidos': 'Morillo Escudero', 'Nombre': 'Ana', 'Asistencia': '100%', 'Parcial1': '9,5', 'Parcial2': '10', 'Ordinario1': '', 'Ordinario2': '', 'Practicas': '8,75', 'OrdinarioPracticas': '', 'Final1': 9.5, 'Final2': 10.0, 'FinalPracticas': 8.75, 'NotaFinal': 9.35}, {'Apellidos': 'Muñoz Gómez', 'Nombre': 'Carolina', 'Asistencia': '94%', 'Parcial1': '7,75', 'Parcial2': '6,5', 'Ordinario1': '', 'Ordinario2': '', 'Practicas': '4', 'OrdinarioPracticas': '', 'Final1': 7.75, 'Final2': 6.5, 'FinalPracticas': 4.0, 'NotaFinal': 5.875}, {'Apellidos': 'Ramirez de la Puente', 'Nombre': 'Raquel', 'Asistencia': '75%', 'Parcial1': '0', 'Parcial2': '1', 'Ordinario1': '1', 'Ordinario2': '2,75', 'Practicas': '2,25', 'OrdinarioPracticas': '3,25', 'Final1': 1.0, 'Final2': 2.75, 'FinalPracticas': 3.25, 'NotaFinal': 2.425}, {'Apellidos': 'Riego Pizarro', 'Nombre': 'Carlos', 'Asistencia': '75%', 'Parcial1': '4', 'Parcial2': '2,5', 'Ordinario1': '5', 'Ordinario2': '3,75', 'Practicas': '', 'OrdinarioPracticas': '', 'Final1': 5.0, 'Final2': 3.75, 'FinalPracticas': 0, 'NotaFinal': 2.625}, {'Apellidos': 'Rodríguez de Blas', 'Nombre': 'Ignacio', 'Asistencia': '80%', 'Parcial1': '8,25', 'Parcial2': '5,25', 'Ordinario1': '', 'Ordinario2': '', 'Practicas': '6,5', 'OrdinarioPracticas': '', 'Final1': 8.25, 'Final2': 5.25, 'FinalPracticas': 6.5, 'NotaFinal': 6.65}, {'Apellidos': 'Moreno Angulo', 'Nombre': 'Antonio', 'Asistencia': '88%', 'Parcial1': '9', 'Parcial2': '6,75', 'Ordinario1': '', 'Ordinario2': '', 'Practicas': '5,25', 'OrdinarioPracticas': '', 'Final1': 9.0, 'Final2': 6.75, 'FinalPracticas': 5.25, 'NotaFinal': 6.824999999999999}]\n",
            "Lista de aprobados: ['Bueno Cerdeira, Patricia', 'Casariego García, Raúl', 'Curbelo Sánchez, Jorge', 'Díaz Souto, Sofía', 'García Perez, Yaiza', 'Sánchez Jordán, María', 'Lorenzo García, Jaime', 'Martínez Lucas, Cecilia', 'Morillo Escudero, Ana', 'Muñoz Gómez, Carolina', 'Rodríguez de Blas, Ignacio', 'Moreno Angulo, Antonio']\n",
            "Lista de suspensos: ['Anido Bonet, David', 'Mora Peñaloza, Sandra', 'Ramirez de la Puente, Raquel', 'Riego Pizarro, Carlos']\n"
          ],
          "name": "stdout"
        }
      ]
    },
    {
      "cell_type": "markdown",
      "metadata": {
        "id": "IbVV2lFkg7zP"
      },
      "source": [
        "PANDAS\r\n",
        "\r\n",
        "Ejercicio 1\r\n",
        "Escribir un programa que pregunte al usuario por las ventas de un rango de años y muestre por pantalla una serie con los datos de las ventas indexada por los años, antes y después de aplicarles un descuento del 10%.\r\n",
        "\r\n",
        "\r\n"
      ]
    },
    {
      "cell_type": "code",
      "metadata": {
        "colab": {
          "base_uri": "https://localhost:8080/"
        },
        "id": "ZgO7B8twq3aR",
        "outputId": "1936c86c-7a62-4ec5-9d4c-17627020a218"
      },
      "source": [
        "import pandas as pd\r\n",
        "vent=int(input(\"ingrese el año inicial\"))\r\n",
        "año_fin=int(input(\"ingrese el año final \"))\r\n",
        "ventas={}\r\n",
        "for i in range(vent, año_fin+1):\r\n",
        "  ventas[i]=int(input(\"ingrese el numero de ventas para el año \"+ str(i)+ \":\"))\r\n",
        "  ventas=pd.Series(ventas)\r\n",
        "\r\n",
        "print(\"Ventas \\n \", ventas)\r\n",
        "print(\"Con impuestos \\n \", ventas*0.9)\r\n"
      ],
      "execution_count": 27,
      "outputs": [
        {
          "output_type": "stream",
          "text": [
            "ingrese el año inicial1999\n",
            "ingrese el año final 2000\n",
            "ingrese el numero de ventas para el año 1999:34000\n",
            "ingrese el numero de ventas para el año 2000:43000\n",
            "Ventas \n",
            "  1999    34000\n",
            "2000    43000\n",
            "dtype: int64\n",
            "Con impuestos \n",
            "  1999    30600.0\n",
            "2000    38700.0\n",
            "dtype: float64\n"
          ],
          "name": "stdout"
        }
      ]
    },
    {
      "cell_type": "markdown",
      "metadata": {
        "id": "VxBHbmth5Afs"
      },
      "source": [
        "Ejercicio 2\r\n",
        "Escribir una función que reciba una diccionario con las notas de los alumnos en curso en un examen y devuelva una serie con la nota mínima, la máxima, media y la desviación típica."
      ]
    },
    {
      "cell_type": "code",
      "metadata": {
        "colab": {
          "base_uri": "https://localhost:8080/"
        },
        "id": "mpSRxGCGsap0",
        "outputId": "625014f0-3cc3-4d5c-d5f1-fe2c224cb3ea"
      },
      "source": [
        "import pandas as pd\r\n",
        "\r\n",
        "def fun(notas):\r\n",
        "  notas=pd.Series(notas)\r\n",
        "  estadisticos=pd.Series([notas.min(),notas.max(),notas.mean(),notas.std()],index=[\"min\",\"max\",\"media\",\"desviacion\"])\r\n",
        "  return estadisticos\r\n",
        "\r\n",
        "\r\n",
        "notas={\"carla\":4,\"tomas\":6,\"berno\":98}\r\n",
        "print(fun(notas))"
      ],
      "execution_count": 29,
      "outputs": [
        {
          "output_type": "stream",
          "text": [
            "min            4.000000\n",
            "max           98.000000\n",
            "media         36.000000\n",
            "desviacion    53.702886\n",
            "dtype: float64\n"
          ],
          "name": "stdout"
        }
      ]
    },
    {
      "cell_type": "markdown",
      "metadata": {
        "id": "gojvms0CC5o9"
      },
      "source": [
        "Another way to do it "
      ]
    },
    {
      "cell_type": "code",
      "metadata": {
        "colab": {
          "base_uri": "https://localhost:8080/"
        },
        "id": "LIl0rhCTCZ9e",
        "outputId": "27bdd16e-f869-4a4b-c1f3-9cf507d4254a"
      },
      "source": [
        "import pandas as pd\r\n",
        "\r\n",
        "def estadistica_notas(notas):\r\n",
        "    notas = pd.Series(notas)\r\n",
        "    return notas.describe()\r\n",
        "\r\n",
        "notas = {'Juan':9, 'María':6.5, 'Pedro':4, 'Carmen': 8.5, 'Luis': 5}\r\n",
        "print(estadistica_notas(notas))"
      ],
      "execution_count": 30,
      "outputs": [
        {
          "output_type": "stream",
          "text": [
            "count    5.000000\n",
            "mean     6.600000\n",
            "std      2.162175\n",
            "min      4.000000\n",
            "25%      5.000000\n",
            "50%      6.500000\n",
            "75%      8.500000\n",
            "max      9.000000\n",
            "dtype: float64\n"
          ],
          "name": "stdout"
        }
      ]
    },
    {
      "cell_type": "markdown",
      "metadata": {
        "id": "IdWB-gcCDDWg"
      },
      "source": [
        "Ejercicio 3\r\n",
        "Escribir una función que reciba una diccionario con las notas de los alumnos en curso en un examen y devuelva una serie con las notas de los alumnos aprobados ordenadas de mayor a menor."
      ]
    },
    {
      "cell_type": "code",
      "metadata": {
        "colab": {
          "base_uri": "https://localhost:8080/"
        },
        "id": "mYVfgnEFC78J",
        "outputId": "ee15ab0d-d021-4abf-d392-66168796b344"
      },
      "source": [
        "import pandas as pd\r\n",
        "\r\n",
        "def aprove (notas):\r\n",
        "  notas=pd.Series(notas)\r\n",
        "  return notas[notas>=5].sort_values(ascending=False)\r\n",
        "notas = {'Juan':9, 'María':6.5, 'Pedro':4, 'Carmen': 8.5, 'Luis': 5}\r\n",
        "print(aprove(notas))"
      ],
      "execution_count": 31,
      "outputs": [
        {
          "output_type": "stream",
          "text": [
            "Juan      9.0\n",
            "Carmen    8.5\n",
            "María     6.5\n",
            "Luis      5.0\n",
            "dtype: float64\n"
          ],
          "name": "stdout"
        }
      ]
    },
    {
      "cell_type": "markdown",
      "metadata": {
        "id": "fDYkJaz5IbDC"
      },
      "source": [
        "# Ejercicio \r\n",
        "\r\n",
        "Escribir programa que genere y muestre por pantalla un DataFrame con los datos de la tabla siguiente:\r\n",
        "\r\n",
        "| Mes     | Ventas | Gastos |\r\n",
        "| ------- | -----: | -----: |\r\n",
        "| Enero   |  30500 |  22000 |\r\n",
        "| Febrero |  35600 |  23400 |\r\n",
        "| Marzo   |  28300 |  18100 |\r\n",
        "| Abril   |  33900 |  20700 |\r\n"
      ]
    },
    {
      "cell_type": "code",
      "metadata": {
        "colab": {
          "base_uri": "https://localhost:8080/"
        },
        "id": "s_YR87LqIVQN",
        "outputId": "c26e558e-6092-444d-ae34-d8cb251dc648"
      },
      "source": [
        "import pandas as pd\r\n",
        "datos={\"Mes\":[\"Enero\",\"Febrero\",\"Marzo\",\"Abril\"],\"Ventas\":[30500,35600,28300,33900],\"Gastos\":[22000,23400,18100,20700]}\r\n",
        "muestra=pd.DataFrame(datos)\r\n",
        "print(muestra)\r\n"
      ],
      "execution_count": 33,
      "outputs": [
        {
          "output_type": "stream",
          "text": [
            "       Mes  Ventas  Gastos\n",
            "0    Enero   30500   22000\n",
            "1  Febrero   35600   23400\n",
            "2    Marzo   28300   18100\n",
            "3    Abril   33900   20700\n"
          ],
          "name": "stdout"
        }
      ]
    },
    {
      "cell_type": "markdown",
      "metadata": {
        "id": "kxl19-mrL8YB"
      },
      "source": [
        "Ejercicio 5\r\n",
        "Escribir una función que reciba un DataFrame con el formato del ejercicio anterior, una lista de meses, y devuelva el balance (ventas - gastos) total en los meses indicados."
      ]
    },
    {
      "cell_type": "code",
      "metadata": {
        "colab": {
          "base_uri": "https://localhost:8080/"
        },
        "id": "JGWbGJSZLpth",
        "outputId": "01d46b3a-ef9a-4faa-f417-7d63f95e6493"
      },
      "source": [
        "import pandas as pd\r\n",
        "datos={\"Mes\":[\"Enero\",\"Febrero\",\"Marzo\",\"Abril\"],\"Ventas\":[30500,35600,28300,33900],\"Gastos\":[22000,23400,18100,20700]}\r\n",
        "co=pd.DataFrame(datos)\r\n",
        "def conta(co,meses):\r\n",
        "  co[\"conta\"]=(co.Ventas-co.Gastos)\r\n",
        "  return co[co.Mes.isin(meses)].conta.sum()\r\n",
        "print(conta(co,[\"Enero\",\"Marzo\"]))\r\n"
      ],
      "execution_count": 39,
      "outputs": [
        {
          "output_type": "stream",
          "text": [
            "18700\n"
          ],
          "name": "stdout"
        }
      ]
    },
    {
      "cell_type": "markdown",
      "metadata": {
        "id": "DgW2TFbEUtEL"
      },
      "source": [
        "Ejercicio 6\r\n",
        "El fichero cotizacion.csv contiene las cotizaciones de las empresas del IBEX35 con las siguientes columnas: nombre (nombre de la empresa), Final (precio de la acción al cierre de bolsa), Máximo (precio máximo de la acción durante la jornada), Mínimo (precio mínimo de la acción durante la jornada), volumen (Volumen al cierre de bolsa), Efectivo (capitalización al cierre en miles de euros). Construir una función que construya un DataFrame a partir del un fichero con el formato anterior y devuelva otro DataFrame con el mínimo, el máximo y la media de dada columna."
      ]
    },
    {
      "cell_type": "code",
      "metadata": {
        "colab": {
          "base_uri": "https://localhost:8080/",
          "height": 142
        },
        "id": "O-dPpo17RvHa",
        "outputId": "0c23ee44-8b8b-4ebf-9395-e555e76c418c"
      },
      "source": [
        "import pandas as pd\r\n",
        "def resumen (tabla):\r\n",
        "  df=pd.read_csv(tabla,sep=\",\",decimal=\".\",index_col=0)\r\n",
        "  return pd.DataFrame([df.min(),df.max(),df.mean()],index= [\"Minimo\",\"Maximo\",\"Media\"])\r\n",
        "resumen(\"cotizacion.csv\")"
      ],
      "execution_count": 44,
      "outputs": [
        {
          "output_type": "execute_result",
          "data": {
            "text/html": [
              "<div>\n",
              "<style scoped>\n",
              "    .dataframe tbody tr th:only-of-type {\n",
              "        vertical-align: middle;\n",
              "    }\n",
              "\n",
              "    .dataframe tbody tr th {\n",
              "        vertical-align: top;\n",
              "    }\n",
              "\n",
              "    .dataframe thead th {\n",
              "        text-align: right;\n",
              "    }\n",
              "</style>\n",
              "<table border=\"1\" class=\"dataframe\">\n",
              "  <thead>\n",
              "    <tr style=\"text-align: right;\">\n",
              "      <th></th>\n",
              "      <th>Final</th>\n",
              "      <th>Mximo</th>\n",
              "      <th>Mnimo</th>\n",
              "      <th>Volumen</th>\n",
              "      <th>Efectivo</th>\n",
              "    </tr>\n",
              "  </thead>\n",
              "  <tbody>\n",
              "    <tr>\n",
              "      <th>Minimo</th>\n",
              "      <td>4.020000</td>\n",
              "      <td>5.05</td>\n",
              "      <td>2.62</td>\n",
              "      <td>6.771000e+01</td>\n",
              "      <td>2343.090</td>\n",
              "    </tr>\n",
              "    <tr>\n",
              "      <th>Maximo</th>\n",
              "      <td>19705.000000</td>\n",
              "      <td>40675.00</td>\n",
              "      <td>19675.00</td>\n",
              "      <td>3.612969e+07</td>\n",
              "      <td>145765.440</td>\n",
              "    </tr>\n",
              "    <tr>\n",
              "      <th>Media</th>\n",
              "      <td>3087.168286</td>\n",
              "      <td>4332.14</td>\n",
              "      <td>3426.91</td>\n",
              "      <td>4.244699e+06</td>\n",
              "      <td>31767.778</td>\n",
              "    </tr>\n",
              "  </tbody>\n",
              "</table>\n",
              "</div>"
            ],
            "text/plain": [
              "               Final     Mximo     Mnimo       Volumen    Efectivo\n",
              "Minimo      4.020000      5.05      2.62  6.771000e+01    2343.090\n",
              "Maximo  19705.000000  40675.00  19675.00  3.612969e+07  145765.440\n",
              "Media    3087.168286   4332.14   3426.91  4.244699e+06   31767.778"
            ]
          },
          "metadata": {
            "tags": []
          },
          "execution_count": 44
        }
      ]
    },
    {
      "cell_type": "markdown",
      "metadata": {
        "id": "1QcZ9Ahdhieh"
      },
      "source": [
        "excersice"
      ]
    },
    {
      "cell_type": "code",
      "metadata": {
        "colab": {
          "base_uri": "https://localhost:8080/"
        },
        "id": "efVcjycchkS8",
        "outputId": "7f6061c4-6adb-4042-98cd-52565c18a152"
      },
      "source": [
        "import pandas as pd\r\n",
        "url=\"https://raw.githubusercontent.com/cate1285/Test-GitHub/main/cotizaciones.csv\"\r\n",
        "df=pd.read_csv(url)\r\n",
        "print(df.head(10))"
      ],
      "execution_count": 46,
      "outputs": [
        {
          "output_type": "stream",
          "text": [
            "         Nombre     Final     Mximo     Mnimo      Volumen   Efectivo\n",
            "0       ACCIONA     95.95     96.75     94.40     84962.00    8166.11\n",
            "1      ACERINOX   8668.00   8672.00   8468.00       885.99    7633.81\n",
            "2           ACS     37.28     37.66     37.22    655982.00   24517.29\n",
            "3          AENA    167.10    167.50    166.10    133738.00   22336.10\n",
            "4       AMADEUS     69.96     70.64     69.56    640476.00   44795.47\n",
            "5   ARCELORMIT.  14152.00  14318.00     14.08    702841.00    9989.65\n",
            "6   BA.SABADELL  10165.00   1033.00  10165.00  12358512.00   12637.65\n",
            "7  BA.SANTANDER      4.02  40675.00      4.01  36129692.00  145765.44\n",
            "8        BANKIA   2249.00   2262.00   2224.00   3024454.00    6803.54\n",
            "9     BANKINTER      6.56   6604.00   6522.00   1375976.00    9030.20\n"
          ],
          "name": "stdout"
        }
      ]
    },
    {
      "cell_type": "code",
      "metadata": {
        "id": "QN27luSKiHbU"
      },
      "source": [
        ""
      ],
      "execution_count": null,
      "outputs": []
    }
  ]
}