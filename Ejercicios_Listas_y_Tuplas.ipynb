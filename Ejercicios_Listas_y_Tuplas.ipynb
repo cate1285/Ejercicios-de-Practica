{
  "nbformat": 4,
  "nbformat_minor": 0,
  "metadata": {
    "colab": {
      "name": "Listas y Tuplas",
      "provenance": [],
      "collapsed_sections": [],
      "authorship_tag": "ABX9TyOrnp33XDBJUaAiGZr7rJW0",
      "include_colab_link": true
    },
    "kernelspec": {
      "name": "python3",
      "display_name": "Python 3"
    }
  },
  "cells": [
    {
      "cell_type": "markdown",
      "metadata": {
        "id": "view-in-github",
        "colab_type": "text"
      },
      "source": [
        "<a href=\"https://colab.research.google.com/github/cate1285/Catesecondtime/blob/main/Listas_y_Tuplas.ipynb\" target=\"_parent\"><img src=\"https://colab.research.google.com/assets/colab-badge.svg\" alt=\"Open In Colab\"/></a>"
      ]
    },
    {
      "cell_type": "markdown",
      "metadata": {
        "id": "AiK9y1d6Io3s"
      },
      "source": [
        "Ejercicio 1\r\n",
        "Escribir un programa que almacene las asignaturas de un curso (por ejemplo Matemáticas, Física, Química, Historia y Lengua) en una lista y la muestre por pantalla."
      ]
    },
    {
      "cell_type": "code",
      "metadata": {
        "colab": {
          "base_uri": "https://localhost:8080/"
        },
        "id": "Zx9K-EZ4Ip5y",
        "outputId": "a3d37656-3763-45b0-8806-b38f877651d0"
      },
      "source": [
        "list_l=[\"Mate\",\"Soci\"]\r\n",
        "print(list_l)"
      ],
      "execution_count": null,
      "outputs": [
        {
          "output_type": "stream",
          "text": [
            "['Mate', 'Soci']\n"
          ],
          "name": "stdout"
        }
      ]
    },
    {
      "cell_type": "markdown",
      "metadata": {
        "id": "RXN5P2NOfs1G"
      },
      "source": [
        "Ejercicio 2\r\n",
        "Escribir un programa que almacene las asignaturas de un curso (por ejemplo Matemáticas, Física, Química, Historia y Lengua) en una lista y la muestre por pantalla el mensaje Yo estudio <asignatura>, donde <asignatura> es cada una de las asignaturas de la lista."
      ]
    },
    {
      "cell_type": "code",
      "metadata": {
        "colab": {
          "base_uri": "https://localhost:8080/"
        },
        "id": "mFTfE7JpLZhz",
        "outputId": "380afc33-3424-41e9-ad8e-031e4a207b07"
      },
      "source": [
        "asignaturas=[\"Matematicas\",\"Fisica\",\"Quimica\"]\r\n",
        "for i in asignaturas:\r\n",
        "  print(\"Yo estudio \"+i)"
      ],
      "execution_count": null,
      "outputs": [
        {
          "output_type": "stream",
          "text": [
            "Yo estudio Matematicas\n",
            "Yo estudio Fisica\n",
            "Yo estudio Quimica\n"
          ],
          "name": "stdout"
        }
      ]
    },
    {
      "cell_type": "markdown",
      "metadata": {
        "id": "dHJNCyk8LPYj"
      },
      "source": [
        "Ejercicio 3\r\n",
        "Escribir un programa que almacene las asignaturas de un curso (por ejemplo Matemáticas, Física, Química, Historia y Lengua) en una lista, pregunte al usuario la nota que ha sacado en cada asignatura, y después las muestre por pantalla con el mensaje En <asignatura> has sacado <nota> donde <asignatura> es cada una des las asignaturas de la lista y <nota> cada una de las correspondientes notas introducidas por el usuario."
      ]
    },
    {
      "cell_type": "code",
      "metadata": {
        "colab": {
          "base_uri": "https://localhost:8080/"
        },
        "id": "nlyJdfwhLOt3",
        "outputId": "e1b91f87-3a18-4c5e-a1e3-4082b2c4fbe5"
      },
      "source": [
        "my_list=[\"Matematicas\",\"Fisica\",\"Quimica\",\"Historia\",\"Lengua\"]\r\n",
        "notas=[]\r\n",
        "for i in my_list:\r\n",
        "    nota=input(\"Nota en \"+i)\r\n",
        "    notas.append(nota)\r\n",
        "for a in range(len(my_list)):\r\n",
        "  print(\"En \"+my_list[a]+\"has sacado\"+notas[a])\r\n"
      ],
      "execution_count": null,
      "outputs": [
        {
          "output_type": "stream",
          "text": [
            "Nota en Matematicas4\n",
            "Nota en Fisica5\n",
            "Nota en Quimica6\n",
            "Nota en Historia7\n",
            "Nota en Lengua8\n",
            "En Matematicashas sacado4\n",
            "En Fisicahas sacado5\n",
            "En Quimicahas sacado6\n",
            "En Historiahas sacado7\n",
            "En Lenguahas sacado8\n"
          ],
          "name": "stdout"
        }
      ]
    },
    {
      "cell_type": "markdown",
      "metadata": {
        "id": "lEBsHsfoClzx"
      },
      "source": [
        "Ejercicio 4\r\n",
        "Escribir un programa que pregunte al usuario los números ganadores de la lotería primitiva, los almacene en una lista y los muestre por pantalla ordenados de menor a mayor."
      ]
    },
    {
      "cell_type": "markdown",
      "metadata": {
        "id": "u9ztRO6j1EAx"
      },
      "source": [
        ""
      ]
    },
    {
      "cell_type": "code",
      "metadata": {
        "colab": {
          "base_uri": "https://localhost:8080/"
        },
        "id": "H7okB71Hz2ko",
        "outputId": "a48e7e04-62ae-47c8-bbd0-0306fd4d653b"
      },
      "source": [
        "lis=[]\r\n",
        "for i in range(6):\r\n",
        "  lis.append(int(input(\"enter a number\")))\r\n",
        "lis.sort()\r\n",
        "print(lis)\r\n",
        " "
      ],
      "execution_count": null,
      "outputs": [
        {
          "output_type": "stream",
          "text": [
            "enter a number6\n",
            "enter a number4\n",
            "enter a number3\n",
            "enter a number2\n",
            "enter a number3\n",
            "enter a number3\n",
            "[2, 3, 3, 3, 4, 6]\n"
          ],
          "name": "stdout"
        }
      ]
    },
    {
      "cell_type": "markdown",
      "metadata": {
        "id": "GJ4WN-LftxRF"
      },
      "source": [
        "Ejercicio 5\r\n",
        "Escribir un programa que almacene en una lista los números del 1 al 10 y los muestre por pantalla en orden inverso separados por comas."
      ]
    },
    {
      "cell_type": "markdown",
      "metadata": {
        "id": "hs6mxDVZsCFs"
      },
      "source": [
        ""
      ]
    },
    {
      "cell_type": "code",
      "metadata": {
        "colab": {
          "base_uri": "https://localhost:8080/"
        },
        "id": "GX0OcLDt1j7w",
        "outputId": "998d40b2-17a3-404f-d428-e66f9b3b84b2"
      },
      "source": [
        "lis=[]\r\n",
        "for i in range (10,0,-1):\r\n",
        "   print(i,end=\",\")\r\n",
        "   lis.append(i)\r\n",
        "print(\"\\t\")\r\n",
        "print(lis)"
      ],
      "execution_count": null,
      "outputs": [
        {
          "output_type": "stream",
          "text": [
            "10,9,8,7,6,5,4,3,2,1,\t\n",
            "[10, 9, 8, 7, 6, 5, 4, 3, 2, 1]\n"
          ],
          "name": "stdout"
        }
      ]
    },
    {
      "cell_type": "code",
      "metadata": {
        "id": "8nHrIaoOr5vH"
      },
      "source": [
        "lis=[\"Matematicas\",\"Fisica\",\"Quimica\",\"Historia\",\"Lengua\"]\r\n",
        "li=[]\r\n",
        "for i in lis:\r\n",
        "    nota=int(input(\"Que nota has sacado?\"))\r\n",
        "    if nota >= 5:\r\n",
        "       li.append(i)\r\n",
        "for i in li:\r\n",
        "    lis.remove(i)\r\n",
        "print(\"tienes que repetir\"+str(lis))"
      ],
      "execution_count": null,
      "outputs": []
    },
    {
      "cell_type": "markdown",
      "metadata": {
        "id": "txsxzg1zxaNY"
      },
      "source": [
        "Ejercicio 6\r\n",
        "Escribir un programa que almacene las asignaturas de un curso (por ejemplo Matemáticas, Física, Química, Historia y Lengua) en una lista, pregunte al usuario la nota que ha sacado en cada asignatura y elimine de la lista las asignaturas aprobadas. Al final el programa debe mostrar por pantalla las asignaturas que el usuario tiene que repetir."
      ]
    },
    {
      "cell_type": "markdown",
      "metadata": {
        "id": "coShY61no8Q3"
      },
      "source": [
        "TEST\r\n",
        "Ejercicio 6 Escribir un programa que almacene las asignaturas de un curso (por ejemplo Matemáticas, Física, Química, Historia y Lengua) en una lista, pregunte al usuario la nota que ha sacado en cada asignatura y elimine de la lista las asignaturas aprobadas. Al final el programa debe mostrar por pantalla las asignaturas que el usuario tiene que repetir."
      ]
    },
    {
      "cell_type": "code",
      "metadata": {
        "colab": {
          "base_uri": "https://localhost:8080/"
        },
        "id": "KJOqxrBVyqIn",
        "outputId": "7dc3155b-05c1-4742-cbd3-a5bc5936876c"
      },
      "source": [
        "materias=[\"Matematicas\",\"Fisica\",\"Quimica\",\"Historia\",\"Lengua\"]\r\n",
        "lil=[]\r\n",
        "for i in  materias:\r\n",
        "    score=int(input(\"Ingresa la nota\"))\r\n",
        "    if score <= 5:\r\n",
        "       lil.append(i)\r\n",
        "for i in lil:\r\n",
        "    materias.remove(i)\r\n",
        "print(\"Las materias a repetir son \"+ str(materias))\r\n",
        "\r\n"
      ],
      "execution_count": null,
      "outputs": [
        {
          "output_type": "stream",
          "text": [
            "Ingresa la nota3\n",
            "Ingresa la nota4\n",
            "Ingresa la nota5\n",
            "Ingresa la nota6\n",
            "Ingresa la nota7\n",
            "Las materias a repetir son ['Historia', 'Lengua']\n"
          ],
          "name": "stdout"
        }
      ]
    },
    {
      "cell_type": "markdown",
      "metadata": {
        "id": "5tcaxDeCulFI"
      },
      "source": [
        "Ejercicio 7\r\n",
        "Escribir un programa que almacene el abecedario en una lista, elimine de la lista las letras que ocupen posiciones múltiplos de 3, y muestre por pantalla la lista resultante."
      ]
    },
    {
      "cell_type": "code",
      "metadata": {
        "colab": {
          "base_uri": "https://localhost:8080/"
        },
        "id": "8hhDFCRaquHp",
        "outputId": "c697d64e-b2a2-4f03-d3ad-57537aa63320"
      },
      "source": [
        "alpha= ['a', 'b', 'c', 'd', 'e', 'f', 'g', 'h', 'i', 'j', 'k', 'l', 'm', 'n', 'ñ', 'o', 'p', 'q', 'r', 's', 't', 'u', 'v', 'w', 'x', 'y', 'z']\r\n",
        "for i in range(len(alpha),1,-1):\r\n",
        "   if i %3==0:\r\n",
        "     alpha.pop(i-1)\r\n",
        "print(alpha)\r\n"
      ],
      "execution_count": null,
      "outputs": [
        {
          "output_type": "stream",
          "text": [
            "['a', 'b', 'd', 'e', 'g', 'h', 'j', 'k', 'm', 'n', 'o', 'p', 'r', 's', 'u', 'v', 'x', 'y']\n"
          ],
          "name": "stdout"
        }
      ]
    },
    {
      "cell_type": "markdown",
      "metadata": {
        "id": "N2tpXdDbwykh"
      },
      "source": [
        "Ejercicio 8\r\n",
        "Escribir un programa que pida al usuario una palabra y muestre por pantalla si es un palíndromo."
      ]
    },
    {
      "cell_type": "code",
      "metadata": {
        "colab": {
          "base_uri": "https://localhost:8080/"
        },
        "id": "_vfZ4gXowJqg",
        "outputId": "6193cf3a-fce4-4e29-932f-46246df59b55"
      },
      "source": [
        "igual,auxiliar=0,0\r\n",
        "palabra=input(\"Ingresa una palabra para verificar.\")\r\n",
        "for i in reversed(range(0,len(palabra))):\r\n",
        "  if palabra[i].lower==palabra[auxiliar].lower:\r\n",
        "    igual+=1\r\n",
        "  auxiliar+=1\r\n",
        "if len(palabra)==igual:\r\n",
        "    print(\"La palabra es un palindromo\")\r\n",
        "else:\r\n",
        "    print(\"La palabra no es un palindromo\")\r\n"
      ],
      "execution_count": null,
      "outputs": [
        {
          "output_type": "stream",
          "text": [
            "Ingresa una palabra para verificar.murcielago\n",
            "La palabra no es un palindromo\n"
          ],
          "name": "stdout"
        }
      ]
    },
    {
      "cell_type": "markdown",
      "metadata": {
        "id": "5PSPrk-n0LMc"
      },
      "source": [
        "Different way to do it"
      ]
    },
    {
      "cell_type": "code",
      "metadata": {
        "colab": {
          "base_uri": "https://localhost:8080/",
          "height": 262
        },
        "id": "h99HFfQU5-Vf",
        "outputId": "321b81ac-4645-4c1c-8ac7-c78f2a4f21ae"
      },
      "source": [
        "palabra=(input(\"Ingrese la palabra\"))\r\n",
        "i_w=palabra\r\n",
        "palabra=list(palabra)\r\n",
        "i_w=list(i_w)\r\n",
        "i_w.reverse()\r\n",
        "if palabra==i_w:\r\n",
        "    print(\"Palindromo\")\r\n",
        "if palabra != i_w:\r\n",
        "    print(\"No es palindromo\")\r\n",
        "\r\n",
        "#Hay un error con la celda, el codigo funciona correctamente pero en un diferente cuaderno\r\n"
      ],
      "execution_count": 24,
      "outputs": [
        {
          "output_type": "stream",
          "text": [
            "Ingrese la palabraana\n"
          ],
          "name": "stdout"
        },
        {
          "output_type": "error",
          "ename": "TypeError",
          "evalue": "ignored",
          "traceback": [
            "\u001b[0;31m---------------------------------------------------------------------------\u001b[0m",
            "\u001b[0;31mTypeError\u001b[0m                                 Traceback (most recent call last)",
            "\u001b[0;32m<ipython-input-24-9bbf5cc691e5>\u001b[0m in \u001b[0;36m<module>\u001b[0;34m()\u001b[0m\n\u001b[1;32m      5\u001b[0m \u001b[0mi_w\u001b[0m\u001b[0;34m.\u001b[0m\u001b[0mreverse\u001b[0m\u001b[0;34m(\u001b[0m\u001b[0;34m)\u001b[0m\u001b[0;34m\u001b[0m\u001b[0;34m\u001b[0m\u001b[0m\n\u001b[1;32m      6\u001b[0m \u001b[0;32mif\u001b[0m \u001b[0mpalabra\u001b[0m\u001b[0;34m==\u001b[0m\u001b[0mi_w\u001b[0m\u001b[0;34m:\u001b[0m\u001b[0;34m\u001b[0m\u001b[0;34m\u001b[0m\u001b[0m\n\u001b[0;32m----> 7\u001b[0;31m     \u001b[0mprint\u001b[0m\u001b[0;34m(\u001b[0m\u001b[0;34m\"Palindromo\"\u001b[0m\u001b[0;34m)\u001b[0m\u001b[0;34m\u001b[0m\u001b[0;34m\u001b[0m\u001b[0m\n\u001b[0m\u001b[1;32m      8\u001b[0m \u001b[0;32mif\u001b[0m \u001b[0mpalabra\u001b[0m \u001b[0;34m!=\u001b[0m \u001b[0mi_w\u001b[0m\u001b[0;34m:\u001b[0m\u001b[0;34m\u001b[0m\u001b[0;34m\u001b[0m\u001b[0m\n\u001b[1;32m      9\u001b[0m     \u001b[0mprint\u001b[0m\u001b[0;34m(\u001b[0m\u001b[0;34m\"No es palindromo\"\u001b[0m\u001b[0;34m)\u001b[0m\u001b[0;34m\u001b[0m\u001b[0;34m\u001b[0m\u001b[0m\n",
            "\u001b[0;31mTypeError\u001b[0m: 'str' object is not callable"
          ]
        }
      ]
    },
    {
      "cell_type": "markdown",
      "metadata": {
        "id": "zSOcOKBf6b3x"
      },
      "source": [
        "Ejercicio 9\r\n",
        "Escribir un programa que pida al usuario una palabra y muestre por pantalla el número de veces que contiene cada vocal."
      ]
    },
    {
      "cell_type": "code",
      "metadata": {
        "id": "_Uvn6og_2yMM",
        "colab": {
          "base_uri": "https://localhost:8080/",
          "height": 262
        },
        "outputId": "bdf9e25b-9e0b-4326-bef1-0b82533558d2"
      },
      "source": [
        "palabra=input(\"Ingrese una palabra\")\r\n",
        "vocales=[\"a\",\"e\",\"i\",\"o\",\"u\"]\r\n",
        "for i in vocales:\r\n",
        "  times=0\r\n",
        "  for a in palabra:\r\n",
        "      if a == i:\r\n",
        "         times+=1\r\n",
        "  print(\"la vocal\"+i + \"Se repite\"+str(times)+\"Veces\")\r\n",
        "\r\n",
        "\r\n",
        "\r\n",
        "\r\n",
        "\r\n",
        "\r\n",
        "\r\n",
        "\r\n",
        "\r\n",
        "\r\n",
        "\r\n"
      ],
      "execution_count": 32,
      "outputs": [
        {
          "output_type": "stream",
          "text": [
            "Ingrese una palabracate\n"
          ],
          "name": "stdout"
        },
        {
          "output_type": "error",
          "ename": "TypeError",
          "evalue": "ignored",
          "traceback": [
            "\u001b[0;31m---------------------------------------------------------------------------\u001b[0m",
            "\u001b[0;31mTypeError\u001b[0m                                 Traceback (most recent call last)",
            "\u001b[0;32m<ipython-input-32-bdd74532c600>\u001b[0m in \u001b[0;36m<module>\u001b[0;34m()\u001b[0m\n\u001b[1;32m      6\u001b[0m       \u001b[0;32mif\u001b[0m \u001b[0ma\u001b[0m \u001b[0;34m==\u001b[0m \u001b[0mi\u001b[0m\u001b[0;34m:\u001b[0m\u001b[0;34m\u001b[0m\u001b[0;34m\u001b[0m\u001b[0m\n\u001b[1;32m      7\u001b[0m          \u001b[0mtimes\u001b[0m\u001b[0;34m+=\u001b[0m\u001b[0;36m1\u001b[0m\u001b[0;34m\u001b[0m\u001b[0;34m\u001b[0m\u001b[0m\n\u001b[0;32m----> 8\u001b[0;31m   \u001b[0mprint\u001b[0m\u001b[0;34m(\u001b[0m\u001b[0;34m\"la vocal\"\u001b[0m\u001b[0;34m+\u001b[0m\u001b[0mi\u001b[0m \u001b[0;34m+\u001b[0m \u001b[0;34m\"Se repite\"\u001b[0m\u001b[0;34m+\u001b[0m\u001b[0mstr\u001b[0m\u001b[0;34m(\u001b[0m\u001b[0mtimes\u001b[0m\u001b[0;34m)\u001b[0m\u001b[0;34m+\u001b[0m\u001b[0;34m\"Veces\"\u001b[0m\u001b[0;34m)\u001b[0m\u001b[0;34m\u001b[0m\u001b[0;34m\u001b[0m\u001b[0m\n\u001b[0m\u001b[1;32m      9\u001b[0m \u001b[0;34m\u001b[0m\u001b[0m\n\u001b[1;32m     10\u001b[0m \u001b[0;34m\u001b[0m\u001b[0m\n",
            "\u001b[0;31mTypeError\u001b[0m: 'str' object is not callable"
          ]
        }
      ]
    },
    {
      "cell_type": "code",
      "metadata": {
        "id": "uIi0iBqwGJmT"
      },
      "source": [
        ""
      ],
      "execution_count": null,
      "outputs": []
    }
  ]
}