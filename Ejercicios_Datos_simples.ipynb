{
  "nbformat": 4,
  "nbformat_minor": 0,
  "metadata": {
    "colab": {
      "name": "Ejercicios Python.ipynb",
      "provenance": [],
      "collapsed_sections": [],
      "authorship_tag": "ABX9TyMAwnvzKJV1VZWJoto9PGPw",
      "include_colab_link": true
    },
    "kernelspec": {
      "name": "python3",
      "display_name": "Python 3"
    }
  },
  "cells": [
    {
      "cell_type": "markdown",
      "metadata": {
        "id": "view-in-github",
        "colab_type": "text"
      },
      "source": [
        "<a href=\"https://colab.research.google.com/github/cate1285/Catesecondtime/blob/main/Datos_simples.ipynb\" target=\"_parent\"><img src=\"https://colab.research.google.com/assets/colab-badge.svg\" alt=\"Open In Colab\"/></a>"
      ]
    },
    {
      "cell_type": "markdown",
      "metadata": {
        "id": "pQpLwKbMaKXq"
      },
      "source": [
        "Ejercicio 1\r\n",
        "Escribir un programa que muestre por pantalla la cadena ¡Hola Mundo!.\r\n",
        "\r\n",
        "\r\n",
        "\r\n"
      ]
    },
    {
      "cell_type": "code",
      "metadata": {
        "colab": {
          "base_uri": "https://localhost:8080/"
        },
        "id": "ADnQRV44aXte",
        "outputId": "0e244c31-0bfa-4df8-f875-6f6c78d27aea"
      },
      "source": [
        "print (\"¡Hola Mundo!\")"
      ],
      "execution_count": null,
      "outputs": [
        {
          "output_type": "stream",
          "text": [
            "¡Hola Mundo!\n"
          ],
          "name": "stdout"
        }
      ]
    },
    {
      "cell_type": "markdown",
      "metadata": {
        "id": "gSqUHh9Pa9v9"
      },
      "source": [
        "Ejercicio 2\r\n",
        "Escribir un programa que almacene la cadena ¡Hola Mundo! en una variable y luego muestre por pantalla el contenido de la variable."
      ]
    },
    {
      "cell_type": "code",
      "metadata": {
        "colab": {
          "base_uri": "https://localhost:8080/"
        },
        "id": "jCGYEydla-oA",
        "outputId": "6ec4d887-7ef5-43fd-f841-2aff79d247c3"
      },
      "source": [
        "x=\"¡Hola Mundo!\"\r\n",
        "print (x)"
      ],
      "execution_count": null,
      "outputs": [
        {
          "output_type": "stream",
          "text": [
            "¡Hola Mundo!\n"
          ],
          "name": "stdout"
        }
      ]
    },
    {
      "cell_type": "markdown",
      "metadata": {
        "id": "lscDLFtRbT09"
      },
      "source": [
        "Ejercicio 3\r\n",
        "Escribir un programa que pregunte el nombre del usuario en la consola y después de que el usuario lo introduzca muestre por pantalla la cadena ¡Hola <nombre>!, donde <nombre> es el nombre que el usuario haya introducido."
      ]
    },
    {
      "cell_type": "code",
      "metadata": {
        "colab": {
          "base_uri": "https://localhost:8080/"
        },
        "id": "94QSmY7DbUi3",
        "outputId": "635feeeb-b9b3-4fcb-c23f-e00b37ef2a74"
      },
      "source": [
        "name=input(\"Cual es tu nombre?\")\r\n",
        "print (\"Hola\",name)"
      ],
      "execution_count": null,
      "outputs": [
        {
          "output_type": "stream",
          "text": [
            "Cual es tu nombre?Cate\n",
            "Hola Cate\n"
          ],
          "name": "stdout"
        }
      ]
    },
    {
      "cell_type": "markdown",
      "metadata": {
        "id": "BisgMrhac4GF"
      },
      "source": [
        "Ejercicio 4\r\n",
        "Escribir un programa que pregunte el nombre del usuario en la consola y un número entero e imprima por pantalla en líneas distintas el nombre del usuario tantas veces como el número introducido.\r\n",
        "\r\n",
        "\r\n"
      ]
    },
    {
      "cell_type": "code",
      "metadata": {
        "colab": {
          "base_uri": "https://localhost:8080/"
        },
        "id": "C6V8EfFucP3f",
        "outputId": "79972692-e35c-409a-ffe9-1d508d603b2d"
      },
      "source": [
        "name=input(\"Cual es tu nombre?\")\r\n",
        "number=input(\"Enter a number\")\r\n",
        "print ((name +\"\\n\")*int(number))"
      ],
      "execution_count": null,
      "outputs": [
        {
          "output_type": "stream",
          "text": [
            "Cual es tu nombre?cate\n",
            "Enter a number4\n",
            "cate\n",
            "cate\n",
            "cate\n",
            "cate\n",
            "\n"
          ],
          "name": "stdout"
        }
      ]
    },
    {
      "cell_type": "markdown",
      "metadata": {
        "id": "W9RgPwUihLRS"
      },
      "source": [
        "Ejercicio 5\r\n",
        "Escribir un programa que pregunte el nombre del usuario en la consola y después de que el usuario lo introduzca muestre por pantalla <NOMBRE> tiene <n> letras, donde <NOMBRE> es el nombre de usuario en mayúsculas y <n> es el número de letras que tienen el nombre.\r\n",
        "\r\n",
        "\r\n"
      ]
    },
    {
      "cell_type": "code",
      "metadata": {
        "colab": {
          "base_uri": "https://localhost:8080/"
        },
        "id": "51gQ8PvBhLuq",
        "outputId": "8d995381-099d-4fa0-e3eb-998929c8652e"
      },
      "source": [
        "name=input(\"what is your name?\")\r\n",
        "print (\"El  nombre es  \"+ name.upper()+ \" y el numero de letras es \"+ str(len(name)))"
      ],
      "execution_count": null,
      "outputs": [
        {
          "output_type": "stream",
          "text": [
            "what is your name?Cate\n",
            "El  nombre es  CATE y el numero de letras es 4\n"
          ],
          "name": "stdout"
        }
      ]
    },
    {
      "cell_type": "markdown",
      "metadata": {
        "id": "oLO6InxKjL-X"
      },
      "source": [
        "Ejercicio 6\r\n",
        "Escribir un programa que realice la siguiente operación aritmética .\r\n",
        "\r\n",
        "\r\n"
      ]
    },
    {
      "cell_type": "code",
      "metadata": {
        "colab": {
          "base_uri": "https://localhost:8080/"
        },
        "id": "ZlJ-g4AxjM1C",
        "outputId": "f5565ca3-1362-435c-9a69-c005cc5eaa1d"
      },
      "source": [
        "print (((3+2)/(2*5))**2)"
      ],
      "execution_count": null,
      "outputs": [
        {
          "output_type": "stream",
          "text": [
            "0.25\n"
          ],
          "name": "stdout"
        }
      ]
    },
    {
      "cell_type": "markdown",
      "metadata": {
        "id": "Cn9oiUt4kQQh"
      },
      "source": [
        "Ejercicio 7\r\n",
        "Escribir un programa que pregunte al usuario por el número de horas trabajadas y el coste por hora. Después debe mostrar por pantalla la paga que le corresponde"
      ]
    },
    {
      "cell_type": "code",
      "metadata": {
        "colab": {
          "base_uri": "https://localhost:8080/"
        },
        "id": "0GrMXfP_kBea",
        "outputId": "5ddda56e-fa46-4f6d-ef78-78a5b874789a"
      },
      "source": [
        "numberhours=int(input(\"How many hours do you work?\"))\r\n",
        "cost=int(input(\"How much cost an hour?\"))\r\n",
        "print(numberhours*cost)"
      ],
      "execution_count": null,
      "outputs": [
        {
          "output_type": "stream",
          "text": [
            "How many hours do you work?8\n",
            "How much cost an hour?20000\n",
            "160000\n"
          ],
          "name": "stdout"
        }
      ]
    },
    {
      "cell_type": "markdown",
      "metadata": {
        "id": "Ph5Vml2HlrJL"
      },
      "source": [
        "Ejercicio 8\r\n",
        "Escribir un programa que lea un entero positivo, , introducido por el usuario y después muestre en pantalla la suma de todos los enteros desde 1 hasta . La suma de los  primeros enteros positivos puede ser calculada de la siguiente forma:"
      ]
    },
    {
      "cell_type": "code",
      "metadata": {
        "colab": {
          "base_uri": "https://localhost:8080/"
        },
        "id": "iwLV2Yl8lAk4",
        "outputId": "e9ae4146-060d-4bf2-d572-c05297ae6a67"
      },
      "source": [
        "number=(int(input(\"enter a number\")))\r\n",
        "print((number*(number+1))/2)"
      ],
      "execution_count": null,
      "outputs": [
        {
          "output_type": "stream",
          "text": [
            "enter a number4\n",
            "10.0\n"
          ],
          "name": "stdout"
        }
      ]
    },
    {
      "cell_type": "markdown",
      "metadata": {
        "id": "cKKaIqihoShC"
      },
      "source": [
        "Ejercicio 9\r\n",
        "Escribir un programa que pida al usuario su peso (en kg) y estatura (en metros), calcule el índice de masa corporal y lo almacene en una variable, y muestre por pantalla la frase Tu índice de masa corporal es <imc> donde <imc> es el índice de masa corporal calculado redondeado con dos decimales."
      ]
    },
    {
      "cell_type": "code",
      "metadata": {
        "colab": {
          "base_uri": "https://localhost:8080/"
        },
        "id": "UjFRCzU9miI9",
        "outputId": "3b0ce3ec-b7bb-4839-8e85-a87f24d8505d"
      },
      "source": [
        "peso=(float(input(\"Enter your weight in kg\")))\r\n",
        "height=(float(input(\"Enter your height in meters \")))\r\n",
        "imc=(round(peso/(height**2),2))\r\n",
        "print(\"Tu masa corporal es \"+ str(imc))"
      ],
      "execution_count": null,
      "outputs": [
        {
          "output_type": "stream",
          "text": [
            "Enter your weight in kg79\n",
            "Enter your height in meters 1.58\n",
            "Tu masa corporal es 31.65\n"
          ],
          "name": "stdout"
        }
      ]
    },
    {
      "cell_type": "markdown",
      "metadata": {
        "id": "YZU5YYMMudbl"
      },
      "source": [
        "Ejercicio 10\r\n",
        "Escribir un programa que pida al usuario dos números enteros y muestre por pantalla la <n> entre <m> da un cociente <c> y un resto <r> donde <n> y <m> son los números introducidos por el usuario, y <c> y <r> son el cociente y el resto de la división entera respectivamente."
      ]
    },
    {
      "cell_type": "code",
      "metadata": {
        "colab": {
          "base_uri": "https://localhost:8080/"
        },
        "id": "pXFXyiO2qvAW",
        "outputId": "17ff7312-82a0-4459-efb9-de7e67c0a470"
      },
      "source": [
        "firstnumber=(int(input(\"Enter a whole number\")))\r\n",
        "secondnumber=(int(input(\"Enter a second number\")))\r\n",
        "cociente=(firstnumber/secondnumber)\r\n",
        "resto=(firstnumber%secondnumber)\r\n",
        "print(\"El \"+str(firstnumber)+\" entre \"+str(secondnumber)+\" da un cociente de \"+str(cociente)+\" y un resto de \"+str(resto))"
      ],
      "execution_count": null,
      "outputs": [
        {
          "output_type": "stream",
          "text": [
            "Enter a whole number6\n",
            "Enter a second number6\n",
            "El 6 entre 6 da un cociente de 1.0 y un resto de 0\n"
          ],
          "name": "stdout"
        }
      ]
    },
    {
      "cell_type": "markdown",
      "metadata": {
        "id": "DjRT0PeJ0cys"
      },
      "source": [
        "pedir dos numeros m y n por pantalla, despues muestra los numeros desde n a m y luego de m a n ."
      ]
    },
    {
      "cell_type": "code",
      "metadata": {
        "colab": {
          "base_uri": "https://localhost:8080/"
        },
        "id": "Rc04N1NLxl_t",
        "outputId": "96b86445-2235-443a-f6d2-af305b58ab4f"
      },
      "source": [
        "m = int(input(\"Ingresa un numbero \"))\r\n",
        "n = int(input(\"Ingresa un segundo numero \"))\r\n",
        "   \r\n",
        "for i in range(m, n+1, 1):\r\n",
        "    print(i)\r\n",
        "for j in range(n, m-1, -1):\r\n",
        "    print(j)\r\n",
        "    \r\n",
        "\r\n"
      ],
      "execution_count": null,
      "outputs": [
        {
          "output_type": "stream",
          "text": [
            "Ingresa un numbero 5\n",
            "Ingresa un segundo numero 10\n",
            "5\n",
            "6\n",
            "7\n",
            "8\n",
            "9\n",
            "10\n",
            "10\n",
            "9\n",
            "8\n",
            "7\n",
            "6\n",
            "5\n"
          ],
          "name": "stdout"
        }
      ]
    },
    {
      "cell_type": "markdown",
      "metadata": {
        "id": "1FUXdLy8Adiv"
      },
      "source": [
        "Ejercicio 11\r\n",
        "Escribir un programa que pregunte al usuario una cantidad a invertir, el interés anual y el número de años, y muestre por pantalla el capital obtenido en la inversión."
      ]
    },
    {
      "cell_type": "code",
      "metadata": {
        "colab": {
          "base_uri": "https://localhost:8080/"
        },
        "id": "mak5orxfAgSa",
        "outputId": "cb6930d9-5c8b-4ca1-9113-dad545c61e42"
      },
      "source": [
        "inversion=(float(input(\"Ingrese la cantidad invertida\")))\r\n",
        "interes=(float(input(\"Ingrese el interes anual en %\")))\r\n",
        "number=(float(input(\"Ingrese el numero de años\")))\r\n",
        "capital= (inversion*(interes/100+1)**number)\r\n",
        "print (\"El capital obtenido de la inversion es \"+ (str(capital)))\r\n",
        "\r\n"
      ],
      "execution_count": 77,
      "outputs": [
        {
          "output_type": "stream",
          "text": [
            "Ingrese la cantidad invertida20\n",
            "Ingrese el interes anual en %10\n",
            "Ingrese el numero de años2\n",
            "El capital obtenido de la inversion es 24.200000000000003\n"
          ],
          "name": "stdout"
        }
      ]
    },
    {
      "cell_type": "markdown",
      "metadata": {
        "id": "L7oZ_alnQSLb"
      },
      "source": [
        "Ejercicio 12\r\n",
        "Una juguetería tiene mucho éxito en dos de sus productos: payasos y muñecas. Suele hacer venta por correo y la empresa de logística les cobra por peso de cada paquete así que deben calcular el peso de los payasos y muñecas que saldrán en cada paquete a demanda. Cada payaso pesa 112 g y cada muñeca 75 g. Escribir un programa que lea el número de payasos y muñecas vendidos en el último pedido y calcule el peso total del paquete que será enviado."
      ]
    },
    {
      "cell_type": "code",
      "metadata": {
        "id": "mXwyMUtuEvDB",
        "colab": {
          "base_uri": "https://localhost:8080/"
        },
        "outputId": "d4f5ad4c-6aae-4212-a0ba-0e0682f8c46e"
      },
      "source": [
        "payasos=int(input(\"Ingrese el numero de payasos vendidos\"))\r\n",
        "munecas=int(input(\"Ingrese el numero de muñecas vendidas\"))\r\n",
        "pesopaya=payasos*112\r\n",
        "pesomune=munecas*75\r\n",
        "peso=(pesopaya+pesomune)\r\n",
        "print(\"Numero de payasos vendidos \"+ str(payasos) + \" Numero de muñecas vendidas \" + str(munecas)+\" El peso total del paquete es \"+str(peso)+\"g\")\r\n",
        "\r\n"
      ],
      "execution_count": 84,
      "outputs": [
        {
          "output_type": "stream",
          "text": [
            "Ingrese el numero de payasos vendidos7\n",
            "Ingrese el numero de muñecas vendidas8\n",
            "Numero de payasos vendidos 7 Numero de muñecas vendidas 8 El peso total del paquete es 1384g\n"
          ],
          "name": "stdout"
        }
      ]
    },
    {
      "cell_type": "markdown",
      "metadata": {
        "id": "PM10qWTUTaM0"
      },
      "source": [
        "Ejercicio 13\r\n",
        "Imagina que acabas de abrir una nueva cuenta de ahorros que te ofrece el 4% de interés al año. Estos ahorros debido a intereses, que no se cobran hasta finales de año, se te añaden al balance final de tu cuenta de ahorros. Escribir un programa que comience leyendo la cantidad de dinero depositada en la cuenta de ahorros, introducida por el usuario. Después el programa debe calcular y mostrar por pantalla la cantidad de ahorros tras el primer, segundo y tercer años. Redondear cada cantidad a dos decimales."
      ]
    },
    {
      "cell_type": "code",
      "metadata": {
        "colab": {
          "base_uri": "https://localhost:8080/"
        },
        "id": "tGvrZVI6SMuE",
        "outputId": "94278d63-9969-4a89-e456-0a5e317ca2f8"
      },
      "source": [
        "amount=float(input(\"Ingresa la cantidad depositada en la cuenta\"))\r\n",
        "interes=float(0.04)\r\n",
        "year=float(3)\r\n",
        "primerano=(amount*(interes+1))\r\n",
        "print(\"La cantidad de ahorros el primer año es \"+str(round(primerano,2)))\r\n",
        "segundoano=(primerano*(interes+1))\r\n",
        "print(\"La cantidad de ahorros el segundo año es \"+str(round(segundoano,2)))\r\n",
        "tercerano=(segundoano*(interes+1))\r\n",
        "print(\"La cantidad de ahorros el tercer año es \"+str(round(tercerano,2)))"
      ],
      "execution_count": 121,
      "outputs": [
        {
          "output_type": "stream",
          "text": [
            "Ingresa la cantidad depositada en la cuenta10000.45\n",
            "La cantidad de ahorros el primer año es 10400.47\n",
            "La cantidad de ahorros el segundo año es 10816.49\n",
            "La cantidad de ahorros el tercer año es 11249.15\n"
          ],
          "name": "stdout"
        }
      ]
    },
    {
      "cell_type": "markdown",
      "metadata": {
        "id": "vDiBARUwcoXV"
      },
      "source": [
        "Ejercicio 14\r\n",
        "Una panadería vende barras de pan a 3.49€ cada una. El pan que no es el día tiene un descuento del 60%. Escribir un programa que comience leyendo el número de barras vendidas que no son del día. Después el programa debe mostrar el precio habitual de una barra de pan, el descuento que se le hace por no ser fresca y el coste final total.\r\n",
        "\r\n",
        "\r\n"
      ]
    },
    {
      "cell_type": "code",
      "metadata": {
        "colab": {
          "base_uri": "https://localhost:8080/"
        },
        "id": "_GzcLEU9VyHF",
        "outputId": "c46d1eb1-9f1e-402a-8d88-1c188eba78d5"
      },
      "source": [
        "barras=float(input(\"Ingresa el numero de barras vendidas que no son del dia\"))\r\n",
        "precio=3.49\r\n",
        "descuento=0.6\r\n",
        "precioun=barras*precio\r\n",
        "x=precioun-costo\r\n",
        "costo=(precioun*descuento)\r\n",
        "print (\"El precio habitual de una barra de pan es \"+ str(precio))\r\n",
        "print (\"El descuento que se hace por no ser fresca es \"+ str(descuento*100))\r\n",
        "print (\"El coste final es de \"+str(round(x,2)))"
      ],
      "execution_count": 132,
      "outputs": [
        {
          "output_type": "stream",
          "text": [
            "Ingresa el numero de barras vendidas que no son del dia2\n",
            "El precio habitual de una barra de pan es 3.49\n",
            "El descuento que se hace por no ser fresca es 60.0\n",
            "El coste final es de 2.79\n"
          ],
          "name": "stdout"
        }
      ]
    }
  ]
}