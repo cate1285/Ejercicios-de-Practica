{
  "nbformat": 4,
  "nbformat_minor": 0,
  "metadata": {
    "colab": {
      "name": "Condicionales",
      "provenance": [],
      "authorship_tag": "ABX9TyNRrG2lX1tfskgNyql8powy",
      "include_colab_link": true
    },
    "kernelspec": {
      "name": "python3",
      "display_name": "Python 3"
    }
  },
  "cells": [
    {
      "cell_type": "markdown",
      "metadata": {
        "id": "view-in-github",
        "colab_type": "text"
      },
      "source": [
        "<a href=\"https://colab.research.google.com/github/cate1285/Catesecondtime/blob/main/Condicionales.ipynb\" target=\"_parent\"><img src=\"https://colab.research.google.com/assets/colab-badge.svg\" alt=\"Open In Colab\"/></a>"
      ]
    },
    {
      "cell_type": "markdown",
      "metadata": {
        "id": "IfmZa20F2mBD"
      },
      "source": [
        "Ejercicios de Condicionales\r\n"
      ]
    },
    {
      "cell_type": "markdown",
      "metadata": {
        "id": "TLlZa94a2rNQ"
      },
      "source": [
        "Ejercicio 1\r\n",
        "Escribir un programa que pregunte al usuario su edad y muestre por pantalla si es mayor de edad o no."
      ]
    },
    {
      "cell_type": "code",
      "metadata": {
        "colab": {
          "base_uri": "https://localhost:8080/"
        },
        "id": "PGGxv2Dl2vKU",
        "outputId": "08af36ca-044e-40fb-b412-f125c6082658"
      },
      "source": [
        "age=int(input(\"Ingrese su edad\"))\r\n",
        "if age < 18:\r\n",
        "  print (\"Eres menor de edad\")\r\n",
        "else:\r\n",
        "  print (\"Eres mayor de edad\")"
      ],
      "execution_count": 10,
      "outputs": [
        {
          "output_type": "stream",
          "text": [
            "Ingrese su edad54\n",
            "Eres mayor de edad\n"
          ],
          "name": "stdout"
        }
      ]
    },
    {
      "cell_type": "markdown",
      "metadata": {
        "id": "-TP3w0Pw4frR"
      },
      "source": [
        "Ejercicio 2\r\n",
        "Escribir un programa que almacene la cadena de caracteres contraseña en una variable, pregunte al usuario por la contraseña e imprima por pantalla si la contraseña introducida por el usuario coincide con la guardada en la variable sin tener en cuenta mayúsculas y minúsculas."
      ]
    },
    {
      "cell_type": "code",
      "metadata": {
        "colab": {
          "base_uri": "https://localhost:8080/"
        },
        "id": "xJT7s2f33O1l",
        "outputId": "8bf1d059-a7e9-4ab5-8d0d-69d5da230701"
      },
      "source": [
        "varia=\"contraseña\"\r\n",
        "contrasena=input(\"Ingresa la contraseña\")\r\n",
        "if contrasena.lower()==varia:\r\n",
        "  print (\"La contraseña \"+vaaria+ \" coincide\")\r\n",
        "else:\r\n",
        "  print(\"La contraseña no coincide\")\r\n"
      ],
      "execution_count": 22,
      "outputs": [
        {
          "output_type": "stream",
          "text": [
            "Ingresa la contraseñaContraseña\n",
            "La contraseña contraseña coincide\n"
          ],
          "name": "stdout"
        }
      ]
    },
    {
      "cell_type": "markdown",
      "metadata": {
        "id": "nW24fskC7s8c"
      },
      "source": [
        "Ejercicio 3\r\n",
        "Escribir un programa que pida al usuario dos números y muestre por pantalla su división. Si el divisor es cero el programa debe mostrar un error."
      ]
    },
    {
      "cell_type": "code",
      "metadata": {
        "colab": {
          "base_uri": "https://localhost:8080/"
        },
        "id": "adr-NgJL6gAU",
        "outputId": "fa6904f7-ba69-46ae-d595-36092e92bbc2"
      },
      "source": [
        "first_number=int(input(\"Enter a number\"))\r\n",
        "second_number=int(input(\"Enter the second number\"))\r\n",
        "division=first_number/second_number\r\n",
        "if second_number == 0:\r\n",
        "  print (\"ERROR\")\r\n",
        "else:\r\n",
        " print(division)"
      ],
      "execution_count": 27,
      "outputs": [
        {
          "output_type": "stream",
          "text": [
            "Enter a number6\n",
            "Enter the second number2\n",
            "3.0\n"
          ],
          "name": "stdout"
        }
      ]
    },
    {
      "cell_type": "markdown",
      "metadata": {
        "id": "e6kSjoBl_dBK"
      },
      "source": [
        "Ejercicio 4\r\n",
        "Escribir un programa que pida al usuario un número entero y muestre por pantalla si es par o impar."
      ]
    },
    {
      "cell_type": "code",
      "metadata": {
        "colab": {
          "base_uri": "https://localhost:8080/"
        },
        "id": "_6DdIWNf-zd1",
        "outputId": "e12b044e-8a33-41dc-f7cc-c1c52630819c"
      },
      "source": [
        "number=int(input(\"Ingresa un numero entero\"))\r\n",
        "producto=number%2\r\n",
        "if producto==0:\r\n",
        "  print(\"El numero es par\")\r\n",
        "else:\r\n",
        "  print(\"El numero es impar\")"
      ],
      "execution_count": 32,
      "outputs": [
        {
          "output_type": "stream",
          "text": [
            "Ingresa un numero entero55\n",
            "El numero es impar\n"
          ],
          "name": "stdout"
        }
      ]
    },
    {
      "cell_type": "markdown",
      "metadata": {
        "id": "0IAHRPQSBCw-"
      },
      "source": [
        "Ejercicio 5\r\n",
        "Para tributar un determinado impuesto se debe ser mayor de 16 años y tener unos ingresos iguales o superiores a 1000 € mensuales. Escribir un programa que pregunte al usuario su edad y sus ingresos mensuales y muestre por pantalla si el usuario tiene que tributar o no."
      ]
    },
    {
      "cell_type": "code",
      "metadata": {
        "colab": {
          "base_uri": "https://localhost:8080/"
        },
        "id": "sGc_CScc_5Hg",
        "outputId": "4131cd47-9845-4614-e2c2-c2b4d5d5187c"
      },
      "source": [
        "edad=16\r\n",
        "ingreso=1000\r\n",
        "edad_customer=int(input(\"Ingrese su edad\"))\r\n",
        "ingreso_ganado=float(input(\"Ingrese su ingreso mensual\"))\r\n",
        "if edad_customer < 16 or ingreso_ganado<ingreso:\r\n",
        "  print(\"No tiene que tributar \")\r\n",
        "else:\r\n",
        "  print(\"Tiene que tributar \")"
      ],
      "execution_count": 39,
      "outputs": [
        {
          "output_type": "stream",
          "text": [
            "Ingrese su edad35\n",
            "Ingrese su ingreso mensual4000\n",
            "Tiene que tributar \n"
          ],
          "name": "stdout"
        }
      ]
    },
    {
      "cell_type": "markdown",
      "metadata": {
        "id": "q3VtrasAD7oe"
      },
      "source": [
        "Ejercicio 6\r\n",
        "Los alumnos de un curso se han dividido en dos grupos A y B de acuerdo al sexo y el nombre. El grupo A esta formado por las mujeres con un nombre anterior a la M y los hombres con un nombre posterior a la N y el grupo B por el resto. Escribir un programa que pregunte al usuario su nombre y sexo, y muestre por pantalla el grupo que le corresponde."
      ]
    },
    {
      "cell_type": "code",
      "metadata": {
        "colab": {
          "base_uri": "https://localhost:8080/"
        },
        "id": "B3CCpD4XDd6Q",
        "outputId": "8ac624c7-a088-4a9a-d286-cf5c292675fe"
      },
      "source": [
        "nombre=input(\"Ingrese su nombre\")\r\n",
        "sexo=input(\"Ingrese su gennero \\n M=Mujer \\n H=Hombre \\nM/H\")\r\n",
        "if nombre.lower()<\"m\" and sexo.upper()==\"M\":\r\n",
        "  print(\"Pertenece al grupo A\")\r\n",
        "elif nombre.lower() > \"n\" and sexo.upper()==\"H\":\r\n",
        "  print(\"Pertenece al grupo A\")\r\n",
        "else:\r\n",
        "  print(\"Pertenece al grupo B\")"
      ],
      "execution_count": 52,
      "outputs": [
        {
          "output_type": "stream",
          "text": [
            "Ingrese su nombrecaterin\n",
            "Ingrese su gennero \n",
            " M=Mujer \n",
            " H=Hombre \n",
            "M/Hm\n",
            "Pertenece al grupo A\n"
          ],
          "name": "stdout"
        }
      ]
    },
    {
      "cell_type": "markdown",
      "metadata": {
        "id": "x54kjIlzNZZd"
      },
      "source": [
        "Ejercicio 7\r\n",
        "Los tramos impositivos para la declaración de la renta en un determinado país son los siguientes:\r\n",
        "Renta\tTipo impositivo\r\n",
        "Menos de 10000€\t5%\r\n",
        "Entre 10000€ y 20000€\t15%\r\n",
        "Entre 200000€ y 35000€\t20%\r\n",
        "Entre 350000€ y 60000€\t30%\r\n",
        "Más de 60000€\t45%\r\n",
        "Escribir un programa que pregunte al usuario su renta anual y muestre por pantalla el tipo impositivo que le corresponde.\r\n"
      ]
    },
    {
      "cell_type": "code",
      "metadata": {
        "colab": {
          "base_uri": "https://localhost:8080/"
        },
        "id": "Hqe7YRCkG3FX",
        "outputId": "f046dafa-ce4d-45ee-b0f6-82222d3a4306"
      },
      "source": [
        "renta=float(input(\"Ingrese su renta anual \"))\r\n",
        "if renta < 10000:\r\n",
        "  vari=\"5%\"\r\n",
        "if renta >= 10000 and renta < 20000:\r\n",
        "  vari=\"15%\"\r\n",
        "if renta >= 20000 and renta <35000:\r\n",
        "  vari(\"20%\")\r\n",
        "if renta >= 35000 and renta<60000:\r\n",
        "  vari=(\"30%\")\r\n",
        "if renta>=60000:\r\n",
        "  vari=(\"45%\")\r\n",
        "print (\"El impositivo correspondiente es \"+str(vari))\r\n",
        "\r\n"
      ],
      "execution_count": 80,
      "outputs": [
        {
          "output_type": "stream",
          "text": [
            "Ingrese su renta anual 5000\n",
            "El impositivo correspondiente es 5%\n"
          ],
          "name": "stdout"
        }
      ]
    },
    {
      "cell_type": "markdown",
      "metadata": {
        "id": "8XoGOpvXYwjv"
      },
      "source": [
        "Ejercicio 8\r\n",
        "En una determinada empresa, sus empleados son evaluados al final de cada año. Los puntos que pueden obtener en la evaluación comienzan en 0.0 y pueden ir aumentando, traduciéndose en mejores beneficios. Los puntos que pueden conseguir los empleados pueden ser 0.0, 0.4, 0.6 o más, pero no valores intermedios entre las cifras mencionadas. A continuación se muestra una tabla con los niveles correspondientes a cada puntuación. La cantidad de dinero conseguida en cada nivel es de 2.400€ multiplicada por la puntuación del nivel.\r\n",
        "Escribir un programa que lea la puntuación del usuario e indique su nivel de rendimiento, así como la cantidad de dinero que recibirá el usuario."
      ]
    },
    {
      "cell_type": "code",
      "metadata": {
        "colab": {
          "base_uri": "https://localhost:8080/"
        },
        "id": "nQU4NUjQW11_",
        "outputId": "0642d5d2-8050-45b5-bdc4-e7ab0a86bf30"
      },
      "source": [
        "puntuacion=float(input(\"Ingrese la puntuacion obtenida\"))\r\n",
        "dinero=2400*puntuacion\r\n",
        "if puntuacion==0.0:b\r\n",
        "  rendimiento=\"Inaceptable\"\r\n",
        "elif puntuacion==0.4:\r\n",
        "  rendimiento=\"Aceptable\"\r\n",
        "elif puntuacion>=0.6:\r\n",
        "  rendimiento=\"Meritorio\"\r\n",
        "else:\r\n",
        "  rendimiento=\"\"\r\n",
        "if rendimiento==\"\":\r\n",
        "  print (\"Ingrese el valor correcto\")\r\n",
        "else:\r\n",
        "  print(\"su rendimiento es \"+ str(rendimiento)+\" La cantidad de dinero que recibira es \"+str(dinero))\r\n"
      ],
      "execution_count": 115,
      "outputs": [
        {
          "output_type": "stream",
          "text": [
            "Ingrese la puntuacion obtenida0.0\n",
            "su rendimiento es Inaceptable La cantidad de dinero que recibira es 0.0\n"
          ],
          "name": "stdout"
        }
      ]
    },
    {
      "cell_type": "markdown",
      "metadata": {
        "id": "WPw3ICIzvHqc"
      },
      "source": [
        "Ejercicio 9\r\n",
        "Escribir un programa para una empresa que tiene salas de juegos para todas las edades y quiere calcular de forma automática el precio que debe cobrar a sus clientes por entrar. El programa debe preguntar al usuario la edad del cliente y mostrar el precio de la entrada. Si el cliente es menor de 4 años puede entrar gratis, si tiene entre 4 y 18 años debe pagar 5€ y si es mayor de 18 años, 10€."
      ]
    },
    {
      "cell_type": "code",
      "metadata": {
        "colab": {
          "base_uri": "https://localhost:8080/"
        },
        "id": "DZDLSryudusx",
        "outputId": "92368b40-e5a2-4f5c-cfdb-c7e42918dfe8"
      },
      "source": [
        "edad=int(input(\"Cual es tu edad?\"))\r\n",
        "if edad<4:\r\n",
        "  entrada=\"0\"\r\n",
        "elif edad>=4and edad<=18:\r\n",
        "  entrada=\"5\"\r\n",
        "elif edad>18:\r\n",
        "  entrada=\"10\"\r\n",
        "print(\"El valor de la entrada es \"+ entrada+\"€\")"
      ],
      "execution_count": 11,
      "outputs": [
        {
          "output_type": "stream",
          "text": [
            "Cual es tu edad?6\n",
            "El valor de la entrada es 5€\n"
          ],
          "name": "stdout"
        }
      ]
    },
    {
      "cell_type": "markdown",
      "metadata": {
        "id": "6LYRPRHJ1zZ0"
      },
      "source": [
        "La pizzería Bella Napoli ofrece pizzas vegetarianas y no vegetarianas a sus clientes. Los ingredientes para cada tipo de pizza aparecen a continuación.\r\n",
        "\r\n",
        "Ingredientes vegetarianos: Pimiento y tofu.\r\n",
        "Ingredientes no vegetarianos: Peperoni, Jamón y Salmón.\r\n",
        "Escribir un programa que pregunte al usuario si quiere una pizza vegetariana o no, y en función de su respuesta le muestre un menú con los ingredientes disponibles para que elija. Solo se puede eligir un ingrediente además de la mozzarella y el tomate que están en todas la pizzas. Al final se debe mostrar por pantalla si la pizza elegida es vegetariana o no y todos los ingredientes que lleva."
      ]
    },
    {
      "cell_type": "code",
      "metadata": {
        "colab": {
          "base_uri": "https://localhost:8080/"
        },
        "id": "9MAWaSE90sKM",
        "outputId": "34eb1a7b-1359-4d41-93bf-ed0b1090e56c"
      },
      "source": [
        "pizza=input(\"Elige el tipo de pizza\\n Vegetariana\\n No vegetariana\")\r\n",
        "if pizza.lower() == \"vegetariana\":\r\n",
        "   eleccion=input(\"Elige un ingrediente\\n Pimiento\\nTofu\")\r\n",
        "   if eleccion.lower()==\"tofu\":\r\n",
        "     x=\"Tofu\"\r\n",
        "   else:\r\n",
        "     x=\"Pimiento\"\r\n",
        "if pizza.lower()==\"no vegetariana\":\r\n",
        "   eleccion=input(\"Elige un ingrediente \\nPeperoni\\nJamon\\nSalmon\\n\")\r\n",
        "   if eleccion.lower()==\"peperoni\":\r\n",
        "     x=\"Peperoni\"\r\n",
        "   elif eleccion==\"jamon\":\r\n",
        "     x=\"Jamon\"\r\n",
        "   else:\r\n",
        "     x=\"Salmon\"\r\n",
        "print (\"La pizza elegida es \"+ pizza+\" los ingredientes son \"+\"mozzarella, tomate y \"+ x)\r\n",
        "\r\n",
        "\r\n",
        "\r\n"
      ],
      "execution_count": 1,
      "outputs": [
        {
          "output_type": "stream",
          "text": [
            "Elige el tipo de pizza\n",
            " Vegetariana\n",
            " No vegetarianano vegetariana\n",
            "Elige un ingrediente \n",
            "Peperoni\n",
            "Jamon\n",
            "Salmon\n",
            "jamon\n",
            "La pizza elegida es no vegetariana los ingredientes son mozzarella, tomate y Jamon\n"
          ],
          "name": "stdout"
        }
      ]
    },
    {
      "cell_type": "code",
      "metadata": {
        "id": "v81x7DEi2eYL"
      },
      "source": [
        ""
      ],
      "execution_count": null,
      "outputs": []
    }
  ]
}