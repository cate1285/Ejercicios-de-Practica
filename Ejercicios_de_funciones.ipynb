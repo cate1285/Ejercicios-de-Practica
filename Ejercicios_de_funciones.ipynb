{
  "nbformat": 4,
  "nbformat_minor": 0,
  "metadata": {
    "colab": {
      "name": "Continuacion funciones",
      "provenance": [],
      "collapsed_sections": [],
      "authorship_tag": "ABX9TyPWI8XBWD8MgTZKrmqDFaEE",
      "include_colab_link": true
    },
    "kernelspec": {
      "name": "python3",
      "display_name": "Python 3"
    }
  },
  "cells": [
    {
      "cell_type": "markdown",
      "metadata": {
        "id": "view-in-github",
        "colab_type": "text"
      },
      "source": [
        "<a href=\"https://colab.research.google.com/github/cate1285/Catesecondtime/blob/main/Continuacion_funciones.ipynb\" target=\"_parent\"><img src=\"https://colab.research.google.com/assets/colab-badge.svg\" alt=\"Open In Colab\"/></a>"
      ]
    },
    {
      "cell_type": "code",
      "metadata": {
        "colab": {
          "base_uri": "https://localhost:8080/"
        },
        "id": "GE4SxWryS-UB",
        "outputId": "4f95a06d-7fce-4d1a-bd6b-bfc5e3b8681f"
      },
      "source": [
        "\r\n",
        "def bju(x):\r\n",
        "  return int(str(x), 2)\r\n",
        "print(bju(10111))"
      ],
      "execution_count": 26,
      "outputs": [
        {
          "output_type": "stream",
          "text": [
            "23\n"
          ],
          "name": "stdout"
        }
      ]
    },
    {
      "cell_type": "code",
      "metadata": {
        "colab": {
          "base_uri": "https://localhost:8080/"
        },
        "id": "hUNxcUlQT1ay",
        "outputId": "da987963-e450-4d9f-8158-4cf01c51bd01"
      },
      "source": [
        "def to_decimal(n):\r\n",
        "    n = list(n)\r\n",
        "    n.reverse()\r\n",
        "    decimal = 0\r\n",
        "    for i in range(len(n)):\r\n",
        "        decimal += int(n[i]) * 2 ** i\r\n",
        "    return decimal\r\n",
        "\r\n",
        "def to_binary(n):\r\n",
        "    binary = []\r\n",
        "    while n > 0:\r\n",
        "        binary.append(str(n % 2))\r\n",
        "        n //= 2\r\n",
        "    binary.reverse() \r\n",
        "    return ''.join(binary)\r\n",
        "\r\n",
        "print(to_decimal('10110'))\r\n",
        "print(to_binary(10))\r\n",
        "print(to_decimal(to_binary(22)))\r\n",
        "print(to_binary(to_decimal('10110')))\r\n"
      ],
      "execution_count": 47,
      "outputs": [
        {
          "output_type": "stream",
          "text": [
            "22\n",
            "1010\n",
            "22\n",
            "10110\n"
          ],
          "name": "stdout"
        }
      ]
    },
    {
      "cell_type": "markdown",
      "metadata": {
        "id": "vk688BKUdaD2"
      },
      "source": [
        "Ejercicio 11\r\n",
        "Escribir un programa que reciba una cadena de caracteres y devuelva un diccionario con cada palabra que contiene y su frecuencia. Escribir otra función que reciba el diccionario generado con la función anterior y devuelva una tupla con la palabra más repetida y su frecuencia."
      ]
    },
    {
      "cell_type": "code",
      "metadata": {
        "colab": {
          "base_uri": "https://localhost:8080/"
        },
        "id": "-9JOwQ2GYvEZ",
        "outputId": "57f2a78a-c650-48bf-a271-c8c1292bfac0"
      },
      "source": [
        "def count_words(i):\r\n",
        "  \r\n",
        "  i=i.split()\r\n",
        "  words={}\r\n",
        "\r\n",
        "  for x in i:\r\n",
        "    if x in words:\r\n",
        "      words[x]+=1\r\n",
        "    else:\r\n",
        "      words[x]=1\r\n",
        "\r\n",
        "  return words\r\n",
        "  \r\n",
        "def most_repeted(words):\r\n",
        "  max_word=\"\"\r\n",
        "  max_frec=0\r\n",
        "  for word,freq in words.items():\r\n",
        "    if freq > max_frec:\r\n",
        "       max_word=word\r\n",
        "       max_frec= freq\r\n",
        "  return max_word, max_frec\r\n",
        "\r\n",
        "i=\"Hola Hola Hola kkk k k k k k k\"\r\n",
        "print(count_words(i))\r\n",
        "print( most_repeted(count_words(i)))\r\n",
        "  \r\n"
      ],
      "execution_count": 49,
      "outputs": [
        {
          "output_type": "stream",
          "text": [
            "{'Hola': 3, 'kkk': 1, 'k': 6}\n",
            "('k', 6)\n"
          ],
          "name": "stdout"
        }
      ]
    },
    {
      "cell_type": "code",
      "metadata": {
        "id": "y3qaIlyqgD9A"
      },
      "source": [
        ""
      ],
      "execution_count": null,
      "outputs": []
    }
  ]
}