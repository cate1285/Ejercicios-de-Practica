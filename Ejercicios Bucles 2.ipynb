{
  "nbformat": 4,
  "nbformat_minor": 0,
  "metadata": {
    "colab": {
      "name": "Continuacion",
      "provenance": [],
      "collapsed_sections": [],
      "authorship_tag": "ABX9TyMdTF+ZVk6a8e3bdIswIgG3",
      "include_colab_link": true
    },
    "kernelspec": {
      "name": "python3",
      "display_name": "Python 3"
    }
  },
  "cells": [
    {
      "cell_type": "markdown",
      "metadata": {
        "id": "view-in-github",
        "colab_type": "text"
      },
      "source": [
        "<a href=\"https://colab.research.google.com/github/cate1285/Catesecondtime/blob/main/Continuacion%20Bucles.ipynb\" target=\"_parent\"><img src=\"https://colab.research.google.com/assets/colab-badge.svg\" alt=\"Open In Colab\"/></a>"
      ]
    },
    {
      "cell_type": "markdown",
      "metadata": {
        "id": "UkdOe0yAxBKu"
      },
      "source": [
        "Ejercicio 5 Escribir un programa que pregunte al usuario una cantidad a invertir, el interés anual y el número de años, y muestre por pantalla el capital obtenido en la inversión cada año que dura la inversión.\r\n"
      ]
    },
    {
      "cell_type": "code",
      "metadata": {
        "colab": {
          "base_uri": "https://localhost:8080/"
        },
        "id": "wz0xsFzEuapF",
        "outputId": "fd82e164-47c7-439d-9319-b460081a775d"
      },
      "source": [
        "amo=int(input(\"Ingrese la cantidad a invertir\"))\r\n",
        "inter=int(input(\"Ingrese la tasa de interes anual\"))\r\n",
        "anos=int(input(\"Ingrese el numero de años\"))\r\n",
        "\r\n",
        "for i in range(anos):\r\n",
        "  amo *= 1 + inter / 100 \r\n",
        "  print(\"El capital adquirido en el año \"+str(i+1)+\"es\"+str(amo))\r\n",
        "    \r\n"
      ],
      "execution_count": 27,
      "outputs": [
        {
          "output_type": "stream",
          "text": [
            "Ingrese la cantidad a invertir10000\n",
            "Ingrese la tasa de interes anual2\n",
            "Ingrese el numero de años3\n",
            "El capital adquirido en el año 1es10200.0\n",
            "El capital adquirido en el año 2es10404.0\n",
            "El capital adquirido en el año 3es10612.08\n"
          ],
          "name": "stdout"
        }
      ]
    },
    {
      "cell_type": "markdown",
      "metadata": {
        "id": "49IUmJ1j5bgl"
      },
      "source": [
        "Another way to do it "
      ]
    },
    {
      "cell_type": "code",
      "metadata": {
        "colab": {
          "base_uri": "https://localhost:8080/"
        },
        "id": "Vz_Zd_Dmugmg",
        "outputId": "2d72c02b-5a4f-4aa5-fee2-31367a01014b"
      },
      "source": [
        "amo=int(input(\"Ingrese la cantidad a invertir\"))\r\n",
        "inter=int(input(\"Ingrese la tasa de interes anual\"))\r\n",
        "anos=int(input(\"Ingrese el numero de años\"))\r\n",
        "ganancia,count=0,0\r\n",
        "while count<anos:\r\n",
        "  count+=1\r\n",
        "  ganancia=amo*(inter/100+1)**count\r\n",
        "  print(\"La ganancia por año sera \"+str(count),\"\\n\"+str(round(ganancia,2)))\r\n"
      ],
      "execution_count": 50,
      "outputs": [
        {
          "output_type": "stream",
          "text": [
            "Ingrese la cantidad a invertir10000\n",
            "Ingrese la tasa de interes anual2\n",
            "Ingrese el numero de años3\n",
            "La ganancia por año sera 1 \n",
            "10200.0\n",
            "La ganancia por año sera 2 \n",
            "10404.0\n",
            "La ganancia por año sera 3 \n",
            "10612.08\n"
          ],
          "name": "stdout"
        }
      ]
    },
    {
      "cell_type": "markdown",
      "metadata": {
        "id": "qx-r74cRLgIE"
      },
      "source": [
        "Ejercicio 6\r\n",
        "Escribir un programa que pida al usuario un número entero y muestre por pantalla un triángulo rectángulo como el de más abajo, de altura el número introducido."
      ]
    },
    {
      "cell_type": "code",
      "metadata": {
        "colab": {
          "base_uri": "https://localhost:8080/"
        },
        "id": "4F0HCPtZEdyY",
        "outputId": "f2dc86b3-002b-42ef-e153-bb23498ee540"
      },
      "source": [
        "numer=int(input(\"Ingrese un numero entero\"))\r\n",
        "for i in range(1,numer):\r\n",
        "  for j in range(1,i+1):\r\n",
        "    print(\"x\",end=\" \")\r\n",
        "  print(\"\\n\") "
      ],
      "execution_count": 11,
      "outputs": [
        {
          "output_type": "stream",
          "text": [
            "Ingrese un numero entero12\n",
            "x \n",
            "\n",
            "x x \n",
            "\n",
            "x x x \n",
            "\n",
            "x x x x \n",
            "\n",
            "x x x x x \n",
            "\n",
            "x x x x x x \n",
            "\n",
            "x x x x x x x \n",
            "\n",
            "x x x x x x x x \n",
            "\n",
            "x x x x x x x x x \n",
            "\n",
            "x x x x x x x x x x \n",
            "\n",
            "x x x x x x x x x x x \n",
            "\n"
          ],
          "name": "stdout"
        }
      ]
    },
    {
      "cell_type": "markdown",
      "metadata": {
        "id": "04vB4De8m6mG"
      },
      "source": [
        "Ejercicio 7\r\n",
        "Escribir un programa que muestre por pantalla la tabla de multiplicar del 1 al 10."
      ]
    },
    {
      "cell_type": "code",
      "metadata": {
        "colab": {
          "base_uri": "https://localhost:8080/"
        },
        "id": "T-hPOMHtR0_N",
        "outputId": "78b1e484-219a-42d8-b5df-adb105511805"
      },
      "source": [
        "for i in range(1,11):\r\n",
        "  for j in range(1,11):\r\n",
        "      print('{:3}'.format(i*j),end=' ')\r\n",
        "  print()\r\n"
      ],
      "execution_count": 4,
      "outputs": [
        {
          "output_type": "stream",
          "text": [
            "  1   2   3   4   5   6   7   8   9  10 \n",
            "  2   4   6   8  10  12  14  16  18  20 \n",
            "  3   6   9  12  15  18  21  24  27  30 \n",
            "  4   8  12  16  20  24  28  32  36  40 \n",
            "  5  10  15  20  25  30  35  40  45  50 \n",
            "  6  12  18  24  30  36  42  48  54  60 \n",
            "  7  14  21  28  35  42  49  56  63  70 \n",
            "  8  16  24  32  40  48  56  64  72  80 \n",
            "  9  18  27  36  45  54  63  72  81  90 \n",
            " 10  20  30  40  50  60  70  80  90 100 \n"
          ],
          "name": "stdout"
        }
      ]
    },
    {
      "cell_type": "markdown",
      "metadata": {
        "id": "kt9CYrIPANKR"
      },
      "source": [
        "Another way to do it!"
      ]
    },
    {
      "cell_type": "code",
      "metadata": {
        "colab": {
          "base_uri": "https://localhost:8080/"
        },
        "id": "LHGjeyigs58k",
        "outputId": "6dab39ad-a21d-4cc5-8ec6-36f4ad6f2caf"
      },
      "source": [
        "for i in range(1,11):\r\n",
        "  for j in range(1,11):\r\n",
        "     print ((i*j),end=\"\\t\")\r\n",
        "  print(\"\")"
      ],
      "execution_count": 9,
      "outputs": [
        {
          "output_type": "stream",
          "text": [
            "1\t2\t3\t4\t5\t6\t7\t8\t9\t10\t\n",
            "2\t4\t6\t8\t10\t12\t14\t16\t18\t20\t\n",
            "3\t6\t9\t12\t15\t18\t21\t24\t27\t30\t\n",
            "4\t8\t12\t16\t20\t24\t28\t32\t36\t40\t\n",
            "5\t10\t15\t20\t25\t30\t35\t40\t45\t50\t\n",
            "6\t12\t18\t24\t30\t36\t42\t48\t54\t60\t\n",
            "7\t14\t21\t28\t35\t42\t49\t56\t63\t70\t\n",
            "8\t16\t24\t32\t40\t48\t56\t64\t72\t80\t\n",
            "9\t18\t27\t36\t45\t54\t63\t72\t81\t90\t\n",
            "10\t20\t30\t40\t50\t60\t70\t80\t90\t100\t\n"
          ],
          "name": "stdout"
        }
      ]
    },
    {
      "cell_type": "markdown",
      "metadata": {
        "id": "Jz63iuVSSV5_"
      },
      "source": [
        "Escribir un programa que pida al usuario un número entero y muestre por pantalla un triángulo rectángulo como el de más abajo."
      ]
    },
    {
      "cell_type": "code",
      "metadata": {
        "colab": {
          "base_uri": "https://localhost:8080/"
        },
        "id": "WT8kPRusRef2",
        "outputId": "cd02c85a-66e3-4695-c81b-3b2894513ac8"
      },
      "source": [
        "number=int(input(\"Ingrese un numero\"))\r\n",
        "coun=0\r\n",
        "for i in range(1, number,2):\r\n",
        "  for j in range(i,0,-2):\r\n",
        "      print(j,end=(\"\\t\"))\r\n",
        "  print(\" \")\r\n",
        "  "
      ],
      "execution_count": 74,
      "outputs": [
        {
          "output_type": "stream",
          "text": [
            "Ingrese un numero9\n",
            "1\t \n",
            "3\t1\t \n",
            "5\t3\t1\t \n",
            "7\t5\t3\t1\t \n"
          ],
          "name": "stdout"
        }
      ]
    },
    {
      "cell_type": "markdown",
      "metadata": {
        "id": "46E5G9r8gIbh"
      },
      "source": [
        "Escribir un programa que almacene la cadena de caracteres contraseña en una variable, pregunte al usuario por la contraseña hasta que introduzca la contraseña correcta."
      ]
    },
    {
      "cell_type": "code",
      "metadata": {
        "colab": {
          "base_uri": "https://localhost:8080/"
        },
        "id": "t-FsCoIQillu",
        "outputId": "4bb18579-617c-45be-8705-c34fad558631"
      },
      "source": [
        "contra=\"Contraseña\"\r\n",
        "while customer!=contra.lower():\r\n",
        "      customer=input(\"Ingrese la contraseña\")\r\n",
        "print(\"contraseña correcta\")\r\n",
        "         "
      ],
      "execution_count": 35,
      "outputs": [
        {
          "output_type": "stream",
          "text": [
            "Ingrese la contraseñal\n",
            "Ingrese la contraseñak\n",
            "Ingrese la contraseñañ\n",
            "Ingrese la contraseñacontraseña\n",
            "contraseña correcta\n"
          ],
          "name": "stdout"
        }
      ]
    },
    {
      "cell_type": "code",
      "metadata": {
        "colab": {
          "base_uri": "https://localhost:8080/"
        },
        "id": "Hcs1UE-AkusP",
        "outputId": "400c596e-bb42-4795-d7d9-dd6f6020e359"
      },
      "source": [
        "key=\"contraseña\"\r\n",
        "contraseña=\"\"\r\n",
        "while contraseña!= key:\r\n",
        "  contraseña=input(\"Ingrese la contraseña correcta\")\r\n",
        "print(\"contraseña correcta\")"
      ],
      "execution_count": 37,
      "outputs": [
        {
          "output_type": "stream",
          "text": [
            "Ingrese la contraseña correctaf\n",
            "Ingrese la contraseña correctaf\n",
            "Ingrese la contraseña correctaf\n",
            "Ingrese la contraseña correctacontraseña\n",
            "contraseña correcta\n"
          ],
          "name": "stdout"
        }
      ]
    },
    {
      "cell_type": "markdown",
      "metadata": {
        "id": "DmQJtOWP--6I"
      },
      "source": [
        "Ejercicio 10\r\n",
        "Escribir un programa que pida al usuario un número entero y muestre por pantalla si es un número primo o no."
      ]
    },
    {
      "cell_type": "code",
      "metadata": {
        "colab": {
          "base_uri": "https://localhost:8080/"
        },
        "id": "ri4zjKHTq2HO",
        "outputId": "bd931898-9cce-4cf1-a237-4a3be27ff336"
      },
      "source": [
        "numero= int(input(\"¿Qué número quieres saber si es primo? \"))\r\n",
        "valor= range(2,numero)\r\n",
        "contador = 0\r\n",
        "for n in valor:\r\n",
        "  if numero % n == 0:\r\n",
        "    contador +=1\r\n",
        "    print(\"divisor:\", n)\r\n",
        " \r\n",
        "if contador > 0 :\r\n",
        "  print(\"El número no es primo\" )\r\n",
        "else:\r\n",
        "  print(\"El nÚmero es primo\")\r\n"
      ],
      "execution_count": 57,
      "outputs": [
        {
          "output_type": "stream",
          "text": [
            "¿Qué número quieres saber si es primo? 2\n",
            "El nÚmero es primo\n"
          ],
          "name": "stdout"
        }
      ]
    },
    {
      "cell_type": "markdown",
      "metadata": {
        "id": "RmdNqusYSJ0R"
      },
      "source": [
        ""
      ]
    },
    {
      "cell_type": "markdown",
      "metadata": {
        "id": "thg_ilhMSG16"
      },
      "source": [
        "Easy way to do it"
      ]
    },
    {
      "cell_type": "code",
      "metadata": {
        "colab": {
          "base_uri": "https://localhost:8080/"
        },
        "id": "q3fk3dMYFrFX",
        "outputId": "00641f7e-db28-49a0-8626-552b94b17b2a"
      },
      "source": [
        "number=int(input(\"Ingrese un numero entero\"))\r\n",
        "i=2\r\n",
        "while number % i != 0:\r\n",
        "  i+=1\r\n",
        "if i == number:\r\n",
        "   print(\"Numero primo\")\r\n",
        "else:\r\n",
        "   print(\"Numero no primo\")"
      ],
      "execution_count": 66,
      "outputs": [
        {
          "output_type": "stream",
          "text": [
            "Ingrese un numero entero7\n",
            "Numero primo\n"
          ],
          "name": "stdout"
        }
      ]
    },
    {
      "cell_type": "markdown",
      "metadata": {
        "id": "TDF-6bc7VS7Q"
      },
      "source": [
        "Another way"
      ]
    },
    {
      "cell_type": "code",
      "metadata": {
        "colab": {
          "base_uri": "https://localhost:8080/"
        },
        "id": "FECQSMnIUWqL",
        "outputId": "f2cbd7bf-3dae-45cc-a7a6-9beb1cd9171d"
      },
      "source": [
        "n = int(input(\"Introduce un número entero positivo mayor que 2: \"))\r\n",
        "for i in range(2, n):\r\n",
        "    if n % i == 0:\r\n",
        "        break\r\n",
        "if (i + 1)  == n:\r\n",
        "    print(str(n) + \" es primo\")\r\n",
        "else: \r\n",
        "    print(str(n) + \" no es primo\")"
      ],
      "execution_count": 69,
      "outputs": [
        {
          "output_type": "stream",
          "text": [
            "Introduce un número entero positivo mayor que 2: 7\n",
            "7 es primo\n"
          ],
          "name": "stdout"
        }
      ]
    },
    {
      "cell_type": "markdown",
      "metadata": {
        "id": "8BG0vf80X4qM"
      },
      "source": [
        "Ejercicio 11\r\n",
        "Escribir un programa que pida al usuario una palabra y luego muestre por pantalla una a una las letras de la palabra introducida empezando por la última."
      ]
    },
    {
      "cell_type": "code",
      "metadata": {
        "colab": {
          "base_uri": "https://localhost:8080/"
        },
        "id": "TCyR6qxzVXoR",
        "outputId": "adcd1825-f000-46ec-cce8-07fc44f1fb05"
      },
      "source": [
        "palabra=(input(\"ingresa una palabra\"))\r\n",
        "for i in range(len(palabra)-1,-1,-1):\r\n",
        "  print(palabra[i],\"\\t\")"
      ],
      "execution_count": 18,
      "outputs": [
        {
          "output_type": "stream",
          "text": [
            "ingresa una palabracaterin\n"
          ],
          "name": "stdout"
        }
      ]
    },
    {
      "cell_type": "markdown",
      "metadata": {
        "id": "CTfQmSPglunx"
      },
      "source": [
        "Ejercicio 12\r\n",
        "Escribir un programa en el que se pregunte al usuario por una frase y una letra, y muestre por pantalla el número de veces que aparece la letra en la frase.\r\n",
        "\r\n",
        "\r\n"
      ]
    },
    {
      "cell_type": "code",
      "metadata": {
        "colab": {
          "base_uri": "https://localhost:8080/"
        },
        "id": "slm4bC1Bdrux",
        "outputId": "3fbded55-7e5e-4acc-9464-5516b709943a"
      },
      "source": [
        "cita = input(\"Ingresa una frase\")\r\n",
        "veces = cita.count(\"a\")\r\n",
        "print(veces)"
      ],
      "execution_count": 90,
      "outputs": [
        {
          "output_type": "stream",
          "text": [
            "Ingresa una frasemurcielago\n",
            "1\n"
          ],
          "name": "stdout"
        }
      ]
    },
    {
      "cell_type": "markdown",
      "metadata": {
        "id": "4IOLpJzqxIW4"
      },
      "source": [
        "Another way to do it"
      ]
    },
    {
      "cell_type": "code",
      "metadata": {
        "colab": {
          "base_uri": "https://localhost:8080/"
        },
        "id": "IB2-ZRCWAmx5",
        "outputId": "3fc4a7f7-91c5-41d7-db19-80fe4746932e"
      },
      "source": [
        "frase=input(\"Ingrese una frase\")\r\n",
        "letra=input(\"Ingrese una letra\")\r\n",
        "count=0\r\n",
        "for i in frase:\r\n",
        "  if i==letra:\r\n",
        "     count+=1\r\n",
        "print(\"El numero de veces que se repite la letra es \"+str(count))\r\n"
      ],
      "execution_count": 8,
      "outputs": [
        {
          "output_type": "stream",
          "text": [
            "Ingrese una frasemarcianita\n",
            "Ingrese una letraa\n",
            "El numero de veces que se repite la letra es 3\n"
          ],
          "name": "stdout"
        }
      ]
    },
    {
      "cell_type": "code",
      "metadata": {
        "colab": {
          "base_uri": "https://localhost:8080/"
        },
        "id": "b5g-k7avyRDE",
        "outputId": "ca5d4280-75aa-43b1-bc83-5d6ea3aa8205"
      },
      "source": [
        "frase=input(\"Ingrese una frase\")\r\n",
        "letra=input(\"Ingrese una letra\")\r\n",
        "count=0\r\n",
        "for i in frase:\r\n",
        "  if i==letra:\r\n",
        "     count+=1\r\n",
        "print(\"La letra '%s' se repite '%s' veces en la frase '%s' \"%(letra,count,frase))"
      ],
      "execution_count": 10,
      "outputs": [
        {
          "output_type": "stream",
          "text": [
            "Ingrese una frasecuando iba por el caminito corto un murcielago apaareci\n",
            "Ingrese una letraa\n",
            "La letra 'a' se repite '7' veces en la frase 'cuando iba por el caminito corto un murcielago apaareci' \n"
          ],
          "name": "stdout"
        }
      ]
    },
    {
      "cell_type": "markdown",
      "metadata": {
        "id": "s9DWTfr02Sgi"
      },
      "source": [
        "Ejercicio 13\r\n",
        "Escribir un programa que muestre el eco de todo lo que el usuario introduzca hasta que el usuario escriba “salir” que terminará.\r\n",
        "\r\n",
        "Duda, como funciona el while para un bucle con un string"
      ]
    },
    {
      "cell_type": "code",
      "metadata": {
        "colab": {
          "base_uri": "https://localhost:8080/"
        },
        "id": "ZrsMmDXc18FX",
        "outputId": "73cdf5c6-47d6-4aa6-9a0a-59e582df91cc"
      },
      "source": [
        "while True:\r\n",
        "  frase=input(\"Ingrese una palabra\")\r\n",
        "  if frase== \"salir\":\r\n",
        "     break\r\n",
        "  print(frase)"
      ],
      "execution_count": 35,
      "outputs": [
        {
          "output_type": "stream",
          "text": [
            "Ingrese una palabracate\n",
            "cate\n",
            "Ingrese una palabracate\n",
            "cate\n",
            "Ingrese una palabrasalir\n"
          ],
          "name": "stdout"
        }
      ]
    },
    {
      "cell_type": "code",
      "metadata": {
        "id": "Ovhk6Bjm5nTk"
      },
      "source": [
        "\r\n"
      ],
      "execution_count": null,
      "outputs": []
    }
  ]
}