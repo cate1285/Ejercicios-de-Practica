{
  "nbformat": 4,
  "nbformat_minor": 0,
  "metadata": {
    "colab": {
      "name": "Segunda parte de Listas y Tuplas",
      "provenance": [],
      "authorship_tag": "ABX9TyOstBvlwvrVlHrss59VH2Pp",
      "include_colab_link": true
    },
    "kernelspec": {
      "name": "python3",
      "display_name": "Python 3"
    }
  },
  "cells": [
    {
      "cell_type": "markdown",
      "metadata": {
        "id": "view-in-github",
        "colab_type": "text"
      },
      "source": [
        "<a href=\"https://colab.research.google.com/github/cate1285/Catesecondtime/blob/main/Segunda_parte_de_Listas_y_Tuplas.ipynb\" target=\"_parent\"><img src=\"https://colab.research.google.com/assets/colab-badge.svg\" alt=\"Open In Colab\"/></a>"
      ]
    },
    {
      "cell_type": "markdown",
      "metadata": {
        "id": "RLWQ1zLEJuY0"
      },
      "source": [
        "Ejercicio 10\r\n",
        "Escribir un programa que almacene en una lista los siguientes precios, 50, 75, 46, 22, 80, 65, 8, y muestre por pantalla el menor y el mayor de los precios."
      ]
    },
    {
      "cell_type": "code",
      "metadata": {
        "colab": {
          "base_uri": "https://localhost:8080/"
        },
        "id": "XyHLG-UFJxj3",
        "outputId": "a53de183-152a-4302-8e44-f8d046896184"
      },
      "source": [
        "lis=[50, 75, 46, 22, 80, 65, 8]\r\n",
        "print(\"El numero menor es \",min(lis))\r\n",
        "print(\"El numero mayor es \", max(lis))"
      ],
      "execution_count": null,
      "outputs": [
        {
          "output_type": "stream",
          "text": [
            "El numero menor es  8\n",
            "El numero mayor es  80\n"
          ],
          "name": "stdout"
        }
      ]
    },
    {
      "cell_type": "code",
      "metadata": {
        "colab": {
          "base_uri": "https://localhost:8080/"
        },
        "id": "5lDDL55sK-iB",
        "outputId": "42240ded-6a20-424b-8463-da7b11a5c270"
      },
      "source": [
        "list1 = [10, 20, 1, 45, 99] \r\n",
        "  \r\n",
        "  \r\n",
        "# printing the maximum element \r\n",
        "print(\"Smallest element is:\", min(list1)) "
      ],
      "execution_count": null,
      "outputs": [
        {
          "output_type": "stream",
          "text": [
            "Smallest element is: 1\n"
          ],
          "name": "stdout"
        }
      ]
    },
    {
      "cell_type": "markdown",
      "metadata": {
        "id": "n16g-pztuzwg"
      },
      "source": [
        "TUPLAS"
      ]
    },
    {
      "cell_type": "markdown",
      "metadata": {
        "id": "4bGhFkikTXBa"
      },
      "source": [
        "Ejercicio 11\r\n",
        "Escribir un programa que almacene los vectores (1,2,3) y (-1,0,2) en dos tuplas y muestre por pantalla su producto escalar."
      ]
    },
    {
      "cell_type": "code",
      "metadata": {
        "colab": {
          "base_uri": "https://localhost:8080/"
        },
        "id": "NJZfRiaXTcAu",
        "outputId": "43b684e5-94fd-4f75-b177-8c33772a4c19"
      },
      "source": [
        "tup=(1,2,3)\r\n",
        "tu=(-1,0,2)\r\n",
        "product=0\r\n",
        "for i in range(len(tup)):\r\n",
        "    product+=tup[i]*tu[i]\r\n",
        "print(\"el producto de \"+str(tup)+ \"* \"+ str(tu)+\"es \"+str(product))"
      ],
      "execution_count": null,
      "outputs": [
        {
          "output_type": "stream",
          "text": [
            "el producto de (1, 2, 3)* (-1, 0, 2)es 5\n"
          ],
          "name": "stdout"
        }
      ]
    },
    {
      "cell_type": "markdown",
      "metadata": {
        "id": "bzI8XbKq0_rZ"
      },
      "source": [
        "## Ejercicio\r\n",
        "\r\n",
        "Escribir un programa que almacene las matrices\r\n",
        "\r\n",
        "$$\r\n",
        "A = \\left(\r\n",
        "  \\begin{array}{rrr}\r\n",
        "  1 & 2 & 3\\\\\r\n",
        "  4 & 5 & 6\r\n",
        "  \\end{array}\r\n",
        "  \\right)\r\n",
        "  \\quad  y\r\n",
        "  \\quad\r\n",
        "  B = \\left(\r\n",
        "  \\begin{array}{rr}\r\n",
        "  -1 & 0\\\\\r\n",
        "  0 & 1\\\\\r\n",
        "  1 & 1\r\n",
        "  \\end{array}\r\n",
        "  \\right)\r\n",
        "$$\r\n",
        "\r\n",
        "en una tupla y muestre por pantalla su producto.  \r\n",
        "Nota: Para representar matrices mediante tuplas usar tuplas anidadas, representando cada vector fila en una tupla."
      ]
    },
    {
      "cell_type": "code",
      "metadata": {
        "colab": {
          "base_uri": "https://localhost:8080/"
        },
        "id": "Bv8SjXc_v85X",
        "outputId": "abd24411-2cc3-47b4-d642-4256034e8865"
      },
      "source": [
        "c=((1,2,3),\r\n",
        "       (4,5,6))\r\n",
        "d=((-1,0),\r\n",
        "  (0,1),\r\n",
        "  (1,1))\r\n",
        "result=[[0,0],\r\n",
        "        [0,0]]\r\n",
        "for i in range(len(c)):\r\n",
        "    for j in range(len(d[0])):\r\n",
        "        for k in range(len(d)):\r\n",
        "            result[i][j] += c[i][k] * d[k][j]\r\n",
        "for i in range(len(result)):\r\n",
        "    result[i] = tuple(result[i])\r\n",
        "result = tuple(result)\r\n",
        "for i in range(len(result)):\r\n",
        "    print(result[i])"
      ],
      "execution_count": 1,
      "outputs": [
        {
          "output_type": "stream",
          "text": [
            "(2, 5)\n",
            "(2, 11)\n"
          ],
          "name": "stdout"
        }
      ]
    },
    {
      "cell_type": "markdown",
      "metadata": {
        "id": "R0FF28kz9ps_"
      },
      "source": [
        "Ejercicio\r\n",
        "Escribir un programa que pregunte por una muestra de números, separados por comas, los guarde en una tupla y muestre por pantalla su media y desviación típica."
      ]
    },
    {
      "cell_type": "code",
      "metadata": {
        "id": "U0cnm4lL9FOf",
        "colab": {
          "base_uri": "https://localhost:8080/",
          "height": 558
        },
        "outputId": "bcb3cc75-fb41-499d-9a9b-dcfa9dcd4b08"
      },
      "source": [
        "sample = input(\"Introduce una muestra de números separados por comas: \")\r\n",
        "sample = sample.split(',')\r\n",
        "n = len(sample)\r\n",
        "for i in range(n):\r\n",
        "    sample[i] = int(sample[i])\r\n",
        "sample = tuple(sample)\r\n",
        "sum = 0\r\n",
        "sumsq = 0\r\n",
        "for i in sample:\r\n",
        "    sum += i\r\n",
        "    sumsq += i**2\r\n",
        "mean = sum/n\r\n",
        "stdev = (sumsq/n-mean**2)**(1/2)\r\n",
        "print('La media es', mean, ', y la desviación típica es', stdev)"
      ],
      "execution_count": 2,
      "outputs": [
        {
          "output_type": "error",
          "ename": "KeyboardInterrupt",
          "evalue": "ignored",
          "traceback": [
            "\u001b[0;31m---------------------------------------------------------------------------\u001b[0m",
            "\u001b[0;31mKeyboardInterrupt\u001b[0m                         Traceback (most recent call last)",
            "\u001b[0;32m/usr/local/lib/python3.6/dist-packages/ipykernel/kernelbase.py\u001b[0m in \u001b[0;36m_input_request\u001b[0;34m(self, prompt, ident, parent, password)\u001b[0m\n\u001b[1;32m    728\u001b[0m             \u001b[0;32mtry\u001b[0m\u001b[0;34m:\u001b[0m\u001b[0;34m\u001b[0m\u001b[0;34m\u001b[0m\u001b[0m\n\u001b[0;32m--> 729\u001b[0;31m                 \u001b[0mident\u001b[0m\u001b[0;34m,\u001b[0m \u001b[0mreply\u001b[0m \u001b[0;34m=\u001b[0m \u001b[0mself\u001b[0m\u001b[0;34m.\u001b[0m\u001b[0msession\u001b[0m\u001b[0;34m.\u001b[0m\u001b[0mrecv\u001b[0m\u001b[0;34m(\u001b[0m\u001b[0mself\u001b[0m\u001b[0;34m.\u001b[0m\u001b[0mstdin_socket\u001b[0m\u001b[0;34m,\u001b[0m \u001b[0;36m0\u001b[0m\u001b[0;34m)\u001b[0m\u001b[0;34m\u001b[0m\u001b[0;34m\u001b[0m\u001b[0m\n\u001b[0m\u001b[1;32m    730\u001b[0m             \u001b[0;32mexcept\u001b[0m \u001b[0mException\u001b[0m\u001b[0;34m:\u001b[0m\u001b[0;34m\u001b[0m\u001b[0;34m\u001b[0m\u001b[0m\n",
            "\u001b[0;32m/usr/local/lib/python3.6/dist-packages/jupyter_client/session.py\u001b[0m in \u001b[0;36mrecv\u001b[0;34m(self, socket, mode, content, copy)\u001b[0m\n\u001b[1;32m    802\u001b[0m         \u001b[0;32mtry\u001b[0m\u001b[0;34m:\u001b[0m\u001b[0;34m\u001b[0m\u001b[0;34m\u001b[0m\u001b[0m\n\u001b[0;32m--> 803\u001b[0;31m             \u001b[0mmsg_list\u001b[0m \u001b[0;34m=\u001b[0m \u001b[0msocket\u001b[0m\u001b[0;34m.\u001b[0m\u001b[0mrecv_multipart\u001b[0m\u001b[0;34m(\u001b[0m\u001b[0mmode\u001b[0m\u001b[0;34m,\u001b[0m \u001b[0mcopy\u001b[0m\u001b[0;34m=\u001b[0m\u001b[0mcopy\u001b[0m\u001b[0;34m)\u001b[0m\u001b[0;34m\u001b[0m\u001b[0;34m\u001b[0m\u001b[0m\n\u001b[0m\u001b[1;32m    804\u001b[0m         \u001b[0;32mexcept\u001b[0m \u001b[0mzmq\u001b[0m\u001b[0;34m.\u001b[0m\u001b[0mZMQError\u001b[0m \u001b[0;32mas\u001b[0m \u001b[0me\u001b[0m\u001b[0;34m:\u001b[0m\u001b[0;34m\u001b[0m\u001b[0;34m\u001b[0m\u001b[0m\n",
            "\u001b[0;32m/usr/local/lib/python3.6/dist-packages/zmq/sugar/socket.py\u001b[0m in \u001b[0;36mrecv_multipart\u001b[0;34m(self, flags, copy, track)\u001b[0m\n\u001b[1;32m    565\u001b[0m         \"\"\"\n\u001b[0;32m--> 566\u001b[0;31m         \u001b[0mparts\u001b[0m \u001b[0;34m=\u001b[0m \u001b[0;34m[\u001b[0m\u001b[0mself\u001b[0m\u001b[0;34m.\u001b[0m\u001b[0mrecv\u001b[0m\u001b[0;34m(\u001b[0m\u001b[0mflags\u001b[0m\u001b[0;34m,\u001b[0m \u001b[0mcopy\u001b[0m\u001b[0;34m=\u001b[0m\u001b[0mcopy\u001b[0m\u001b[0;34m,\u001b[0m \u001b[0mtrack\u001b[0m\u001b[0;34m=\u001b[0m\u001b[0mtrack\u001b[0m\u001b[0;34m)\u001b[0m\u001b[0;34m]\u001b[0m\u001b[0;34m\u001b[0m\u001b[0;34m\u001b[0m\u001b[0m\n\u001b[0m\u001b[1;32m    567\u001b[0m         \u001b[0;31m# have first part already, only loop while more to receive\u001b[0m\u001b[0;34m\u001b[0m\u001b[0;34m\u001b[0m\u001b[0;34m\u001b[0m\u001b[0m\n",
            "\u001b[0;32mzmq/backend/cython/socket.pyx\u001b[0m in \u001b[0;36mzmq.backend.cython.socket.Socket.recv\u001b[0;34m()\u001b[0m\n",
            "\u001b[0;32mzmq/backend/cython/socket.pyx\u001b[0m in \u001b[0;36mzmq.backend.cython.socket.Socket.recv\u001b[0;34m()\u001b[0m\n",
            "\u001b[0;32mzmq/backend/cython/socket.pyx\u001b[0m in \u001b[0;36mzmq.backend.cython.socket._recv_copy\u001b[0;34m()\u001b[0m\n",
            "\u001b[0;32m/usr/local/lib/python3.6/dist-packages/zmq/backend/cython/checkrc.pxd\u001b[0m in \u001b[0;36mzmq.backend.cython.checkrc._check_rc\u001b[0;34m()\u001b[0m\n",
            "\u001b[0;31mKeyboardInterrupt\u001b[0m: ",
            "\nDuring handling of the above exception, another exception occurred:\n",
            "\u001b[0;31mKeyboardInterrupt\u001b[0m                         Traceback (most recent call last)",
            "\u001b[0;32m<ipython-input-2-2275daf86fba>\u001b[0m in \u001b[0;36m<module>\u001b[0;34m()\u001b[0m\n\u001b[0;32m----> 1\u001b[0;31m \u001b[0msample\u001b[0m \u001b[0;34m=\u001b[0m \u001b[0minput\u001b[0m\u001b[0;34m(\u001b[0m\u001b[0;34m\"Introduce una muestra de números separados por comas: \"\u001b[0m\u001b[0;34m)\u001b[0m\u001b[0;34m\u001b[0m\u001b[0;34m\u001b[0m\u001b[0m\n\u001b[0m\u001b[1;32m      2\u001b[0m \u001b[0msample\u001b[0m \u001b[0;34m=\u001b[0m \u001b[0msample\u001b[0m\u001b[0;34m.\u001b[0m\u001b[0msplit\u001b[0m\u001b[0;34m(\u001b[0m\u001b[0;34m','\u001b[0m\u001b[0;34m)\u001b[0m\u001b[0;34m\u001b[0m\u001b[0;34m\u001b[0m\u001b[0m\n\u001b[1;32m      3\u001b[0m \u001b[0mn\u001b[0m \u001b[0;34m=\u001b[0m \u001b[0mlen\u001b[0m\u001b[0;34m(\u001b[0m\u001b[0msample\u001b[0m\u001b[0;34m)\u001b[0m\u001b[0;34m\u001b[0m\u001b[0;34m\u001b[0m\u001b[0m\n\u001b[1;32m      4\u001b[0m \u001b[0;32mfor\u001b[0m \u001b[0mi\u001b[0m \u001b[0;32min\u001b[0m \u001b[0mrange\u001b[0m\u001b[0;34m(\u001b[0m\u001b[0mn\u001b[0m\u001b[0;34m)\u001b[0m\u001b[0;34m:\u001b[0m\u001b[0;34m\u001b[0m\u001b[0;34m\u001b[0m\u001b[0m\n\u001b[1;32m      5\u001b[0m     \u001b[0msample\u001b[0m\u001b[0;34m[\u001b[0m\u001b[0mi\u001b[0m\u001b[0;34m]\u001b[0m \u001b[0;34m=\u001b[0m \u001b[0mint\u001b[0m\u001b[0;34m(\u001b[0m\u001b[0msample\u001b[0m\u001b[0;34m[\u001b[0m\u001b[0mi\u001b[0m\u001b[0;34m]\u001b[0m\u001b[0;34m)\u001b[0m\u001b[0;34m\u001b[0m\u001b[0;34m\u001b[0m\u001b[0m\n",
            "\u001b[0;32m/usr/local/lib/python3.6/dist-packages/ipykernel/kernelbase.py\u001b[0m in \u001b[0;36mraw_input\u001b[0;34m(self, prompt)\u001b[0m\n\u001b[1;32m    702\u001b[0m             \u001b[0mself\u001b[0m\u001b[0;34m.\u001b[0m\u001b[0m_parent_ident\u001b[0m\u001b[0;34m,\u001b[0m\u001b[0;34m\u001b[0m\u001b[0;34m\u001b[0m\u001b[0m\n\u001b[1;32m    703\u001b[0m             \u001b[0mself\u001b[0m\u001b[0;34m.\u001b[0m\u001b[0m_parent_header\u001b[0m\u001b[0;34m,\u001b[0m\u001b[0;34m\u001b[0m\u001b[0;34m\u001b[0m\u001b[0m\n\u001b[0;32m--> 704\u001b[0;31m             \u001b[0mpassword\u001b[0m\u001b[0;34m=\u001b[0m\u001b[0;32mFalse\u001b[0m\u001b[0;34m,\u001b[0m\u001b[0;34m\u001b[0m\u001b[0;34m\u001b[0m\u001b[0m\n\u001b[0m\u001b[1;32m    705\u001b[0m         )\n\u001b[1;32m    706\u001b[0m \u001b[0;34m\u001b[0m\u001b[0m\n",
            "\u001b[0;32m/usr/local/lib/python3.6/dist-packages/ipykernel/kernelbase.py\u001b[0m in \u001b[0;36m_input_request\u001b[0;34m(self, prompt, ident, parent, password)\u001b[0m\n\u001b[1;32m    732\u001b[0m             \u001b[0;32mexcept\u001b[0m \u001b[0mKeyboardInterrupt\u001b[0m\u001b[0;34m:\u001b[0m\u001b[0;34m\u001b[0m\u001b[0;34m\u001b[0m\u001b[0m\n\u001b[1;32m    733\u001b[0m                 \u001b[0;31m# re-raise KeyboardInterrupt, to truncate traceback\u001b[0m\u001b[0;34m\u001b[0m\u001b[0;34m\u001b[0m\u001b[0;34m\u001b[0m\u001b[0m\n\u001b[0;32m--> 734\u001b[0;31m                 \u001b[0;32mraise\u001b[0m \u001b[0mKeyboardInterrupt\u001b[0m\u001b[0;34m\u001b[0m\u001b[0;34m\u001b[0m\u001b[0m\n\u001b[0m\u001b[1;32m    735\u001b[0m             \u001b[0;32melse\u001b[0m\u001b[0;34m:\u001b[0m\u001b[0;34m\u001b[0m\u001b[0;34m\u001b[0m\u001b[0m\n\u001b[1;32m    736\u001b[0m                 \u001b[0;32mbreak\u001b[0m\u001b[0;34m\u001b[0m\u001b[0;34m\u001b[0m\u001b[0m\n",
            "\u001b[0;31mKeyboardInterrupt\u001b[0m: "
          ]
        }
      ]
    },
    {
      "cell_type": "markdown",
      "metadata": {
        "id": "aaeR3xJinSLI"
      },
      "source": [
        "Ejercicios de Diccionarios\r\n",
        "\r\n",
        "Ejercicio 1\r\n",
        "Escribir un programa que guarde en una variable el diccionario {'Euro':'€', 'Dollar':'$', 'Yen':'¥'}, pregunte al usuario por una divisa y muestre su símbolo o un mensaje de aviso si la divisa no está en el diccionario."
      ]
    },
    {
      "cell_type": "code",
      "metadata": {
        "colab": {
          "base_uri": "https://localhost:8080/"
        },
        "id": "YZMvnAL7nRd1",
        "outputId": "f91019cb-9d17-4ae4-ea8b-8b073e6781c0"
      },
      "source": [
        "divisa=input(\"Ingrese una divisa\")\r\n",
        "dictio={\"Euro\":\"€\",\r\n",
        "       \"Dollar\":\"$\",\r\n",
        "       \"Yen\":\"¥\"}\r\n",
        "divis=dictio.get(divisa)\r\n",
        "print(divis)\r\n"
      ],
      "execution_count": 8,
      "outputs": [
        {
          "output_type": "stream",
          "text": [
            "Ingrese una divisaEuro\n",
            "€\n"
          ],
          "name": "stdout"
        }
      ]
    },
    {
      "cell_type": "code",
      "metadata": {
        "colab": {
          "base_uri": "https://localhost:8080/"
        },
        "id": "ltCPa1JEAzaI",
        "outputId": "febeb806-702e-4aea-a1ea-a6ae9b5d86d7"
      },
      "source": [
        "divisa=input(\"Ingrese una divisa\").title()\r\n",
        "dictio={\"Euro\":\"€\",\r\n",
        "       \"Dollar\":\"$\",\r\n",
        "       \"Yen\":\"¥\"}\r\n",
        "if divisa in dictio:\r\n",
        "  print(dictio[divisa])\r\n",
        "else:\r\n",
        "  print(\"El valor no se encuentra en el diccionario\")"
      ],
      "execution_count": 12,
      "outputs": [
        {
          "output_type": "stream",
          "text": [
            "Ingrese una divisajaja\n",
            "El valor no se encuentra en el diccionario\n"
          ],
          "name": "stdout"
        }
      ]
    },
    {
      "cell_type": "code",
      "metadata": {
        "colab": {
          "base_uri": "https://localhost:8080/"
        },
        "id": "3i-jq2FFawYK",
        "outputId": "682ae29b-d456-4b9d-f7bf-121903598fdd"
      },
      "source": [
        "divisa=input(\"Ingrese una divisa\").title()\r\n",
        "dictio={\"Euro\":\"€\",\r\n",
        "       \"Dollar\":\"$\",\r\n",
        "       \"Yen\":\"¥\"}\r\n",
        "print(dictio.get(divisa, \"No se encuentra\"))"
      ],
      "execution_count": 14,
      "outputs": [
        {
          "output_type": "stream",
          "text": [
            "Ingrese una divisajj\n",
            "No se encuentra\n"
          ],
          "name": "stdout"
        }
      ]
    },
    {
      "cell_type": "markdown",
      "metadata": {
        "id": "jjbkhY-Hr4tA"
      },
      "source": [
        "Ejercicio 2\r\n",
        "Escribir un programa que pregunte al usuario su nombre, edad, dirección y teléfono y lo guarde en un diccionario. Después debe mostrar por pantalla el mensaje <nombre> tiene <edad> años, vive en <dirección> y su número de teléfono es <teléfono>.\r\n"
      ]
    },
    {
      "cell_type": "code",
      "metadata": {
        "colab": {
          "base_uri": "https://localhost:8080/"
        },
        "id": "1iyaQzT61S2T",
        "outputId": "6a024d7b-4763-4361-d162-82f3ecd3ca53"
      },
      "source": [
        "nombre=input(\"Cual es tu nombre\")\r\n",
        "edad=input(\"Cual es tu edad\")\r\n",
        "direccion=input(\"Cual es tu direccion\")\r\n",
        "telefono=input(\"Cual es tu telefono\")\r\n",
        "datos={\"nombre\":nombre,\"edad\":edad,\"direccion\":direccion,\"telefono\":telefono}\r\n",
        "print(\"Tu nombre es \"+ datos[\"nombre\"]+ \"edad\"+ datos[\"edad\"]+ datos[\"direccion\"]+datos[\"telefono\"])\r\n"
      ],
      "execution_count": 4,
      "outputs": [
        {
          "output_type": "stream",
          "text": [
            "Cual es tu nombrecate\n",
            "Cual es tu edad23\n",
            "Cual es tu direccioncalle eewjdjodkd\n",
            "Cual es tu telefono3213056507\n",
            "Tu nombre es cateedad23calle eewjdjodkd3213056507\n"
          ],
          "name": "stdout"
        }
      ]
    },
    {
      "cell_type": "markdown",
      "metadata": {
        "id": "ElGrKsL6vL25"
      },
      "source": [
        "## Ejercicio \r\n",
        "\r\n",
        "Escribir un programa que guarde en un diccionario los precios de las frutas de la tabla, pregunte al usuario por una fruta, un número de kilos y muestre por pantalla el precio de ese número de kilos de fruta. Si la fruta no está en el diccionario debe mostrar un mensaje informando de ello.\r\n",
        "\r\n",
        "| Fruta | Precio|\r\n",
        "|:-|:-:|\r\n",
        "|Plátano | 1.35 |\r\n",
        "|Manzana | 0.80|\r\n",
        "|Pera| 0.85|\r\n",
        "|Naranja | 0.70|"
      ]
    },
    {
      "cell_type": "code",
      "metadata": {
        "colab": {
          "base_uri": "https://localhost:8080/"
        },
        "id": "4kljNQ-KbQi2",
        "outputId": "0f179ad0-6f34-4949-e65a-6a8d2fe96f33"
      },
      "source": [
        "dic={\"platano\":1.35,\"Manzana\":0.80,\"Pera\":0.8,\"Naranja\":0.70}\r\n",
        "fruta=input(\"Ingrese la fruta\").title()\r\n",
        "kil=float(input(\"Ingrese el numero de kilos \"))\r\n",
        "if fruta in dic:\r\n",
        "  print(kil,\" de la fruta \", fruta , \"vale\", dic[fruta]*kil)\r\n",
        "else:\r\n",
        "  print(\"La fruta no esta\")\r\n",
        "\r\n",
        "\r\n"
      ],
      "execution_count": 14,
      "outputs": [
        {
          "output_type": "stream",
          "text": [
            "Ingrese la frutaPlatano\n",
            "Ingrese el numero de kilos 2\n",
            "La fruta no esta\n"
          ],
          "name": "stdout"
        }
      ]
    },
    {
      "cell_type": "markdown",
      "metadata": {
        "id": "P6E8XRoTbG27"
      },
      "source": [
        "## Ejercicio \r\n",
        "\r\n",
        "Escribir un programa que pregunte una fecha en formato `dd/mm/aaaa` y muestre por pantalla la misma fecha en formato `dd de <mes> de aaaa` donde `<mes>` es el nombre del mes."
      ]
    },
    {
      "cell_type": "code",
      "metadata": {
        "colab": {
          "base_uri": "https://localhost:8080/"
        },
        "id": "8ni69jKZ0cDo",
        "outputId": "b733a7cc-d995-475a-de93-be5c6a72c66a"
      },
      "source": [
        "meses={1:'Enero',2:'Febrero',3:'marzo', 4:'abril', 5:'mayo', 6:'junio', 7:'julio', 8:'agosto', 9:'septiembre', 10:'octubre', 11:'noviembre', 12:'diciembre'}\r\n",
        "fecha=input('Ingresa la fecha en formato\\n dd/mm/aaaa ')\r\n",
        "fecha=fecha.split('/')\r\n",
        "print(fecha[0],'de', meses[int(fecha[1])],'de',fecha[2])"
      ],
      "execution_count": 22,
      "outputs": [
        {
          "output_type": "stream",
          "text": [
            "Ingresa la fecha en formato\n",
            " dd/mm/aaaa 11/12/1994\n",
            "11 de diciembre de 1994\n"
          ],
          "name": "stdout"
        }
      ]
    },
    {
      "cell_type": "markdown",
      "metadata": {
        "id": "Rg3RsRoDk99A"
      },
      "source": [
        "Escribir un programa que almacene el diccionario con los créditos de las asignaturas de un curso `{'Matemáticas': 6, 'Física': 4, 'Química': 5}` y después muestre por pantalla los créditos de cada asignatura en el formato `<asignatura> tiene <créditos> créditos`, donde `<asignatura>` es cada una de las asignaturas del curso, y `<créditos>` son sus créditos. Al final debe mostrar también el número total de créditos del curso."
      ]
    },
    {
      "cell_type": "code",
      "metadata": {
        "colab": {
          "base_uri": "https://localhost:8080/"
        },
        "id": "Gv5mujLRj6DJ",
        "outputId": "5670cdfd-b159-4389-9fc4-8c4dc5179fd9"
      },
      "source": [
        "credits={\"Matemáticas\": 6, \"Física\": 4, \"Química\": 5}\r\n",
        "for i, cred in credits.items():\r\n",
        "  print(i+\" tiene \"+ str(cred)+ \" creditos\")\r\n",
        "values=credits.values()\r\n",
        "total=sum(values)\r\n",
        "print(\"El total de los creditos es \"+str(total))"
      ],
      "execution_count": 27,
      "outputs": [
        {
          "output_type": "stream",
          "text": [
            "Matemáticas tiene 6 creditos\n",
            "Física tiene 4 creditos\n",
            "Química tiene 5 creditos\n",
            "El total de los creditos es 15\n"
          ],
          "name": "stdout"
        }
      ]
    },
    {
      "cell_type": "markdown",
      "metadata": {
        "id": "fy74KrbDLFrW"
      },
      "source": [
        "Another way to do it"
      ]
    },
    {
      "cell_type": "code",
      "metadata": {
        "colab": {
          "base_uri": "https://localhost:8080/"
        },
        "id": "OK2Ybhqjog2h",
        "outputId": "470bea6f-a973-4dc2-e330-5a5e86146d46"
      },
      "source": [
        "dic={\"Matemáticas\": 6, \"Física\": 4, \"Química\": 5}\r\n",
        "total_u=0\r\n",
        "for i,u in dic.items():\r\n",
        "  print(\"para \"+i+\"los creditos  son \"+ str(u))\r\n",
        "  total_u+=u\r\n",
        "print(\"El total de creditos es  \", total_u)"
      ],
      "execution_count": 33,
      "outputs": [
        {
          "output_type": "stream",
          "text": [
            "para Matemáticaslos creditos  son 6\n",
            "para Físicalos creditos  son 4\n",
            "para Químicalos creditos  son 5\n",
            "El total de creditos es   15\n"
          ],
          "name": "stdout"
        }
      ]
    },
    {
      "cell_type": "markdown",
      "metadata": {
        "id": "BUR_2iCnNX_P"
      },
      "source": [
        "Ejercicio 6\r\n",
        "Escribir un programa que cree un diccionario vacío y lo vaya llenado con información sobre una persona (por ejemplo nombre, edad, sexo, teléfono, correo electrónico, etc.) que se le pida al usuario. Cada vez que se añada un nuevo dato debe imprimirse el contenido del diccionario."
      ]
    },
    {
      "cell_type": "code",
      "metadata": {
        "colab": {
          "base_uri": "https://localhost:8080/"
        },
        "id": "1ma2i5_gMTmJ",
        "outputId": "827fd1f9-4f5e-4249-91d9-243289539b31"
      },
      "source": [
        "dic={}\r\n",
        "lis=[]\r\n",
        "lis_1=[]\r\n",
        "questions=(\"nombre\",\"edad\",\"sexo\")\r\n",
        "for i in questions:\r\n",
        "  question=input(\"Cual es tu\"+i)\r\n",
        "  lis.append(question)\r\n",
        "  lis_1.append(i)\r\n",
        "  dictio=dict(zip(lis_1,lis))\r\n",
        "print(dictio)\r\n",
        "  "
      ],
      "execution_count": 42,
      "outputs": [
        {
          "output_type": "stream",
          "text": [
            "Cual es tunombreca\n",
            "Cual es tuedad23\n",
            "Cual es tusexof\n",
            "{'nombre': 'ca', 'edad': '23', 'sexo': 'f'}\n"
          ],
          "name": "stdout"
        }
      ]
    },
    {
      "cell_type": "markdown",
      "metadata": {
        "id": "eFASPKOuXUNg"
      },
      "source": [
        "Now we will do the whole previous excersice in a long way."
      ]
    },
    {
      "cell_type": "code",
      "metadata": {
        "colab": {
          "base_uri": "https://localhost:8080/"
        },
        "id": "D1phKK4wSPj3",
        "outputId": "7942fa02-140a-4caa-f5fd-babbe49c5ead"
      },
      "source": [
        "dic={}\r\n",
        "lis=[]\r\n",
        "lis_1=[]\r\n",
        "questions=(\"nombre\",\"edad\",\"sexo\")\r\n",
        "for i in questions:\r\n",
        "  question=input(\"Cual es tu\"+i)\r\n",
        "  lis.append(question)\r\n",
        "  lis_1.append(i)\r\n",
        "  dictio=dict(zip(lis_1,lis))\r\n",
        "print(dictio)\r\n",
        "x=input(\"Tienes otro dato para ingresar? \\n si\\n no\")\r\n",
        "while x!=\"no\":\r\n",
        "  nuevo=input(\"Ingrese el nuevo dato a ingresar\")\r\n",
        "  lis.append(nuevo)\r\n",
        "  nuevo_1=input(\"Ingrese el dato\")\r\n",
        "  lis_1.append(nuevo_1)\r\n",
        "  diction=dict(zip(lis,lis_1))\r\n",
        "  print(diction)\r\n",
        "  x=input(\"Tienes otro dato para ingresar? \\n si\\n no\")\r\n",
        "print(\"Gracias\")\r\n"
      ],
      "execution_count": 70,
      "outputs": [
        {
          "output_type": "stream",
          "text": [
            "Cual es tunombrenn\n",
            "Cual es tuedad3\n",
            "Cual es tusexof\n",
            "{'nombre': 'nn', 'edad': '3', 'sexo': 'f'}\n",
            "Tienes otro dato para ingresar? \n",
            " si\n",
            " nosi\n",
            "Ingrese el nuevo dato a ingresarksk\n",
            "Ingrese el datoee\n",
            "{'nn': 'nombre', '3': 'edad', 'f': 'sexo', 'ksk': 'ee'}\n",
            "Tienes otro dato para ingresar? \n",
            " si\n",
            " nono\n",
            "Gracias\n"
          ],
          "name": "stdout"
        }
      ]
    },
    {
      "cell_type": "markdown",
      "metadata": {
        "id": "9dI256lIi2cM"
      },
      "source": [
        "Another way to do it "
      ]
    },
    {
      "cell_type": "code",
      "metadata": {
        "colab": {
          "base_uri": "https://localhost:8080/"
        },
        "id": "bQw9TzHRYRZ6",
        "outputId": "61ac66b8-0ee8-49df-d5bc-11eda372b6cf"
      },
      "source": [
        "dic={}\r\n",
        "lis=[]\r\n",
        "lis_1=[]\r\n",
        "x=\"si\"\r\n",
        "while x==\"si\":\r\n",
        "  nuevo=input(\"Cual es el dano a ingresar?\")\r\n",
        "  lis.append(nuevo)\r\n",
        "  nuevo_1=input(\"Ingrese el dato \"+nuevo+\": \")\r\n",
        "  lis_1.append(nuevo_1)\r\n",
        "  diction=dict(zip(lis,lis_1))\r\n",
        "  print(diction)\r\n",
        "  x=input(\"Tienes otro dato para ingresar? \\n si\\n no\")\r\n",
        "print(\"Gracias\")\r\n"
      ],
      "execution_count": 81,
      "outputs": [
        {
          "output_type": "stream",
          "text": [
            "Cual es el dano a ingresar?edad\n",
            "Ingrese el dato edad: 25\n",
            "{'edad': '25'}\n",
            "Tienes otro dato para ingresar? \n",
            " si\n",
            " nono\n",
            "Gracias\n"
          ],
          "name": "stdout"
        }
      ]
    },
    {
      "cell_type": "code",
      "metadata": {
        "colab": {
          "base_uri": "https://localhost:8080/"
        },
        "id": "-M8ue1-4lHgy",
        "outputId": "1ef71187-4f76-49e8-8f1c-e3e8bb615ce6"
      },
      "source": [
        "person = {}\r\n",
        "more = 'Si'\r\n",
        "while more=='Si':\r\n",
        "    key = input('¿Qué dato quieres introducir? ')\r\n",
        "    value = input(key + ': ')\r\n",
        "    person[key] = value\r\n",
        "    print(person)\r\n",
        "    more = input('¿Quieres añadir más información (Si/No)? ')"
      ],
      "execution_count": 82,
      "outputs": [
        {
          "output_type": "stream",
          "text": [
            "¿Qué dato quieres introducir? EDAD\n",
            "EDAD: 32\n",
            "{'EDAD': '32'}\n",
            "¿Quieres añadir más información (Si/No)? no\n"
          ],
          "name": "stdout"
        }
      ]
    },
    {
      "cell_type": "markdown",
      "metadata": {
        "id": "gY76b7Lni-xA"
      },
      "source": [
        "Ejercicio 7\r\n",
        "Escribir un programa que cree un diccionario simulando una cesta de la compra. El programa debe preguntar el artículo y su precio y añadir el par al diccionario, hasta que el usuario decida terminar. Después se debe mostrar por pantalla la lista de la compra y el coste total, con el siguiente formato\r\n",
        "\r\n",
        "|Lista de la compra| |\r\n",
        "|:-|-:|\r\n",
        "|Artículo 1 | Precio|\r\n",
        "|Artículo 2 | Precio|\r\n",
        "|Artículo 3 | Precio|\r\n",
        "|...| ...|\r\n",
        "|Total| Coste|\r\n",
        "\r\n"
      ]
    },
    {
      "cell_type": "code",
      "metadata": {
        "colab": {
          "base_uri": "https://localhost:8080/"
        },
        "id": "N1yaB5kNhAdB",
        "outputId": "17a041ab-a990-4818-8fc9-bfd2f14886bf"
      },
      "source": [
        "diction={}\r\n",
        "x=\"si\"\r\n",
        "while x==\"si\":\r\n",
        "  articulo=input(\"Ingrese el articulo\")\r\n",
        "  precio=int(input(articulo+\" Ingrese el precio \"+\" : \"))\r\n",
        "  diction[articulo]=precio\r\n",
        "  print(diction)\r\n",
        "  x=input(\"Tiene otro articulo para ingresar?\")\r\n",
        "print(\"Lista de compra\")\r\n",
        "for i, cred in diction.items():\r\n",
        "   print(i+\"\\t\",cred)\r\n",
        "values=diction.values()\r\n",
        "total=sum(values)\r\n",
        "print(\"El total de la lista es \", total)\r\n"
      ],
      "execution_count": 134,
      "outputs": [
        {
          "output_type": "stream",
          "text": [
            "Ingrese el articulofresa\n",
            "fresa Ingrese el precio  : 3000\n",
            "{'fresa': 3000}\n",
            "Tiene otro articulo para ingresar?si\n",
            "Ingrese el articulomango\n",
            "mango Ingrese el precio  : 8990\n",
            "{'fresa': 3000, 'mango': 8990}\n",
            "Tiene otro articulo para ingresar?no\n",
            "Lista de compra\n",
            "fresa\t 3000\n",
            "mango\t 8990\n",
            "El total de la lista es  11990\n"
          ],
          "name": "stdout"
        }
      ]
    },
    {
      "cell_type": "markdown",
      "metadata": {
        "id": "4soS56i4B3Mg"
      },
      "source": [
        "Ejercicio 8\r\n",
        "Escribir un programa que cree un diccionario de traducción español-inglés. El usuario introducirá las palabras en español e inglés separadas por dos puntos, y cada par `<palabra>:<traducción>` separados por comas. El programa debe crear un diccionario con las palabras y sus traducciones. Después pedirá una frase en español y utilizará el diccionario para traducirla palabra a palabra. Si una palabra no está en el diccionario debe dejarla sin traducir."
      ]
    },
    {
      "cell_type": "code",
      "metadata": {
        "colab": {
          "base_uri": "https://localhost:8080/"
        },
        "id": "YPv4C7myzvCR",
        "outputId": "c863a60c-e104-4b8c-f070-87abd77ad055"
      },
      "source": [
        "dic={}\r\n",
        "lis_1=[]\r\n",
        "lis_2=[]\r\n",
        "lis_frase=[]\r\n",
        "x=\"si\"\r\n",
        "while x==\"si\":\r\n",
        "  palabra=input(\"Ingrese la palabra en español\")\r\n",
        "  traduccion=input(\"Ingrese la traduccion para \"+ palabra)\r\n",
        "  lis_1.append(palabra)\r\n",
        "  lis_2.append(traduccion)\r\n",
        "  dic=dict(zip(lis_1,lis_2))\r\n",
        "  x=input(\"Quiere ingresar otra palabra?\")\r\n",
        "print(dic)\r\n",
        "while x==\"no\":\r\n",
        "    frase=input(\"ingrese un frase\").split()\r\n",
        "    for i in frase:\r\n",
        "      if i in dic:\r\n",
        "        print(dic[i],end=\" \")\r\n",
        "      else:\r\n",
        "        print(i,end=\" \")\r\n",
        "    x=input(\"Quiere terminar de traducir?\")\r\n"
      ],
      "execution_count": 184,
      "outputs": [
        {
          "output_type": "stream",
          "text": [
            "Ingrese la palabra en españolagua\n",
            "Ingrese la traduccion para aguawater\n",
            "Quiere ingresar otra palabra?si\n",
            "Ingrese la palabra en españolfuego\n",
            "Ingrese la traduccion para fuegofire\n",
            "Quiere ingresar otra palabra?no\n",
            "{'agua': 'water', 'fuego': 'fire'}\n",
            "ingrese un fraseel agua apaga el fuego\n",
            "el water apaga el fire Quiere terminar de traducir?si\n"
          ],
          "name": "stdout"
        }
      ]
    },
    {
      "cell_type": "markdown",
      "metadata": {
        "id": "pBYItaGwgii7"
      },
      "source": [
        "Another way to do it\r\n",
        "\r\n",
        "Escribir un programa que cree un diccionario de traducción español-inglés. El usuario introducirá las palabras en español e inglés separadas por dos puntos, y cada par <palabra>:<traducción> separados por comas. El programa debe crear un diccionario con las palabras y sus traducciones. Después pedirá una frase en español y utilizará el diccionario para traducirla palabra a palabra. Si una palabra no está en el diccionario debe dejarla sin traducir."
      ]
    },
    {
      "cell_type": "code",
      "metadata": {
        "colab": {
          "base_uri": "https://localhost:8080/"
        },
        "id": "rd5mZf_mgj7X",
        "outputId": "bc3278ae-4dfb-4ccf-d644-047fafc29ef1"
      },
      "source": [
        "dic={}\r\n",
        "palabras=input(\"ingrese la palabra en español e ingles en el formato español:ingles, español:ingles\")\r\n",
        "for i in palabras.split(\",\"):\r\n",
        "  key,value=i.split(\":\")\r\n",
        "  dic[key]=value\r\n",
        "frase=input(\"Ingrese una frase\")\r\n",
        "for i in frase.split():\r\n",
        "  if i in dic:\r\n",
        "    print(dic[i],end=\" \")\r\n",
        "  else:\r\n",
        "    print(i, end=\" \")\r\n",
        "\r\n"
      ],
      "execution_count": 187,
      "outputs": [
        {
          "output_type": "stream",
          "text": [
            "ingrese la palabra en español e ingles en el formato español:ingles, español:inglesagua:water,fuego:fire\n",
            "Ingrese una fraseel agua apaga el fuego\n",
            "el water apaga el fire "
          ],
          "name": "stdout"
        }
      ]
    },
    {
      "cell_type": "markdown",
      "metadata": {
        "id": "SeH_u11_MeCC"
      },
      "source": [
        "Ejercicio 9\r\n",
        "Escribir un programa que gestione las facturas pendientes de cobro de una empresa. Las facturas se almacenarán en un diccionario donde la clave de cada factura será el número de factura y el valor el coste de la factura. El programa debe preguntar al usuario si quiere añadir una nueva factura, pagar una existente o terminar. Si desea añadir una nueva factura se preguntará por el número de factura y su coste y se añadirá al diccionario. Si se desea pagar una factura se preguntará por el número de factura y se eliminará del diccionario. Después de cada operación el programa debe mostrar por pantalla la cantidad cobrada hasta el momento y la cantidad pendiente de cobro."
      ]
    },
    {
      "cell_type": "code",
      "metadata": {
        "colab": {
          "base_uri": "https://localhost:8080/"
        },
        "id": "7d3O1TGvlSCL",
        "outputId": "5914baf9-ec6a-43c7-8f17-b25c3ae9c6b1"
      },
      "source": [
        "dic={}\r\n",
        "count=0\r\n",
        "remain=0\r\n",
        "more=(\"\")\r\n",
        "while more!= (\"T\"):\r\n",
        "  if more ==(\"A\"):\r\n",
        "    factura=input(\"Ingrese el numero de la factura\")\r\n",
        "    coste=int(input(\"Ingrese el coste de la factura\"))\r\n",
        "    dic[factura]=coste\r\n",
        "    remain += coste\r\n",
        "  if more==(\"P\"):\r\n",
        "     pago=input(\"Ingrese el numero de factura a pagar\")\r\n",
        "     coste=dic.pop(pago)\r\n",
        "     remain-=coste\r\n",
        "  print(\"Recaudado\", coste)\r\n",
        "  print(\"Debe\",remain)  \r\n",
        "  more=input(\"Para ingresar una factura escriba A, para pagar una factura escriba P, para terminar escriba T\")\r\n"
      ],
      "execution_count": 32,
      "outputs": [
        {
          "output_type": "stream",
          "text": [
            "Recaudado 433\n",
            "Debe 0\n",
            "Para ingresar una factura escriba A, para pagar una factura escriba P, para terminar escriba T43\n",
            "Recaudado 433\n",
            "Debe 0\n",
            "Para ingresar una factura escriba A, para pagar una factura escriba P, para terminar escriba TA\n",
            "Ingrese el numero de la factura456\n",
            "Ingrese el coste de la factura999\n",
            "Recaudado 999\n",
            "Debe 999\n",
            "Para ingresar una factura escriba A, para pagar una factura escriba P, para terminar escriba TA\n",
            "Ingrese el numero de la factura998\n",
            "Ingrese el coste de la factura098\n",
            "Recaudado 98\n",
            "Debe 1097\n",
            "Para ingresar una factura escriba A, para pagar una factura escriba P, para terminar escriba TP\n",
            "Ingrese el numero de factura a pagar456\n",
            "Recaudado 999\n",
            "Debe 98\n",
            "Para ingresar una factura escriba A, para pagar una factura escriba P, para terminar escriba TT\n"
          ],
          "name": "stdout"
        }
      ]
    },
    {
      "cell_type": "markdown",
      "metadata": {
        "id": "KziuBcQzpnZb"
      },
      "source": [
        "Ejercicio 10\r\n",
        "Escribir un programa que permita gestionar la base de datos de clientes de una empresa. Los clientes se guardarán en un diccionario en el que la clave de cada cliente será su NIF, y el valor será otro diccionario con los datos del cliente (nombre, dirección, teléfono, correo, preferente), donde preferente tendrá el valor `True` si se trata de un cliente preferente. El programa debe preguntar al usuario por una opción del siguiente menú: (1) Añadir cliente, (2) Eliminar cliente, (3) Mostrar cliente, (4) Listar todos los clientes, (5) Listar clientes preferentes, (6) Terminar. En función de la opción elegida el programa tendrá que hacer lo siguiente:\r\n",
        "\r\n",
        "1. Preguntar los datos del cliente, crear un diccionario con los datos y añadirlo a la base de datos.\r\n",
        "2. Preguntar por el NIF del cliente y eliminar sus datos de la base de datos.\r\n",
        "3. Preguntar por el NIF del cliente y mostrar sus datos.\r\n",
        "4. Mostrar lista de todos los clientes de la base datos con su NIF y nombre.\r\n",
        "5. Mostrar la lista de clientes preferentes de la base de datos con su NIF y nombre.\r\n",
        "6. Terminar el programa."
      ]
    },
    {
      "cell_type": "code",
      "metadata": {
        "colab": {
          "base_uri": "https://localhost:8080/"
        },
        "id": "d9mx8kFvggda",
        "outputId": "6e7c6a74-a0a0-4b36-fa31-075369377254"
      },
      "source": [
        "datos={}\r\n",
        "more= \" \"\r\n",
        "while more!=\"6\":\r\n",
        "  if more==\"1\":\r\n",
        "    nif=input(\"Ingrese el NIF del usuario \")\r\n",
        "    name=input(\"Ingrese el nombre\")\r\n",
        "    direccion=input(\"Ingrese la direccion\")\r\n",
        "    telefono=input(\"Ingrese el telefono\")\r\n",
        "    correo=input(\"Ingrese el correo\")\r\n",
        "    vip=input(\"Es el usuario preferente S/N\")\r\n",
        "    dato={\"name\":name,\"direccion\":direccion,\"telefono\":telefono,\"correo\":correo,\"preferente\":vip==\"S\"}\r\n",
        "    datos[nif]=dato\r\n",
        "  if more ==\"2\":\r\n",
        "    nif=input(\"Ingrese el nif del cliente\")\r\n",
        "    datos.pop(nif)\r\n",
        "    print(datos)\r\n",
        "  if more ==\"3\":\r\n",
        "    nif=input(\"Ingrese el nif del cliente\")\r\n",
        "    print(datos[nif])\r\n",
        "  if more ==\"4\":\r\n",
        "    print(datos, end=\"\\t\")\r\n",
        "  if more==\"5\":\r\n",
        "    for a,i in datos.items():\r\n",
        "      if i [\"preferente\"]:\r\n",
        "        print(a,i[\"name\"])\r\n",
        "\r\n",
        "  more=input(\"Elije que deseas hacer \\n (1) Añadir cliente,\\n (2) Eliminar cliente,\\n (3) Mostrar cliente,\\n (4) Listar todos los clientes,\\n (5) Listar clientes preferentes,\\n (6) Terminar.\\n\")\r\n",
        "print(datos)"
      ],
      "execution_count": 55,
      "outputs": [
        {
          "output_type": "stream",
          "text": [
            "Elije que deseas hacer \n",
            " (1) Añadir cliente,\n",
            " (2) Eliminar cliente,\n",
            " (3) Mostrar cliente,\n",
            " (4) Listar todos los clientes,\n",
            " (5) Listar clientes preferentes,\n",
            " (6) Terminar.\n",
            "1\n",
            "Ingrese el NIF del usuario 11218873456\n",
            "Ingrese el nombreMaria suluaga\n",
            "Ingrese la direccioncalle 87 32 99\n",
            "Ingrese el telefono333222555\n",
            "Ingrese el correokaterinmiriam@gmail.com\n",
            "Es el usuario preferente S/NS\n",
            "Elije que deseas hacer \n",
            " (1) Añadir cliente,\n",
            " (2) Eliminar cliente,\n",
            " (3) Mostrar cliente,\n",
            " (4) Listar todos los clientes,\n",
            " (5) Listar clientes preferentes,\n",
            " (6) Terminar.\n",
            "6\n",
            "{'11218873456': {'name': 'Maria suluaga', 'direccion': 'calle 87 32 99', 'telefono': '333222555', 'correo': 'katerinmiriam@gmail.com', 'preferente': True}}\n"
          ],
          "name": "stdout"
        }
      ]
    },
    {
      "cell_type": "code",
      "metadata": {
        "id": "4Nvw_QujZq3w"
      },
      "source": [
        ""
      ],
      "execution_count": null,
      "outputs": []
    }
  ]
}