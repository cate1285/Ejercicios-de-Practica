{
  "nbformat": 4,
  "nbformat_minor": 0,
  "metadata": {
    "colab": {
      "name": "Diccionarios.ipynb",
      "provenance": [],
      "collapsed_sections": [],
      "authorship_tag": "ABX9TyP0cDw74kb2Xpbpsg4NpDlZ",
      "include_colab_link": true
    },
    "kernelspec": {
      "name": "python3",
      "display_name": "Python 3"
    }
  },
  "cells": [
    {
      "cell_type": "markdown",
      "metadata": {
        "id": "view-in-github",
        "colab_type": "text"
      },
      "source": [
        "<a href=\"https://colab.research.google.com/github/cate1285/Catesecondtime/blob/main/Diccionarios.ipynb\" target=\"_parent\"><img src=\"https://colab.research.google.com/assets/colab-badge.svg\" alt=\"Open In Colab\"/></a>"
      ]
    },
    {
      "cell_type": "markdown",
      "metadata": {
        "id": "xn8CKNrffqbq"
      },
      "source": [
        "Ejercicios de Funciones\r\n",
        "Ejercicio 1\r\n",
        "Escribir una función que muestre por pantalla el saludo ¡Hola amiga! cada vez que se la invoque."
      ]
    },
    {
      "cell_type": "code",
      "metadata": {
        "colab": {
          "base_uri": "https://localhost:8080/"
        },
        "id": "RtbU3CUTfpSl",
        "outputId": "774db184-758b-417c-8987-a55154720929"
      },
      "source": [
        "def fun_un():\r\n",
        "  print(\"Hola amiga\")\r\n",
        "  return\r\n",
        "fun_un()\r\n",
        "  \r\n"
      ],
      "execution_count": null,
      "outputs": [
        {
          "output_type": "stream",
          "text": [
            "Hola amiga\n"
          ],
          "name": "stdout"
        }
      ]
    },
    {
      "cell_type": "markdown",
      "metadata": {
        "id": "IEiT5F33iVId"
      },
      "source": [
        "Ejercicio 2\r\n",
        "Escribir una función a la que se le pase una cadena `<nombre>` y muestre por pantalla el saludo `¡hola <nombre>!`."
      ]
    },
    {
      "cell_type": "code",
      "metadata": {
        "colab": {
          "base_uri": "https://localhost:8080/"
        },
        "id": "gimvletiiH1o",
        "outputId": "e59fa2e1-6b73-4883-bd2b-94ae769abd8b"
      },
      "source": [
        "def sec(nombre):\r\n",
        "  print(\"Hola \"+ nombre)\r\n",
        "  return\r\n",
        "sec(\"Caterin\")\r\n",
        "sec(\"Maria\")\r\n",
        "sec(\"Roberto\")"
      ],
      "execution_count": null,
      "outputs": [
        {
          "output_type": "stream",
          "text": [
            "Hola Caterin\n",
            "Hola Maria\n",
            "Hola Roberto\n"
          ],
          "name": "stdout"
        }
      ]
    },
    {
      "cell_type": "markdown",
      "metadata": {
        "id": "huRiOXaRk0ej"
      },
      "source": [
        "Ejercicio 3\r\n",
        "Escribir una función que reciba un número entero positivo y devuelva su factorial."
      ]
    },
    {
      "cell_type": "code",
      "metadata": {
        "colab": {
          "base_uri": "https://localhost:8080/"
        },
        "id": "rdpjO8MGj86z",
        "outputId": "74ccd313-f23e-4347-bb31-e3758b50cc6f"
      },
      "source": [
        "def fact_1(n):\r\n",
        "    factorial_total = 1\r\n",
        "    while n > 1:\r\n",
        "        factorial_total *= n\r\n",
        "        n -= 1\r\n",
        "    return factorial_total\r\n",
        "fact_1(2)"
      ],
      "execution_count": null,
      "outputs": [
        {
          "output_type": "execute_result",
          "data": {
            "text/plain": [
              "2"
            ]
          },
          "metadata": {
            "tags": []
          },
          "execution_count": 22
        }
      ]
    },
    {
      "cell_type": "markdown",
      "metadata": {
        "id": "kWnavHfiZizs"
      },
      "source": [
        "Another way to do it"
      ]
    },
    {
      "cell_type": "code",
      "metadata": {
        "colab": {
          "base_uri": "https://localhost:8080/"
        },
        "id": "YzeYkkm9lnpm",
        "outputId": "e4efe756-a68d-4324-c10d-9bed8ebf4fc4"
      },
      "source": [
        "def fact(n):\r\n",
        "  x=1\r\n",
        "  for i in range(n):\r\n",
        "    x *= i+1\r\n",
        "  return x\r\n",
        "print(fact(3))"
      ],
      "execution_count": null,
      "outputs": [
        {
          "output_type": "stream",
          "text": [
            "6\n"
          ],
          "name": "stdout"
        }
      ]
    },
    {
      "cell_type": "markdown",
      "metadata": {
        "id": "1axWCtppg4H0"
      },
      "source": [
        "Ejercicio 4\r\n",
        "Escribir una función que calcule el total de una factura tras aplicarle el IVA. La función debe recibir la cantidad sin IVA y el porcentaje de IVA a aplicar, y devolver el total de la factura. Si se invoca la función sin pasarle el porcentaje de IVA, deberá aplicar un 21%."
      ]
    },
    {
      "cell_type": "code",
      "metadata": {
        "colab": {
          "base_uri": "https://localhost:8080/"
        },
        "id": "Um5lmAChg5Q_",
        "outputId": "66e013cb-9268-407c-e077-955feb144671"
      },
      "source": [
        "\r\n",
        "valor=float(input(\"Ingrese el valor de la factura\"))\r\n",
        "iva=input(\" Tiene un porcentaje de IVA para ingresar \\n SI \\n NO\" )\r\n",
        "if iva== \"SI\":\r\n",
        "  valoriva=float(input(\"Ingrese el iva\"))\r\n",
        "  x=((valor*(valoriva/100))+ valor)\r\n",
        "else:\r\n",
        "  x=valor*(0.21+1)\r\n",
        "print(x)\r\n",
        "\r\n",
        "\r\n"
      ],
      "execution_count": null,
      "outputs": [
        {
          "output_type": "stream",
          "text": [
            "Ingrese el valor de la factura1000\n",
            " Tiene un porcentaje de IVA para ingresar \n",
            " SI \n",
            " NONO\n",
            "1210.0\n"
          ],
          "name": "stdout"
        }
      ]
    },
    {
      "cell_type": "markdown",
      "metadata": {
        "id": "YzurMXRqw-vQ"
      },
      "source": [
        "NOW, I WILL USE A FUNCTION"
      ]
    },
    {
      "cell_type": "code",
      "metadata": {
        "colab": {
          "base_uri": "https://localhost:8080/"
        },
        "id": "jsM5pB2qw-Oe",
        "outputId": "bafc8594-f04c-4aae-8167-0ac6cff3a562"
      },
      "source": [
        "def valor(amount,iva=21):\r\n",
        "  return (amount*(iva/100 +1))\r\n",
        "print(valor(1000,10))\r\n",
        "print(valor(1000))"
      ],
      "execution_count": null,
      "outputs": [
        {
          "output_type": "stream",
          "text": [
            "1100.0\n",
            "1210.0\n"
          ],
          "name": "stdout"
        }
      ]
    },
    {
      "cell_type": "markdown",
      "metadata": {
        "id": "WaF236dL2RQs"
      },
      "source": [
        "Ejercicio 5\r\n",
        "Escribir una función que calcule el área de un círculo y otra que calcule el volumen de un cilindro usando la primera función.\r\n",
        "\r\n",
        "\r\n"
      ]
    },
    {
      "cell_type": "code",
      "metadata": {
        "colab": {
          "base_uri": "https://localhost:8080/"
        },
        "id": "opYvLiH7s8N7",
        "outputId": "f1aa0cf0-770d-4a1f-f3b8-890453229dec"
      },
      "source": [
        "def area(pi,radio,altura):\r\n",
        "  return ((pi*(radio**2))*altura)\r\n",
        "print(area(3.14,3,1))\r\n",
        "print(area(3.14,3,5))"
      ],
      "execution_count": null,
      "outputs": [
        {
          "output_type": "stream",
          "text": [
            "28.26\n",
            "141.3\n"
          ],
          "name": "stdout"
        }
      ]
    },
    {
      "cell_type": "markdown",
      "metadata": {
        "id": "hK6_3oQZ7MLJ"
      },
      "source": [
        "A different way to do it"
      ]
    },
    {
      "cell_type": "code",
      "metadata": {
        "colab": {
          "base_uri": "https://localhost:8080/"
        },
        "id": "x8loqr9z4Zoj",
        "outputId": "556a7254-b75d-41e0-d607-9c9405c593b9"
      },
      "source": [
        "def area(radio):\r\n",
        "  pi=3.14\r\n",
        "  return (pi*(radio**2))\r\n",
        "\r\n",
        "def volu(radio,high):\r\n",
        "  return area(radio)*high\r\n",
        "print(volu(3,5))\r\n",
        "\r\n",
        "\r\n"
      ],
      "execution_count": null,
      "outputs": [
        {
          "output_type": "stream",
          "text": [
            "141.3\n"
          ],
          "name": "stdout"
        }
      ]
    },
    {
      "cell_type": "markdown",
      "metadata": {
        "id": "x8E8i274_hps"
      },
      "source": [
        "Ejercicio 6\r\n",
        "Escribir una función que reciba una muestra de números en una lista y devuelva su media.\r\n",
        "\r\n",
        "Sin funcion\r\n"
      ]
    },
    {
      "cell_type": "code",
      "metadata": {
        "colab": {
          "base_uri": "https://localhost:8080/"
        },
        "id": "3DUdwiQ092ov",
        "outputId": "a935ee10-7975-472a-f3e5-5111c149bbc3"
      },
      "source": [
        "\r\n",
        "lis=[2.3, 5.7, 6.8, 9.7, 12.1, 15.6]\r\n",
        "print(lis)\r\n",
        "y=sum(lis)\r\n",
        "x=y/6\r\n",
        "print(x)\r\n"
      ],
      "execution_count": 16,
      "outputs": [
        {
          "output_type": "stream",
          "text": [
            "[2.3, 5.7, 6.8, 9.7, 12.1, 15.6]\n",
            "8.700000000000001\n"
          ],
          "name": "stdout"
        }
      ]
    },
    {
      "cell_type": "markdown",
      "metadata": {
        "id": "UrXPolJQ1imM"
      },
      "source": [
        "Aplicando funciones"
      ]
    },
    {
      "cell_type": "code",
      "metadata": {
        "id": "5nITDV9VCAfD",
        "colab": {
          "base_uri": "https://localhost:8080/"
        },
        "outputId": "039ce743-ba31-44e3-f3b0-7705c48405db"
      },
      "source": [
        "def ejer (lis):\r\n",
        "  return sum(lis)/len(lis)\r\n",
        "print(lis)\r\n",
        "print(ejer([2.3, 5.7, 6.8, 9.7, 12.1, 15.6]))\r\n"
      ],
      "execution_count": 20,
      "outputs": [
        {
          "output_type": "stream",
          "text": [
            "[2.3, 5.7, 6.8, 9.7, 12.1, 15.6]\n",
            "8.700000000000001\n"
          ],
          "name": "stdout"
        }
      ]
    },
    {
      "cell_type": "markdown",
      "metadata": {
        "id": "4S9OysCO4TTP"
      },
      "source": [
        "Ejercicio 7\r\n",
        "Escribir una función que reciba una muestra de números en una lista y devuelva otra lista con sus cuadrados."
      ]
    },
    {
      "cell_type": "code",
      "metadata": {
        "colab": {
          "base_uri": "https://localhost:8080/"
        },
        "id": "RKnD1IEn3xQs",
        "outputId": "261db84c-ba86-45f0-c6e6-cab8fcf5b87e"
      },
      "source": [
        "def second(li):\r\n",
        "  lis=[]\r\n",
        "  for i in li:\r\n",
        "    lis.append(i**2)\r\n",
        "  return lis\r\n",
        "print(second([1,2,3,4,5]))"
      ],
      "execution_count": 39,
      "outputs": [
        {
          "output_type": "stream",
          "text": [
            "[1, 4, 9, 16, 25]\n"
          ],
          "name": "stdout"
        }
      ]
    },
    {
      "cell_type": "markdown",
      "metadata": {
        "id": "5g0D2Loi9Dkv"
      },
      "source": [
        "Ejercicio 8\r\n",
        "Escribir una función que reciba una muestra de números en una lista y devuelva un diccionario con su media, varianza y desviación típica."
      ]
    },
    {
      "cell_type": "code",
      "metadata": {
        "colab": {
          "base_uri": "https://localhost:8080/"
        },
        "id": "jn7Vrk48FCOb",
        "outputId": "1438a761-6142-477a-cfc9-90365c213b56"
      },
      "source": [
        "from math import sqrt\r\n",
        " \r\n",
        "def media(lista):\r\n",
        "  s = 0\r\n",
        "  for elemento in lista:\r\n",
        "    s += elemento\r\n",
        "  return s / float(len(lista))\r\n",
        " \r\n",
        "def varianza(lista):\r\n",
        "  s = 0\r\n",
        "  m = media(lista)\r\n",
        "  for elemento in lista:\r\n",
        "    s += (elemento - m) ** 2\r\n",
        "  return s / float(len(lista))\r\n",
        " \r\n",
        "def desviacion_tipica(lista):\r\n",
        "  return sqrt(varianza(lista))\r\n",
        "  \r\n",
        "def statistics(lista):\r\n",
        "    stat = {}\r\n",
        "    stat['media'] = (media(lista))\r\n",
        "    stat['varianza'] = (varianza(lista))\r\n",
        "    stat['desviacion tipica'] = (desviacion_tipica(lista))\r\n",
        "    return stat\r\n",
        "\r\n",
        "lista=[1,2,3,4,5]\r\n",
        "print(statistics([1,2,3,4,5]))\r\n",
        "print(media(lista))\r\n",
        "print(varianza(lista))\r\n",
        "print(desviacion_tipica(lista))"
      ],
      "execution_count": 60,
      "outputs": [
        {
          "output_type": "stream",
          "text": [
            "{'media': 3.0, 'varianza': 2.0, 'desviacion tipica': 1.4142135623730951}\n",
            "3.0\n",
            "2.0\n",
            "1.4142135623730951\n"
          ],
          "name": "stdout"
        }
      ]
    },
    {
      "cell_type": "markdown",
      "metadata": {
        "id": "Qc4QYZmtUyf7"
      },
      "source": [
        "Another way to do it"
      ]
    },
    {
      "cell_type": "code",
      "metadata": {
        "colab": {
          "base_uri": "https://localhost:8080/"
        },
        "id": "GKa5uoq9ARl-",
        "outputId": "5d41a368-33d9-4538-9f54-03241aa0b9a1"
      },
      "source": [
        "def fu (li):\r\n",
        "  lis=[]\r\n",
        "  for i in li:\r\n",
        "    lis.append(i**2)\r\n",
        "  return lis\r\n",
        "def sample(li):\r\n",
        "    stat = {}\r\n",
        "    stat['media'] = sum(li)/len(li)\r\n",
        "    stat['varianza'] = sum(fu(li))/len(li)-stat['media']**2\r\n",
        "    stat['desviacion tipica'] = stat['varianza']**0.5\r\n",
        "    return stat\r\n",
        "\r\n",
        "print(sample([1, 2, 3, 4, 5]))\r\n"
      ],
      "execution_count": 69,
      "outputs": [
        {
          "output_type": "stream",
          "text": [
            "{'media': 3.0, 'varianza': 2.0, 'desviacion tipica': 1.4142135623730951}\n"
          ],
          "name": "stdout"
        }
      ]
    },
    {
      "cell_type": "markdown",
      "metadata": {
        "id": "VG8-heuYh_Af"
      },
      "source": [
        "Ejercicio 9\r\n",
        "\r\n",
        "Escribir una función que calcule el máximo común divisor de dos números y otra que calcule el mínimo común múltiplo."
      ]
    },
    {
      "cell_type": "code",
      "metadata": {
        "colab": {
          "base_uri": "https://localhost:8080/"
        },
        "id": "lJPglbeoV45O",
        "outputId": "3836547e-2318-43af-cf40-fd301eed41da"
      },
      "source": [
        "def mcd(i,a):\r\n",
        "   mcd=1\r\n",
        "  \r\n",
        "   if i % a== 0:\r\n",
        "      return a\r\n",
        "  \r\n",
        "   for j in range(int(a/2),0,-1):\r\n",
        "       if i % j== 0 and a % j== 0:\r\n",
        "           mcd=j\r\n",
        "           break\r\n",
        "   return mcd\r\n",
        "\r\n",
        "print(mcd(24,36))\r\n",
        "\r\n",
        "def mcm (c,d):\r\n",
        "  z=max(c,d)\r\n",
        "\r\n",
        "  while True:\r\n",
        "    if (z % c==0 and z% d==0):\r\n",
        "      return z\r\n",
        "    \r\n",
        "    z+=1\r\n",
        "\r\n",
        "print(mcm(24,36))\r\n"
      ],
      "execution_count": 117,
      "outputs": [
        {
          "output_type": "stream",
          "text": [
            "12\n",
            "72\n"
          ],
          "name": "stdout"
        }
      ]
    },
    {
      "cell_type": "markdown",
      "metadata": {
        "id": "hd-JW2zhAQjD"
      },
      "source": [
        "Another way to do it \r\n"
      ]
    },
    {
      "cell_type": "code",
      "metadata": {
        "colab": {
          "base_uri": "https://localhost:8080/"
        },
        "id": "i4AlJQZuAXQV",
        "outputId": "d1ce642c-1cc3-4030-b5ed-e67a6c04b937"
      },
      "source": [
        "def mcd(n, m):\r\n",
        "    rest = 0\r\n",
        "    while(m > 0):\r\n",
        "        rest = m\r\n",
        "        m = n % m\r\n",
        "        n = rest\r\n",
        "    return n\r\n",
        "def mcm(n, m):\r\n",
        "    if n > m:\r\n",
        "        greater = n\r\n",
        "    else:\r\n",
        "        greater = m\r\n",
        "    while (greater % n != 0) or (greater % m != 0):\r\n",
        "        greater += 1\r\n",
        "    return greater\r\n",
        "\r\n",
        "print(mcd(24,36))\r\n",
        "print(mcm(24,36))"
      ],
      "execution_count": 118,
      "outputs": [
        {
          "output_type": "stream",
          "text": [
            "12\n",
            "72\n"
          ],
          "name": "stdout"
        }
      ]
    },
    {
      "cell_type": "markdown",
      "metadata": {
        "id": "oW-CoIx8EM7v"
      },
      "source": [
        "Ejercicio 10\r\n",
        "Escribir una función que convierta un número decimal en binario y otra que convierta un número binario en decimal.\r\n",
        "\r\n",
        "\r\n"
      ]
    },
    {
      "cell_type": "code",
      "metadata": {
        "id": "YMW6R720TH6V"
      },
      "source": [
        ""
      ],
      "execution_count": null,
      "outputs": []
    }
  ]
}