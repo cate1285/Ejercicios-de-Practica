{
  "nbformat": 4,
  "nbformat_minor": 0,
  "metadata": {
    "colab": {
      "name": "Bucles",
      "provenance": [],
      "collapsed_sections": [],
      "authorship_tag": "ABX9TyNHUmXg4LvNqh3gpK11nBjI",
      "include_colab_link": true
    },
    "kernelspec": {
      "name": "python3",
      "display_name": "Python 3"
    }
  },
  "cells": [
    {
      "cell_type": "markdown",
      "metadata": {
        "id": "view-in-github",
        "colab_type": "text"
      },
      "source": [
        "<a href=\"https://colab.research.google.com/github/cate1285/Catesecondtime/blob/main/Bucles.ipynb\" target=\"_parent\"><img src=\"https://colab.research.google.com/assets/colab-badge.svg\" alt=\"Open In Colab\"/></a>"
      ]
    },
    {
      "cell_type": "markdown",
      "metadata": {
        "id": "7XkGx9ZY1cc3"
      },
      "source": [
        "Ejercicio 1\r\n",
        "Escribir un programa que pida al usuario una palabra y la muestre por pantalla 10 veces."
      ]
    },
    {
      "cell_type": "code",
      "metadata": {
        "colab": {
          "base_uri": "https://localhost:8080/"
        },
        "id": "VtP83Ch31a4-",
        "outputId": "91583f23-7acb-413d-905f-824a098de0ce"
      },
      "source": [
        "palabra=input(\"Ingresa una palabra\")\r\n",
        "a=0\r\n",
        "while a<10 :\r\n",
        "  print (palabra)\r\n",
        "  a=a+1"
      ],
      "execution_count": null,
      "outputs": [
        {
          "output_type": "stream",
          "text": [
            "Ingresa una palabracate\n",
            "cate\n",
            "cate\n",
            "cate\n",
            "cate\n",
            "cate\n",
            "cate\n",
            "cate\n",
            "cate\n",
            "cate\n",
            "cate\n"
          ],
          "name": "stdout"
        }
      ]
    },
    {
      "cell_type": "markdown",
      "metadata": {
        "id": "7Nodn6x8Aqt_"
      },
      "source": [
        "Second way to do it"
      ]
    },
    {
      "cell_type": "code",
      "metadata": {
        "colab": {
          "base_uri": "https://localhost:8080/"
        },
        "id": "QG_elvCs901e",
        "outputId": "ce0027ba-4830-4335-a6ee-639aadedab57"
      },
      "source": [
        "palabra=input(\"Ingresa una palabra\")\r\n",
        "for i in range(10):\r\n",
        "  print(palabra)\r\n"
      ],
      "execution_count": null,
      "outputs": [
        {
          "output_type": "stream",
          "text": [
            "Ingresa una palabracate\n",
            "cate\n",
            "cate\n",
            "cate\n",
            "cate\n",
            "cate\n",
            "cate\n",
            "cate\n",
            "cate\n",
            "cate\n",
            "cate\n"
          ],
          "name": "stdout"
        }
      ]
    },
    {
      "cell_type": "markdown",
      "metadata": {
        "id": "k-PXS_s3BIHN"
      },
      "source": [
        "Escribir un programa que pregunte al usuario su edad y muestre por pantalla todos los años que ha cumplido (desde 1 hasta su edad)."
      ]
    },
    {
      "cell_type": "code",
      "metadata": {
        "colab": {
          "base_uri": "https://localhost:8080/"
        },
        "id": "-OmpAgSGBECZ",
        "outputId": "627eb461-9cc3-49b8-ab18-92725b1a07bc"
      },
      "source": [
        "age=int(input(\"Ingrese su edad\"))\r\n",
        "a=1\r\n",
        "while a <= age:\r\n",
        "  print(a)\r\n",
        "  a=a+1"
      ],
      "execution_count": null,
      "outputs": [
        {
          "output_type": "stream",
          "text": [
            "Ingrese su edad3\n",
            "1\n",
            "2\n",
            "3\n"
          ],
          "name": "stdout"
        }
      ]
    },
    {
      "cell_type": "markdown",
      "metadata": {
        "id": "gkvLG3meCgGy"
      },
      "source": [
        "Ejercicio 3\r\n",
        "Escribir un programa que pida al usuario un número entero positivo y muestre por pantalla todos los números impares desde 1 hasta ese número separados por comas."
      ]
    },
    {
      "cell_type": "code",
      "metadata": {
        "colab": {
          "base_uri": "https://localhost:8080/"
        },
        "id": "oGliW-BFBoEt",
        "outputId": "9d50daa2-f9ed-41be-9214-3c5c84550c3e"
      },
      "source": [
        "number=int(input(\"Ingrese un numero entero\"))\r\n",
        "lis=[]\r\n",
        "for i in range (1,number+1): \r\n",
        "  if i % 2 != 0: \r\n",
        "    lis.append(i)\r\n",
        "print(lis)\r\n"
      ],
      "execution_count": null,
      "outputs": [
        {
          "output_type": "stream",
          "text": [
            "Ingrese un numero entero40\n",
            "[1, 3, 5, 7, 9, 11, 13, 15, 17, 19, 21, 23, 25, 27, 29, 31, 33, 35, 37, 39]\n"
          ],
          "name": "stdout"
        }
      ]
    },
    {
      "cell_type": "markdown",
      "metadata": {
        "id": "2-pBtUBMfgMG"
      },
      "source": [
        "Another way to do it"
      ]
    },
    {
      "cell_type": "markdown",
      "metadata": {
        "id": "uei3TJGOfgHo"
      },
      "source": [
        ""
      ]
    },
    {
      "cell_type": "code",
      "metadata": {
        "colab": {
          "base_uri": "https://localhost:8080/"
        },
        "id": "723OKkRRPfJj",
        "outputId": "6af8d8fb-c563-44d4-9b84-98b35a6dd108"
      },
      "source": [
        "number=int(input(\"Ingrese un numero entero\"))\r\n",
        "lis=[]\r\n",
        "i=0\r\n",
        "while i<number:\r\n",
        "  i=i+1\r\n",
        "  if i % 2 != 0: \r\n",
        "    lis.append(i)\r\n",
        "print(lis)"
      ],
      "execution_count": null,
      "outputs": [
        {
          "output_type": "stream",
          "text": [
            "Ingrese un numero entero15\n",
            "[1, 3, 5, 7, 9, 11, 13, 15]\n"
          ],
          "name": "stdout"
        }
      ]
    },
    {
      "cell_type": "markdown",
      "metadata": {
        "id": "Jks1rrSDgj7I"
      },
      "source": [
        "Ejercicio 4\r\n",
        "Escribir un programa que pida al usuario un número entero positivo y muestre por pantalla la cuenta atrás desde ese número hasta cero separados por comas."
      ]
    },
    {
      "cell_type": "code",
      "metadata": {
        "colab": {
          "base_uri": "https://localhost:8080/"
        },
        "id": "C85YoEWwghZX",
        "outputId": "7bcffe94-f50f-4143-c07e-5dbcf3f2aecc"
      },
      "source": [
        "number=int(input(\"Ingrese un numbero entero\"))\r\n",
        "for i in range (number,0,-1):\r\n",
        "  print(i,end=\",\")\r\n"
      ],
      "execution_count": null,
      "outputs": [
        {
          "output_type": "stream",
          "text": [
            "Ingrese un numbero entero9\n",
            "9,8,7,6,5,4,3,2,1,"
          ],
          "name": "stdout"
        }
      ]
    },
    {
      "cell_type": "code",
      "metadata": {
        "id": "07oyZokFttqS"
      },
      "source": [
        ""
      ],
      "execution_count": null,
      "outputs": []
    }
  ]
}