{
  "nbformat": 4,
  "nbformat_minor": 0,
  "metadata": {
    "colab": {
      "name": "Programacion funcional",
      "provenance": [],
      "authorship_tag": "ABX9TyMhRHc/fLi75vbYTq0d6zSn",
      "include_colab_link": true
    },
    "kernelspec": {
      "name": "python3",
      "display_name": "Python 3"
    }
  },
  "cells": [
    {
      "cell_type": "markdown",
      "metadata": {
        "id": "view-in-github",
        "colab_type": "text"
      },
      "source": [
        "<a href=\"https://colab.research.google.com/github/cate1285/Catesecondtime/blob/main/Programacion_funcional.ipynb\" target=\"_parent\"><img src=\"https://colab.research.google.com/assets/colab-badge.svg\" alt=\"Open In Colab\"/></a>"
      ]
    },
    {
      "cell_type": "markdown",
      "metadata": {
        "id": "5cMnh3tIuj4L"
      },
      "source": [
        "\r\n",
        "Ejercicio 1\r\n",
        "Escribir una función que aplique un descuento a un precio y otra que aplique el IVA a un precio. Escribir una tercera función que reciba un diccionario con los precios y porcentajes de una cesta de la compra, y una de las funciones anteriores, y utilice la función pasada para aplicar los descuentos o el IVA a los productos de la cesta y devolver el precio final de la cesta.**texto en negrita**"
      ]
    },
    {
      "cell_type": "code",
      "metadata": {
        "colab": {
          "base_uri": "https://localhost:8080/"
        },
        "id": "Qg3Urv-6umLe",
        "outputId": "500eb4d7-b8ee-4b8c-f266-73868b8db2dd"
      },
      "source": [
        "def desc(precio,descuento):\r\n",
        "  return precio- precio * descuento/100\r\n",
        "\r\n",
        "def iva(precio, iv):\r\n",
        "  return precio+precio * iv/100\r\n",
        "\r\n",
        "def pbasket(basket, funtion):\r\n",
        "  count=0\r\n",
        "  for price,discount in basket.items():\r\n",
        "      count+= funtion(price,discount)\r\n",
        "  return count\r\n",
        "print(pbasket({1000:20, 500:10, 100:1},desc))\r\n",
        "print(pbasket({1000:20, 500:10, 100:1},iva))"
      ],
      "execution_count": 10,
      "outputs": [
        {
          "output_type": "stream",
          "text": [
            "1349.0\n",
            "1851.0\n"
          ],
          "name": "stdout"
        }
      ]
    },
    {
      "cell_type": "markdown",
      "metadata": {
        "id": "maLmB4DGyxQU"
      },
      "source": [
        "Ejercicio 2\r\n",
        "Escribir una función que simule una calculadora científica que permita calcular el seno, coseno, tangente, exponencial y logaritmo neperiano. La función preguntará al usuario el valor y la función a aplicar, y mostrará por pantalla una tabla con los enteros de 1 al valor introducido y el resultado de aplicar la función a esos enteros.\r\n",
        "\r\n",
        "Importante\r\n",
        "\r\n",
        "¿Que debemos de hacer?\r\n",
        "calculadora cientifica que calcule el seno, coseno, tangente, exponencial y logaritmo neperiano. \r\n",
        "\r\n",
        "¿Como lo debemos de hacer?\r\n",
        "\r\n",
        "Implementación\r\n",
        "\r\n",
        "Pruebas\r\n",
        "\r\n",
        "Lanzamiento\r\n",
        "\r\n",
        "Leer https://www.oma.org.ar/invydoc/docs-libro/apuntes.pdf\r\n"
      ]
    },
    {
      "cell_type": "code",
      "metadata": {
        "colab": {
          "base_uri": "https://localhost:8080/"
        },
        "id": "499bGBnpxdBc",
        "outputId": "7152d7aa-6ad0-44ec-effa-6a21f31e3973"
      },
      "source": [
        "from math import sin,cos,tan,exp,log\r\n",
        "\r\n",
        "def inf(f,n):\r\n",
        "  funciones= {\"seno\":sin,\"coseno\":cos, \"tangente\":tan, \"Exponencial\":exp, \"logaritmo neperiano\":log}\r\n",
        "  di={}\r\n",
        "  for i in range(1,n+1-1):\r\n",
        "    di[i]=funciones[f](i)\r\n",
        "  return di\r\n",
        "\r\n",
        "def calculator():\r\n",
        "  f=input(\"ingrese la funcion a ejecutar\")\r\n",
        "  n=int(input(\"ingrese un numero \"))\r\n",
        "\r\n",
        "  for i,j in inf(f,n).items():\r\n",
        "    print(i,\"\\t\",j)\r\n",
        "  return\r\n",
        "calculator()\r\n"
      ],
      "execution_count": 7,
      "outputs": [
        {
          "output_type": "stream",
          "text": [
            "ingrese la funcion a ejecutarcoseno\n",
            "ingrese un numero 10\n",
            "1 \t 0.5403023058681398\n",
            "2 \t -0.4161468365471424\n",
            "3 \t -0.9899924966004454\n",
            "4 \t -0.6536436208636119\n",
            "5 \t 0.28366218546322625\n",
            "6 \t 0.960170286650366\n",
            "7 \t 0.7539022543433046\n",
            "8 \t -0.14550003380861354\n",
            "9 \t -0.9111302618846769\n"
          ],
          "name": "stdout"
        }
      ]
    },
    {
      "cell_type": "markdown",
      "metadata": {
        "id": "n-N7d_RfFysl"
      },
      "source": [
        "Ejercicio 3\r\n",
        "Escribir una función que reciba otra función y una lista, y devuelva otra lista con el resultado de aplicar la función dada a cada uno de los elementos de la lista."
      ]
    },
    {
      "cell_type": "code",
      "metadata": {
        "colab": {
          "base_uri": "https://localhost:8080/"
        },
        "id": "r6pS2Q2eEyLh",
        "outputId": "90887714-af60-4840-9cfe-33096b9034c2"
      },
      "source": [
        "\r\n",
        "def second(lis):\r\n",
        "  li=[]\r\n",
        "  count=1\r\n",
        "  while True:\r\n",
        "    for i in lis:\r\n",
        "      x=i**2\r\n",
        "      count=i+1\r\n",
        "      li.append(x) \r\n",
        "    return li\r\n",
        "  print(li)\r\n",
        "print(second([1,2,3,4,5]))\r\n",
        "\r\n"
      ],
      "execution_count": 45,
      "outputs": [
        {
          "output_type": "stream",
          "text": [
            "[1, 4, 9, 16, 25]\n"
          ],
          "name": "stdout"
        }
      ]
    },
    {
      "cell_type": "code",
      "metadata": {
        "colab": {
          "base_uri": "https://localhost:8080/"
        },
        "id": "fMcKoBYvI-m8",
        "outputId": "d3554b7b-4241-48aa-add6-9ed61eb8a7f9"
      },
      "source": [
        "\r\n",
        "def second(fun,lis):\r\n",
        "\r\n",
        "  li=[]\r\n",
        "  for i in lis:\r\n",
        "    li.append(fun(i))\r\n",
        "  return li\r\n",
        "\r\n",
        "def cuadra(n):\r\n",
        "  return n**2\r\n",
        "print(second(cuadra,[1,2,3,4,5]))\r\n",
        "\r\n"
      ],
      "execution_count": 46,
      "outputs": [
        {
          "output_type": "stream",
          "text": [
            "[1, 4, 9, 16, 25]\n"
          ],
          "name": "stdout"
        }
      ]
    },
    {
      "cell_type": "markdown",
      "metadata": {
        "id": "bN7XXdwJRGp3"
      },
      "source": [
        "Ejercicio 4\r\n",
        "Escribir una función que reciba otra función booleana y una lista, y devuelva otra lista con los elementos de la lista que devuelvan True al aplicarles la función booleana."
      ]
    },
    {
      "cell_type": "code",
      "metadata": {
        "colab": {
          "base_uri": "https://localhost:8080/"
        },
        "id": "DnXZ2FAqRHeB",
        "outputId": "62d9580d-2855-41ab-da5c-12f039c03838"
      },
      "source": [
        "def bolean_exercise(list):\r\n",
        "  x=5\r\n",
        "  li=[]\r\n",
        "  while True:\r\n",
        "    count=1\r\n",
        "    for i in list:\r\n",
        "      if i >x:\r\n",
        "        li.append(i)\r\n",
        "        count=i+1\r\n",
        "    return li\r\n",
        "print(bolean_exercise([1,2,3,4,5,6,7,8,9,10]))"
      ],
      "execution_count": 52,
      "outputs": [
        {
          "output_type": "stream",
          "text": [
            "[6, 7, 8, 9, 10]\n"
          ],
          "name": "stdout"
        }
      ]
    },
    {
      "cell_type": "code",
      "metadata": {
        "colab": {
          "base_uri": "https://localhost:8080/"
        },
        "id": "qhKzxJcuTvte",
        "outputId": "56344ca3-d787-49e4-dd22-950e7698f1c3"
      },
      "source": [
        "def bolean_exercise(function,l):\r\n",
        " \r\n",
        "  li=[]\r\n",
        "  for i in l:\r\n",
        "    if (function(i)):\r\n",
        "      li.append(i)\r\n",
        "  return li\r\n",
        "\r\n",
        "def bolean_function(i):\r\n",
        "  return i > 5\r\n",
        "    \r\n",
        "\r\n",
        "print(bolean_exercise(bolean_function,[1,2,3,4,5,6,7,8,9,10]))\r\n"
      ],
      "execution_count": 71,
      "outputs": [
        {
          "output_type": "stream",
          "text": [
            "[6, 7, 8, 9, 10]\n"
          ],
          "name": "stdout"
        }
      ]
    },
    {
      "cell_type": "markdown",
      "metadata": {
        "id": "l988z5PWdZU9"
      },
      "source": [
        "Ejercicio 5\r\n",
        "Escribir una función que reciba una frase y devuelva un diccionario con las palabras que contiene y su longitud."
      ]
    },
    {
      "cell_type": "code",
      "metadata": {
        "colab": {
          "base_uri": "https://localhost:8080/"
        },
        "id": "tCp6UHSPhjV-",
        "outputId": "cf4b5faf-c97f-49f2-fac0-615f1d360631"
      },
      "source": [
        "def fun (frase):\r\n",
        "  \r\n",
        "  wor=frase.split()\r\n",
        "  le=map(len,wor)\r\n",
        "  return dict(zip(wor,le))\r\n",
        "\r\n",
        "\r\n",
        "print(fun(\"la marea esta alta\"))\r\n"
      ],
      "execution_count": 94,
      "outputs": [
        {
          "output_type": "stream",
          "text": [
            "{'la': 2, 'marea': 5, 'esta': 4, 'alta': 4}\n"
          ],
          "name": "stdout"
        }
      ]
    },
    {
      "cell_type": "markdown",
      "metadata": {
        "id": "X7_XuWSuoCU6"
      },
      "source": [
        "Ejercicio 6\r\n",
        "Escribir una función reciba una lista de notas y devuelva la lista de calificaciones correspondientes a esas notas."
      ]
    },
    {
      "cell_type": "code",
      "metadata": {
        "colab": {
          "base_uri": "https://localhost:8080/"
        },
        "id": "VbDMeYwejY9V",
        "outputId": "3d01a2ba-3400-4a1f-ff84-59f1cb90f17b"
      },
      "source": [
        "def fun(li):\r\n",
        "  nota=\"\"\r\n",
        "  lis=[]\r\n",
        "  x=1\r\n",
        "  while x>0:\r\n",
        "    for i in li:\r\n",
        "      if i ==5:\r\n",
        "        nota=\"Excelente\"\r\n",
        "      elif i>=3 and i <5:\r\n",
        "        nota=\"Aceptable\"\r\n",
        "      elif i<3:\r\n",
        "        nota=\"Inaceptable\"\r\n",
        "      else:\r\n",
        "        nota=\"Ingrese una nota valida\"\r\n",
        "      lis.append(nota)\r\n",
        "    return lis\r\n",
        "  print(lis)\r\n",
        "print(fun([8,3,2]))"
      ],
      "execution_count": 121,
      "outputs": [
        {
          "output_type": "stream",
          "text": [
            "['Ingrese una nota valida', 'Aceptable', 'Inaceptable']\n"
          ],
          "name": "stdout"
        }
      ]
    },
    {
      "cell_type": "markdown",
      "metadata": {
        "id": "aImETpelvY0g"
      },
      "source": [
        "Another way to do it \r\n"
      ]
    },
    {
      "cell_type": "code",
      "metadata": {
        "colab": {
          "base_uri": "https://localhost:8080/"
        },
        "id": "yMOrGEyUqmM7",
        "outputId": "ed8c0ab0-760b-45bf-e6af-679dde1c5ad0"
      },
      "source": [
        "def grades(x):\r\n",
        "  if x < 5:\r\n",
        "     return 'SS'\r\n",
        "  elif x < 7:\r\n",
        "     return 'AP'\r\n",
        "  elif x < 9:\r\n",
        "     return 'NT'\r\n",
        "  elif x < 10:\r\n",
        "     return 'SB'\r\n",
        "  else:\r\n",
        "     return 'MH'\r\n",
        "\r\n",
        "\r\n",
        "def score(y):\r\n",
        "  return list(map(grades,y))\r\n",
        "\r\n",
        "\r\n",
        "\r\n",
        "print(score([5,6,7,8,10]))"
      ],
      "execution_count": 125,
      "outputs": [
        {
          "output_type": "stream",
          "text": [
            "['AP', 'AP', 'NT', 'NT', 'MH']\n"
          ],
          "name": "stdout"
        }
      ]
    },
    {
      "cell_type": "markdown",
      "metadata": {
        "id": "jVODANdUzY_A"
      },
      "source": [
        "Solucion 3"
      ]
    },
    {
      "cell_type": "code",
      "metadata": {
        "colab": {
          "base_uri": "https://localhost:8080/"
        },
        "id": "ZfxDGQelysA0",
        "outputId": "91717079-e04c-4864-aa10-7290626bff7c"
      },
      "source": [
        "def grade(score):\r\n",
        "    if score < 5:\r\n",
        "        return 'SS'\r\n",
        "    elif score < 7:\r\n",
        "        return 'AP'\r\n",
        "    elif score < 9:\r\n",
        "        return 'NT'\r\n",
        "    elif score < 10:\r\n",
        "        return 'SB'\r\n",
        "    else:\r\n",
        "        return 'MH'\r\n",
        "\r\n",
        "def apply_grade(scores):\r\n",
        "\r\n",
        "    return [grade(x) for x in scores]\r\n",
        "\r\n",
        "print(apply_grade([6.5, 5, 3.4, 8.2, 2.1, 9.7, 10]))"
      ],
      "execution_count": 126,
      "outputs": [
        {
          "output_type": "stream",
          "text": [
            "['AP', 'AP', 'SS', 'NT', 'SS', 'SB', 'MH']\n"
          ],
          "name": "stdout"
        }
      ]
    },
    {
      "cell_type": "markdown",
      "metadata": {
        "id": "sQXyELvFziRV"
      },
      "source": [
        "Ejercicio 7\r\n",
        "Escribir una función reciba un diccionario con las asignaturas y las notas de un alumno y devuelva otro diccionario con las asignaturas en mayúsculas y las calificaciones correspondientes a las notas."
      ]
    },
    {
      "cell_type": "code",
      "metadata": {
        "colab": {
          "base_uri": "https://localhost:8080/"
        },
        "id": "a8m8K0olzcZL",
        "outputId": "f152b2e5-8b65-4312-c987-b84a9fdb9754"
      },
      "source": [
        "def grade(score):\r\n",
        "    if score < 5:\r\n",
        "        return 'SS'\r\n",
        "    elif score < 7:\r\n",
        "        return 'AP'\r\n",
        "    elif score < 9:\r\n",
        "        return 'NT'\r\n",
        "    elif score < 10:\r\n",
        "        return 'SB'\r\n",
        "    else:\r\n",
        "        return 'MH'\r\n",
        "\r\n",
        "def fun (notas):\r\n",
        "  \r\n",
        "  subjects=map(str.upper,notas.keys())\r\n",
        "  sores=map(grade,notas.values())\r\n",
        "\r\n",
        "  return dict(zip(subjects,sores))\r\n",
        "\r\n",
        "\r\n",
        "\r\n",
        "print(fun({\"matematicas\":10,\"fisica\":8 ,\"Quimica\":2}))\r\n"
      ],
      "execution_count": 130,
      "outputs": [
        {
          "output_type": "stream",
          "text": [
            "{'MATEMATICAS': 'MH', 'FISICA': 'NT', 'QUIMICA': 'SS'}\n"
          ],
          "name": "stdout"
        }
      ]
    },
    {
      "cell_type": "markdown",
      "metadata": {
        "id": "0zNwo0TfKyfa"
      },
      "source": [
        "Ejercicio 8\r\n",
        "Escribir una función reciba un diccionario con las asignaturas y las notas de un alumno y devuelva otro diccionario con las asignaturas en mayúsculas y las calificaciones correspondientes a las notas aprobadas.\r\n",
        "\r\n",
        "\r\n"
      ]
    },
    {
      "cell_type": "code",
      "metadata": {
        "colab": {
          "base_uri": "https://localhost:8080/"
        },
        "id": "DhJ4QpxMGakV",
        "outputId": "8227f0e6-fad9-4c71-9a71-4704562fc3db"
      },
      "source": [
        "def eje (i):\r\n",
        "  if i ==5:\r\n",
        "    return \"Excelente\"\r\n",
        "  elif i>=3 and i <5:\r\n",
        "    return \"Aceptable\"\r\n",
        "  elif i<3:\r\n",
        "    return \"Inaceptable\"\r\n",
        "  else:\r\n",
        "    return \"Ingrese una nota valida\"\r\n",
        "  \r\n",
        "def ejes(notas):\r\n",
        "    return (notas[1] >=5 and notas[1] <=5)\r\n",
        "\r\n",
        "def fil(filtter):\r\n",
        "  passed=dict(filter(ejes,filtter.items()))\r\n",
        "  mayuscula=map(str.upper,passed.keys())\r\n",
        "  nota=map(eje,passed.values())\r\n",
        "  y=dict(zip(mayuscula,nota))\r\n",
        "  return y\r\n",
        "\r\n",
        "\r\n",
        "  \r\n",
        "print(fil({\"fisica\":5,\"matematicas\":3,\"ciencias\":9}))"
      ],
      "execution_count": 158,
      "outputs": [
        {
          "output_type": "stream",
          "text": [
            "{'FISICA': 'Excelente'}\n"
          ],
          "name": "stdout"
        }
      ]
    },
    {
      "cell_type": "code",
      "metadata": {
        "colab": {
          "base_uri": "https://localhost:8080/"
        },
        "id": "HRP7rxrHO3nP",
        "outputId": "2946b921-5f04-406f-f682-c0fc15964e04"
      },
      "source": [
        "def grade(score):\r\n",
        "    \r\n",
        "    if score < 5:\r\n",
        "        return 'SS'\r\n",
        "    elif score < 7:\r\n",
        "        return 'AP'\r\n",
        "    elif score < 9:\r\n",
        "        return 'NT'\r\n",
        "    elif score < 10:\r\n",
        "        return 'SB'\r\n",
        "    else:\r\n",
        "        return 'MH'\r\n",
        "\r\n",
        "def passed_subject(subject):\r\n",
        "   \r\n",
        "    return (subject[1] >= 5)\r\n",
        "\r\n",
        "\r\n",
        "def apply_grade(scores):\r\n",
        "    \r\n",
        "    passed = dict(filter(passed_subject, scores.items()))\r\n",
        "    subjects = map(str.upper, passed.keys())\r\n",
        "    grades = map(grade, passed.values())\r\n",
        "    return dict(zip(subjects, grades))\r\n",
        "\r\n",
        "print(apply_grade({'Matemáticas':0, 'Física':5, 'Química':3.4, 'Economía':8.2, 'Historia':9.7, 'Programación':10}))"
      ],
      "execution_count": 159,
      "outputs": [
        {
          "output_type": "stream",
          "text": [
            "{'FÍSICA': 'AP', 'ECONOMÍA': 'NT', 'HISTORIA': 'SB', 'PROGRAMACIÓN': 'MH'}\n"
          ],
          "name": "stdout"
        }
      ]
    },
    {
      "cell_type": "markdown",
      "metadata": {
        "id": "jjobCEJReP9Q"
      },
      "source": [
        "Ejercicio\r\n",
        "Escribir una función que calcule el módulo de un vector."
      ]
    },
    {
      "cell_type": "code",
      "metadata": {
        "colab": {
          "base_uri": "https://localhost:8080/"
        },
        "id": "sZ_gMad4acSk",
        "outputId": "7e08f90f-d783-4afa-faeb-039aaae9869e"
      },
      "source": [
        "def sum_square(x, y):\r\n",
        "    \r\n",
        "    return x + y ** 2\r\n",
        "\r\n",
        "def module(v):\r\n",
        " \r\n",
        "    from functools import reduce\r\n",
        "    return reduce(sum_square, v, 0) ** 0.5\r\n",
        "\r\n",
        "print(module((3, 4)))\r\n",
        "print(module((1, 2, 3)))"
      ],
      "execution_count": 187,
      "outputs": [
        {
          "output_type": "stream",
          "text": [
            "5.0\n",
            "3.7416573867739413\n"
          ],
          "name": "stdout"
        }
      ]
    },
    {
      "cell_type": "markdown",
      "metadata": {
        "id": "H24LMH9TiEc0"
      },
      "source": [
        "Ejercicio\r\n",
        "Una inmobiliaria de una ciudad maneja una lista de inmuebles como la siguiente:\r\n",
        "\r\n",
        "[{'año': 2000, 'metros': 100, 'habitaciones': 3, 'garaje': True, 'zona': 'A'}, {'año': 2012, 'metros': 60, 'habitaciones': 2, 'garaje': True, 'zona': 'B'}, {'año': 1980, 'metros': 120, 'habitaciones': 4, 'garaje': False, 'zona': 'A'}, {'año': 2005, 'metros': 75, 'habitaciones': 3, 'garaje': True, 'zona': 'B'}, {'año': 2015, 'metros': 90, 'habitaciones': 2, 'garaje': False, 'zona': 'A'}]\r\n",
        "\r\n",
        "Construir una función que permita hacer búsqueda de inmuebles en función de un presupuesto dado. La función recibirá como entrada la lista de inmuebles y un precio, y devolverá otra lista con los inmuebles cuyo precio sea menor o igual que el dado. Los inmuebles de la lista que se devuelva deben incorporar un nuevo par a cada diccionario con el precio del inmueble, donde el precio de un inmueble se calcula con las siguiente fórmula en función de la zona:\r\n",
        "\r\n",
        "Zona A: precio = (metros x 1000 + habitaciones x 5000 + garaje x 15000) x (1 - antiguedad / 100)\r\n",
        "\r\n",
        "Zona B: precio = (metros x 1000 + habitaciones x 5000 + garaje x 15000) x (1 - antiguedad / 100) x 1.5\r\n"
      ]
    },
    {
      "cell_type": "code",
      "metadata": {
        "colab": {
          "base_uri": "https://localhost:8080/"
        },
        "id": "3rneHiGts9xZ",
        "outputId": "a66c6fa4-4a67-414a-fb9e-03f8006ffdb6"
      },
      "source": [
        "inf= [{\"año\": 2000, \"metros\": 100, \"habitaciones\": 3, \"garaje\": True, \"zona\": \"A\"}, {\"año\": 2012, \"metros\": 60, \"habitaciones\": 2, \"garaje\": True, \"zona\": \"B\"}, {\"año\": 1980, \"metros\": 120, \"habitaciones\": 4, \"garaje\": False, \"zona\": \"A\"}, {\"año\": 2005, \"metros\": 75, \"habitaciones\": 3, \"garaje\": True, \"zona\": \"B\"}, {\"año\": 2015, \"metros\": 90, \"habitaciones\": 2, \"garaje\": False, \"zona\": \"A\"}]\r\n",
        "def precios_first(x):\r\n",
        "  precio=(x[\"metros\"]*1000 + x[\"habitaciones\"]*5000+ int(x[\"garaje\"])*15000)*(1-(2021-x[\"año\"])/100)\r\n",
        "  if x[\"zona\"]==\"B\":\r\n",
        "    precio*1.5\r\n",
        "  x[\"precio\"]=precio\r\n",
        "  return x\r\n",
        "\r\n",
        "def busqueda(inf,presupuesto):\r\n",
        "  def filtro (x):\r\n",
        "      return x[\"precio\"]<=presupuesto\r\n",
        "\r\n",
        "  return list(filter( filtro,map(precios_first,inf)))\r\n",
        "print(busqueda(inf,500000))\r\n",
        "\r\n"
      ],
      "execution_count": 194,
      "outputs": [
        {
          "output_type": "stream",
          "text": [
            "[{'año': 2000, 'metros': 100, 'habitaciones': 3, 'garaje': True, 'zona': 'A', 'precio': 102700.0}, {'año': 2012, 'metros': 60, 'habitaciones': 2, 'garaje': True, 'zona': 'B', 'precio': 77350.0}, {'año': 1980, 'metros': 120, 'habitaciones': 4, 'garaje': False, 'zona': 'A', 'precio': 82600.00000000001}, {'año': 2005, 'metros': 75, 'habitaciones': 3, 'garaje': True, 'zona': 'B', 'precio': 88200.0}, {'año': 2015, 'metros': 90, 'habitaciones': 2, 'garaje': False, 'zona': 'A', 'precio': 94000.0}]\n"
          ],
          "name": "stdout"
        }
      ]
    },
    {
      "cell_type": "markdown",
      "metadata": {
        "id": "D2AHWFRj-gF2"
      },
      "source": [
        "Ejercicio 11\r\n",
        "Escribir una función que reciba una muestra de números y devuelva los valores atípicos, es decir, los valores cuya puntuación típica sea mayor que 3 o menor que -3. Nota: La puntuación típica de un valor se obtiene restando la media y dividiendo por la desviación típica de la muestra."
      ]
    },
    {
      "cell_type": "code",
      "metadata": {
        "colab": {
          "base_uri": "https://localhost:8080/"
        },
        "id": "8BcTZZka8Dsq",
        "outputId": "11038b60-3168-465e-e33e-913e9256d6f3"
      },
      "source": [
        "from statistics import mean, stdev\r\n",
        "\r\n",
        "def atipico(muestra):\r\n",
        "    media = mean(muestra)\r\n",
        "    desviacion = stdev(muestra)\r\n",
        "    def f(n):\r\n",
        "        puntuacion = (n - media) / desviacion\r\n",
        "        return (puntuacion < -3) or (puntuacion > 3)\r\n",
        "    return f\r\n",
        "\r\n",
        "def datos_atipicos(muestra):\r\n",
        "    return list(filter(atipico(muestra), muestra))\r\n",
        "\r\n",
        "print(datos_atipicos([1, 2, 3, 4, 5, 6, 7, 8, 9,10, 1000]))"
      ],
      "execution_count": 195,
      "outputs": [
        {
          "output_type": "stream",
          "text": [
            "[1000]\n"
          ],
          "name": "stdout"
        }
      ]
    },
    {
      "cell_type": "code",
      "metadata": {
        "id": "tUWfrvQoCHwV"
      },
      "source": [
        ""
      ],
      "execution_count": null,
      "outputs": []
    }
  ]
}